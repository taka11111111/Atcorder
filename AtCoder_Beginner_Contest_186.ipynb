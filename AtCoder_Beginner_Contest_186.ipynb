{
  "nbformat": 4,
  "nbformat_minor": 0,
  "metadata": {
    "colab": {
      "name": "AtCoder Beginner Contest 186",
      "provenance": [],
      "collapsed_sections": [],
      "toc_visible": true,
      "authorship_tag": "ABX9TyMzp0BcJ+55ymwRvpaK4GNy",
      "include_colab_link": true
    },
    "kernelspec": {
      "name": "python3",
      "display_name": "Python 3"
    }
  },
  "cells": [
    {
      "cell_type": "markdown",
      "metadata": {
        "id": "view-in-github",
        "colab_type": "text"
      },
      "source": [
        "<a href=\"https://colab.research.google.com/github/taka11111111/Atcorder/blob/main/AtCoder_Beginner_Contest_186.ipynb\" target=\"_parent\"><img src=\"https://colab.research.google.com/assets/colab-badge.svg\" alt=\"Open In Colab\"/></a>"
      ]
    },
    {
      "cell_type": "markdown",
      "metadata": {
        "id": "FZzFj60j7tDR"
      },
      "source": [
        "#[A - Brick](https://atcoder.jp/contests/abc186/tasks/abc186_a)"
      ]
    },
    {
      "cell_type": "code",
      "metadata": {
        "id": "d_wax1sVzXP_"
      },
      "source": [
        "10 3"
      ],
      "execution_count": null,
      "outputs": []
    },
    {
      "cell_type": "code",
      "metadata": {
        "colab": {
          "base_uri": "https://localhost:8080/"
        },
        "id": "7HcGyEty73N2",
        "outputId": "fc0bff96-d5d9-4799-d732-fcd7dfff00e1"
      },
      "source": [
        "A,B = map(int,input().split())\r\n",
        "C = A//B\r\n",
        "print(C)"
      ],
      "execution_count": null,
      "outputs": [
        {
          "output_type": "stream",
          "text": [
            "10 3\n",
            "3\n"
          ],
          "name": "stdout"
        }
      ]
    },
    {
      "cell_type": "markdown",
      "metadata": {
        "id": "w74os4gC8QmO"
      },
      "source": [
        "#[B - Blocks on Grid](https://atcoder.jp/contests/abc186/tasks/abc186_b)"
      ]
    },
    {
      "cell_type": "code",
      "metadata": {
        "id": "aehrHbeH8C2f"
      },
      "source": [
        "2 3\r\n",
        "2 2 3\r\n",
        "3 2 2"
      ],
      "execution_count": null,
      "outputs": []
    },
    {
      "cell_type": "code",
      "metadata": {
        "colab": {
          "base_uri": "https://localhost:8080/"
        },
        "id": "HnFqMcdW8c-n",
        "outputId": "8c8c7d07-463c-4479-8785-ad7a52aaf55e"
      },
      "source": [
        "x,y = map(int,input().split())\r\n",
        "z = []\r\n",
        "[z.extend(list(map(int,input().split()))) for i in range(x) ]\r\n",
        "print(z)"
      ],
      "execution_count": null,
      "outputs": [
        {
          "output_type": "stream",
          "text": [
            "2 3\n",
            "2 2 3\n",
            "3 2 2\n",
            "[2, 2, 3, 3, 2, 2]\n"
          ],
          "name": "stdout"
        }
      ]
    },
    {
      "cell_type": "code",
      "metadata": {
        "id": "BcCl6kJg9EfH"
      },
      "source": [
        "import collections\r\n",
        "c = collections.Counter(z)"
      ],
      "execution_count": null,
      "outputs": []
    },
    {
      "cell_type": "code",
      "metadata": {
        "colab": {
          "base_uri": "https://localhost:8080/"
        },
        "id": "CynrYHe79tIs",
        "outputId": "93635429-0cf3-4796-a31d-6681ffb0d5bb"
      },
      "source": [
        "c.most_common()"
      ],
      "execution_count": null,
      "outputs": [
        {
          "output_type": "execute_result",
          "data": {
            "text/plain": [
              "[(2, 4), (3, 2)]"
            ]
          },
          "metadata": {
            "tags": []
          },
          "execution_count": 36
        }
      ]
    },
    {
      "cell_type": "code",
      "metadata": {
        "colab": {
          "base_uri": "https://localhost:8080/"
        },
        "id": "6LfGc3Q2_uCo",
        "outputId": "1ae704c4-240a-4e73-8f70-74a7e2d755d2"
      },
      "source": [
        "a = min(c)\r\n",
        "a"
      ],
      "execution_count": null,
      "outputs": [
        {
          "output_type": "execute_result",
          "data": {
            "text/plain": [
              "2"
            ]
          },
          "metadata": {
            "tags": []
          },
          "execution_count": 37
        }
      ]
    },
    {
      "cell_type": "code",
      "metadata": {
        "colab": {
          "base_uri": "https://localhost:8080/"
        },
        "id": "dos3lw20DqAx",
        "outputId": "99c7ea0d-1ecd-4579-9b9d-3cca29f8d9f1"
      },
      "source": [
        "b = 0\r\n",
        "for i in c:\r\n",
        "  b += (i-a)*c[i]\r\n",
        "print(b)"
      ],
      "execution_count": null,
      "outputs": [
        {
          "output_type": "stream",
          "text": [
            "2\n"
          ],
          "name": "stdout"
        }
      ]
    },
    {
      "cell_type": "markdown",
      "metadata": {
        "id": "Fmmk_9r0Hfmv"
      },
      "source": [
        "こんなもんかな？"
      ]
    },
    {
      "cell_type": "code",
      "metadata": {
        "id": "4Ck22qkrHfVY"
      },
      "source": [
        "3 3\r\n",
        "99 99 99\r\n",
        "99 0 99\r\n",
        "99 99 99\r\n"
      ],
      "execution_count": null,
      "outputs": []
    },
    {
      "cell_type": "code",
      "metadata": {
        "colab": {
          "base_uri": "https://localhost:8080/"
        },
        "id": "x8cHoT7pEb18",
        "outputId": "06fb0cf0-7e8e-410e-ce76-656089318d6d"
      },
      "source": [
        "x,y = map(int,input().split())\r\n",
        "z = []\r\n",
        "[z.extend(list(map(int,input().split()))) for i in range(x) ]\r\n",
        "#print(z)\r\n",
        "\r\n",
        "import collections\r\n",
        "c = collections.Counter(z)\r\n",
        "\r\n",
        "a = min(c)\r\n",
        "b = 0\r\n",
        "for i in c:\r\n",
        "  b += (i-a)*c[i]\r\n",
        "print(b)"
      ],
      "execution_count": null,
      "outputs": [
        {
          "output_type": "stream",
          "text": [
            "3 3\n",
            "99 99 99\n",
            "99 0 99\n",
            "99 99 99\n",
            "[99, 99, 99, 99, 0, 99, 99, 99, 99]\n",
            "792\n"
          ],
          "name": "stdout"
        }
      ]
    },
    {
      "cell_type": "markdown",
      "metadata": {
        "id": "nPyRJZNQIQNf"
      },
      "source": [
        "できた！\r\n",
        "\r\n",
        "#[C - Unlucky 7](https://atcoder.jp/contests/abc186/tasks/abc186_c)"
      ]
    },
    {
      "cell_type": "code",
      "metadata": {
        "id": "Q5dwY97MEhea"
      },
      "source": [
        "20"
      ],
      "execution_count": null,
      "outputs": []
    },
    {
      "cell_type": "code",
      "metadata": {
        "colab": {
          "base_uri": "https://localhost:8080/"
        },
        "id": "UxZBmR27IgiG",
        "outputId": "32975cb0-f97e-49b0-e13d-0ce6883c0981"
      },
      "source": [
        "N = int(input())"
      ],
      "execution_count": null,
      "outputs": [
        {
          "output_type": "stream",
          "text": [
            "20\n"
          ],
          "name": "stdout"
        }
      ]
    },
    {
      "cell_type": "markdown",
      "metadata": {
        "id": "pYelwH5aUosJ"
      },
      "source": [
        "8進数ってどうやるんだろう？\r\n",
        "\r\n",
        "これかな？\r\n",
        "\r\n",
        "[Pythonで2進数、8進数、16進数の数値・文字列を相互に変換 | note.nkmk.me](https://note.nkmk.me/python-bin-oct-hex-int-format/)"
      ]
    },
    {
      "cell_type": "code",
      "metadata": {
        "colab": {
          "base_uri": "https://localhost:8080/"
        },
        "id": "SVTUEfFkJt_-",
        "outputId": "efa5295b-13ce-4446-9aa6-9d6cfd2fae97"
      },
      "source": [
        "print(bin(N))\r\n",
        "print(oct(N))\r\n",
        "print(hex(N))"
      ],
      "execution_count": null,
      "outputs": [
        {
          "output_type": "stream",
          "text": [
            "0b10100\n",
            "0o24\n",
            "0x14\n"
          ],
          "name": "stdout"
        }
      ]
    },
    {
      "cell_type": "markdown",
      "metadata": {
        "id": "MmIyxPKzUyz0"
      },
      "source": [
        "'7'が含まれているNまでの数字"
      ]
    },
    {
      "cell_type": "code",
      "metadata": {
        "colab": {
          "base_uri": "https://localhost:8080/"
        },
        "id": "ENWtjKkBJ45s",
        "outputId": "8a6038dc-8095-44c5-cb4d-0193a084ea1a"
      },
      "source": [
        "X = [i for i in range(N+1) if '7' in str(i)]\r\n",
        "X"
      ],
      "execution_count": null,
      "outputs": [
        {
          "output_type": "execute_result",
          "data": {
            "text/plain": [
              "[7, 17]"
            ]
          },
          "metadata": {
            "tags": []
          },
          "execution_count": 56
        }
      ]
    },
    {
      "cell_type": "markdown",
      "metadata": {
        "id": "rEepEFnUU-d1"
      },
      "source": [
        "８進数にしてみる。"
      ]
    },
    {
      "cell_type": "code",
      "metadata": {
        "colab": {
          "base_uri": "https://localhost:8080/"
        },
        "id": "oRFP-_5OKpeX",
        "outputId": "4d1b325f-21e9-44dc-8047-94d4f07f8a6a"
      },
      "source": [
        "Y = [int(oct(i)[2:]) for i in range(N+1)]\r\n",
        "Y"
      ],
      "execution_count": null,
      "outputs": [
        {
          "output_type": "execute_result",
          "data": {
            "text/plain": [
              "[0, 1, 2, 3, 4, 5, 6, 7, 10, 11, 12, 13, 14, 15, 16, 17, 20, 21, 22, 23, 24]"
            ]
          },
          "metadata": {
            "tags": []
          },
          "execution_count": 58
        }
      ]
    },
    {
      "cell_type": "markdown",
      "metadata": {
        "id": "fn1atEI2VDTe"
      },
      "source": [
        "ここから７を含む数字をだす"
      ]
    },
    {
      "cell_type": "code",
      "metadata": {
        "colab": {
          "base_uri": "https://localhost:8080/"
        },
        "id": "RBgpgYCpLLq-",
        "outputId": "d8422d7b-bd7b-4a45-8c8c-5200d1bdb3a3"
      },
      "source": [
        "Y = [ str(i) for i in Y if '7' in str(i)]\r\n",
        "Y"
      ],
      "execution_count": null,
      "outputs": [
        {
          "output_type": "execute_result",
          "data": {
            "text/plain": [
              "['7', '17']"
            ]
          },
          "metadata": {
            "tags": []
          },
          "execution_count": 60
        }
      ]
    },
    {
      "cell_type": "markdown",
      "metadata": {
        "id": "1pCwUWRbVHyF"
      },
      "source": [
        "ん？\r\n",
        "\r\n",
        "違う違う、そうじゃない。\r\n",
        "\r\n",
        "こっちかな？"
      ]
    },
    {
      "cell_type": "code",
      "metadata": {
        "id": "4_cKZbHOM9dD"
      },
      "source": [
        "o = 0o17"
      ],
      "execution_count": null,
      "outputs": []
    },
    {
      "cell_type": "code",
      "metadata": {
        "colab": {
          "base_uri": "https://localhost:8080/"
        },
        "id": "pWKKtXRTTBj7",
        "outputId": "ec7ecba8-900c-4924-ef7c-50e679caebe6"
      },
      "source": [
        "print(o)"
      ],
      "execution_count": null,
      "outputs": [
        {
          "output_type": "stream",
          "text": [
            "15\n"
          ],
          "name": "stdout"
        }
      ]
    },
    {
      "cell_type": "code",
      "metadata": {
        "colab": {
          "base_uri": "https://localhost:8080/",
          "height": 136
        },
        "id": "WzFhVMaFXeSd",
        "outputId": "5a44d521-112f-4012-bd2a-110843ae7fbb"
      },
      "source": [
        "i = 17\r\n",
        "0oi"
      ],
      "execution_count": null,
      "outputs": [
        {
          "output_type": "error",
          "ename": "SyntaxError",
          "evalue": "ignored",
          "traceback": [
            "\u001b[0;36m  File \u001b[0;32m\"<ipython-input-78-340cdf55c464>\"\u001b[0;36m, line \u001b[0;32m2\u001b[0m\n\u001b[0;31m    0oi\u001b[0m\n\u001b[0m     ^\u001b[0m\n\u001b[0;31mSyntaxError\u001b[0m\u001b[0;31m:\u001b[0m invalid token\n"
          ]
        }
      ]
    },
    {
      "cell_type": "markdown",
      "metadata": {
        "id": "sgze2jevXr5H"
      },
      "source": [
        "あれ？ダメなの？"
      ]
    },
    {
      "cell_type": "code",
      "metadata": {
        "colab": {
          "base_uri": "https://localhost:8080/",
          "height": 35
        },
        "id": "wCX1rQRLX2vD",
        "outputId": "9e935322-212f-4a48-8422-ae514883181f"
      },
      "source": [
        "oct(i)"
      ],
      "execution_count": null,
      "outputs": [
        {
          "output_type": "execute_result",
          "data": {
            "application/vnd.google.colaboratory.intrinsic+json": {
              "type": "string"
            },
            "text/plain": [
              "'0o21'"
            ]
          },
          "metadata": {
            "tags": []
          },
          "execution_count": 79
        }
      ]
    },
    {
      "cell_type": "code",
      "metadata": {
        "colab": {
          "base_uri": "https://localhost:8080/"
        },
        "id": "D4yiYNvzTrEn",
        "outputId": "d7afbb26-643b-4016-b5cc-b7d6766b1523"
      },
      "source": [
        "print(format(i, 'o'))"
      ],
      "execution_count": null,
      "outputs": [
        {
          "output_type": "stream",
          "text": [
            "21\n"
          ],
          "name": "stdout"
        }
      ]
    },
    {
      "cell_type": "code",
      "metadata": {
        "colab": {
          "base_uri": "https://localhost:8080/"
        },
        "id": "xlIn5wWwVbzT",
        "outputId": "1a4726ff-eb19-4d6e-9280-894fc5b9a270"
      },
      "source": [
        "print(format(17, '#o'))"
      ],
      "execution_count": null,
      "outputs": [
        {
          "output_type": "stream",
          "text": [
            "0o21\n"
          ],
          "name": "stdout"
        }
      ]
    },
    {
      "cell_type": "code",
      "metadata": {
        "colab": {
          "base_uri": "https://localhost:8080/"
        },
        "id": "xuAbu2NRVpAK",
        "outputId": "1dda0589-1f8d-4991-ea7f-92de4cc66615"
      },
      "source": [
        "print(format(17, '08o'))"
      ],
      "execution_count": null,
      "outputs": [
        {
          "output_type": "stream",
          "text": [
            "00000021\n"
          ],
          "name": "stdout"
        }
      ]
    },
    {
      "cell_type": "code",
      "metadata": {
        "colab": {
          "base_uri": "https://localhost:8080/"
        },
        "id": "e_x0WvwoV0WR",
        "outputId": "cf6a36d1-896c-46d1-8c1c-76dade78cc34"
      },
      "source": [
        "print(oct(i))"
      ],
      "execution_count": null,
      "outputs": [
        {
          "output_type": "stream",
          "text": [
            "0o21\n"
          ],
          "name": "stdout"
        }
      ]
    },
    {
      "cell_type": "markdown",
      "metadata": {
        "id": "H8Re6oHFYsiH"
      },
      "source": [
        "一方通行だぞ？？？\r\n",
        "\r\n",
        "他も見てみる。\r\n",
        "\r\n",
        "[Pythonで2進数、8進数、10進数、16進数を相互変換する方法【初心者向け】 | TechAcademyマガジン](https://techacademy.jp/magazine/20611)"
      ]
    },
    {
      "cell_type": "code",
      "metadata": {
        "colab": {
          "base_uri": "https://localhost:8080/"
        },
        "id": "rtcXEPsGYGMl",
        "outputId": "8b6f56f0-b406-457f-981f-c7502ae67a1f"
      },
      "source": [
        "int('17', 8)"
      ],
      "execution_count": null,
      "outputs": [
        {
          "output_type": "execute_result",
          "data": {
            "text/plain": [
              "15"
            ]
          },
          "metadata": {
            "tags": []
          },
          "execution_count": 83
        }
      ]
    },
    {
      "cell_type": "markdown",
      "metadata": {
        "id": "vQutx_snY0PF"
      },
      "source": [
        "できた！\r\n",
        "\r\n",
        "てことは、"
      ]
    },
    {
      "cell_type": "code",
      "metadata": {
        "colab": {
          "base_uri": "https://localhost:8080/"
        },
        "id": "m5Txad-AZkKh",
        "outputId": "92a5050c-f6f6-46d3-8970-3c9f4eb0e5c5"
      },
      "source": [
        "[int(i, 8) for i in Y]"
      ],
      "execution_count": null,
      "outputs": [
        {
          "output_type": "execute_result",
          "data": {
            "text/plain": [
              "[7, 15]"
            ]
          },
          "metadata": {
            "tags": []
          },
          "execution_count": 88
        }
      ]
    },
    {
      "cell_type": "code",
      "metadata": {
        "colab": {
          "base_uri": "https://localhost:8080/"
        },
        "id": "XPmrrLJxYzhc",
        "outputId": "3e347b5f-2852-4c79-ab9d-8335bf1357fa"
      },
      "source": [
        "a = [int(i, 8) for i in Y]\r\n",
        "b = [int(i) for i in Y]\r\n",
        "\r\n",
        "a.extend(b)\r\n",
        "a"
      ],
      "execution_count": null,
      "outputs": [
        {
          "output_type": "execute_result",
          "data": {
            "text/plain": [
              "[7, 15, 7, 17]"
            ]
          },
          "metadata": {
            "tags": []
          },
          "execution_count": 89
        }
      ]
    },
    {
      "cell_type": "markdown",
      "metadata": {
        "id": "-ohIUz9rZ7RV"
      },
      "source": [
        "[Pythonでリスト（配列）から重複した要素を削除・抽出 | note.nkmk.me](https://note.nkmk.me/python-list-unique-duplicate/)"
      ]
    },
    {
      "cell_type": "code",
      "metadata": {
        "colab": {
          "base_uri": "https://localhost:8080/"
        },
        "id": "-7PQCX1VYpBH",
        "outputId": "d4965aab-b723-45d8-f4e7-bce423dae923"
      },
      "source": [
        "set(a)"
      ],
      "execution_count": null,
      "outputs": [
        {
          "output_type": "execute_result",
          "data": {
            "text/plain": [
              "{7, 15, 17}"
            ]
          },
          "metadata": {
            "tags": []
          },
          "execution_count": 90
        }
      ]
    },
    {
      "cell_type": "code",
      "metadata": {
        "colab": {
          "base_uri": "https://localhost:8080/"
        },
        "id": "96KC6tBJZ_xe",
        "outputId": "6b7e7d5a-39f1-42fb-c6e2-283a2fc44d8a"
      },
      "source": [
        "len(set(a))"
      ],
      "execution_count": null,
      "outputs": [
        {
          "output_type": "execute_result",
          "data": {
            "text/plain": [
              "3"
            ]
          },
          "metadata": {
            "tags": []
          },
          "execution_count": 91
        }
      ]
    },
    {
      "cell_type": "markdown",
      "metadata": {
        "id": "Akxk3uh3aGSY"
      },
      "source": [
        "いい感じ！\r\n",
        "\r\n",
        "まとめる。"
      ]
    },
    {
      "cell_type": "code",
      "metadata": {
        "colab": {
          "base_uri": "https://localhost:8080/"
        },
        "id": "H3y586ZlaDkp",
        "outputId": "e7c39b9f-b89a-40bc-b2d3-b9877df79831"
      },
      "source": [
        "a = [i for i in range(N+1) if '7' in str(i)]\r\n",
        "a"
      ],
      "execution_count": null,
      "outputs": [
        {
          "output_type": "execute_result",
          "data": {
            "text/plain": [
              "[7, 17]"
            ]
          },
          "metadata": {
            "tags": []
          },
          "execution_count": 95
        }
      ]
    },
    {
      "cell_type": "code",
      "metadata": {
        "colab": {
          "base_uri": "https://localhost:8080/"
        },
        "id": "24OIMXGBaaoW",
        "outputId": "51410315-d3f6-4f75-d335-5d0de3623458"
      },
      "source": [
        "b = [int(str(i), 8) for i in a]\r\n",
        "b"
      ],
      "execution_count": null,
      "outputs": [
        {
          "output_type": "execute_result",
          "data": {
            "text/plain": [
              "[7, 15]"
            ]
          },
          "metadata": {
            "tags": []
          },
          "execution_count": 96
        }
      ]
    },
    {
      "cell_type": "code",
      "metadata": {
        "colab": {
          "base_uri": "https://localhost:8080/"
        },
        "id": "ukOC2hlxae00",
        "outputId": "239dfddd-a81a-423e-b1d1-c65cbbef1df0"
      },
      "source": [
        "a.extend(b)\r\n",
        "c = len(set(a))\r\n",
        "print(N-c)"
      ],
      "execution_count": null,
      "outputs": [
        {
          "output_type": "stream",
          "text": [
            "17\n"
          ],
          "name": "stdout"
        }
      ]
    },
    {
      "cell_type": "code",
      "metadata": {
        "colab": {
          "base_uri": "https://localhost:8080/",
          "height": 365
        },
        "id": "B4OAupgOa9y2",
        "outputId": "11521958-cb10-4bb7-c78e-c7c4c09ecba4"
      },
      "source": [
        "#N = int(input())\r\n",
        "#N = 20\r\n",
        "N = 100000\r\n",
        "\r\n",
        "a = [i for i in range(N+1) if '7' in str(i)]\r\n",
        "b = [int(str(i), 8) for i in a]\r\n",
        "a.extend(b)\r\n",
        "print(N - len(set(a)))"
      ],
      "execution_count": null,
      "outputs": [
        {
          "output_type": "error",
          "ename": "ValueError",
          "evalue": "ignored",
          "traceback": [
            "\u001b[0;31m---------------------------------------------------------------------------\u001b[0m",
            "\u001b[0;31mValueError\u001b[0m                                Traceback (most recent call last)",
            "\u001b[0;32m<ipython-input-102-c5ee2a9f23d9>\u001b[0m in \u001b[0;36m<module>\u001b[0;34m()\u001b[0m\n\u001b[1;32m      4\u001b[0m \u001b[0;34m\u001b[0m\u001b[0m\n\u001b[1;32m      5\u001b[0m \u001b[0ma\u001b[0m \u001b[0;34m=\u001b[0m \u001b[0;34m[\u001b[0m\u001b[0mi\u001b[0m \u001b[0;32mfor\u001b[0m \u001b[0mi\u001b[0m \u001b[0;32min\u001b[0m \u001b[0mrange\u001b[0m\u001b[0;34m(\u001b[0m\u001b[0mN\u001b[0m\u001b[0;34m+\u001b[0m\u001b[0;36m1\u001b[0m\u001b[0;34m)\u001b[0m \u001b[0;32mif\u001b[0m \u001b[0;34m'7'\u001b[0m \u001b[0;32min\u001b[0m \u001b[0mstr\u001b[0m\u001b[0;34m(\u001b[0m\u001b[0mi\u001b[0m\u001b[0;34m)\u001b[0m\u001b[0;34m]\u001b[0m\u001b[0;34m\u001b[0m\u001b[0;34m\u001b[0m\u001b[0m\n\u001b[0;32m----> 6\u001b[0;31m \u001b[0mb\u001b[0m \u001b[0;34m=\u001b[0m \u001b[0;34m[\u001b[0m\u001b[0mint\u001b[0m\u001b[0;34m(\u001b[0m\u001b[0mstr\u001b[0m\u001b[0;34m(\u001b[0m\u001b[0mi\u001b[0m\u001b[0;34m)\u001b[0m\u001b[0;34m,\u001b[0m \u001b[0;36m8\u001b[0m\u001b[0;34m)\u001b[0m \u001b[0;32mfor\u001b[0m \u001b[0mi\u001b[0m \u001b[0;32min\u001b[0m \u001b[0ma\u001b[0m\u001b[0;34m]\u001b[0m\u001b[0;34m\u001b[0m\u001b[0;34m\u001b[0m\u001b[0m\n\u001b[0m\u001b[1;32m      7\u001b[0m \u001b[0ma\u001b[0m\u001b[0;34m.\u001b[0m\u001b[0mextend\u001b[0m\u001b[0;34m(\u001b[0m\u001b[0mb\u001b[0m\u001b[0;34m)\u001b[0m\u001b[0;34m\u001b[0m\u001b[0;34m\u001b[0m\u001b[0m\n\u001b[1;32m      8\u001b[0m \u001b[0mprint\u001b[0m\u001b[0;34m(\u001b[0m\u001b[0mN\u001b[0m \u001b[0;34m-\u001b[0m \u001b[0mlen\u001b[0m\u001b[0;34m(\u001b[0m\u001b[0mset\u001b[0m\u001b[0;34m(\u001b[0m\u001b[0ma\u001b[0m\u001b[0;34m)\u001b[0m\u001b[0;34m)\u001b[0m\u001b[0;34m)\u001b[0m\u001b[0;34m\u001b[0m\u001b[0;34m\u001b[0m\u001b[0m\n",
            "\u001b[0;32m<ipython-input-102-c5ee2a9f23d9>\u001b[0m in \u001b[0;36m<listcomp>\u001b[0;34m(.0)\u001b[0m\n\u001b[1;32m      4\u001b[0m \u001b[0;34m\u001b[0m\u001b[0m\n\u001b[1;32m      5\u001b[0m \u001b[0ma\u001b[0m \u001b[0;34m=\u001b[0m \u001b[0;34m[\u001b[0m\u001b[0mi\u001b[0m \u001b[0;32mfor\u001b[0m \u001b[0mi\u001b[0m \u001b[0;32min\u001b[0m \u001b[0mrange\u001b[0m\u001b[0;34m(\u001b[0m\u001b[0mN\u001b[0m\u001b[0;34m+\u001b[0m\u001b[0;36m1\u001b[0m\u001b[0;34m)\u001b[0m \u001b[0;32mif\u001b[0m \u001b[0;34m'7'\u001b[0m \u001b[0;32min\u001b[0m \u001b[0mstr\u001b[0m\u001b[0;34m(\u001b[0m\u001b[0mi\u001b[0m\u001b[0;34m)\u001b[0m\u001b[0;34m]\u001b[0m\u001b[0;34m\u001b[0m\u001b[0;34m\u001b[0m\u001b[0m\n\u001b[0;32m----> 6\u001b[0;31m \u001b[0mb\u001b[0m \u001b[0;34m=\u001b[0m \u001b[0;34m[\u001b[0m\u001b[0mint\u001b[0m\u001b[0;34m(\u001b[0m\u001b[0mstr\u001b[0m\u001b[0;34m(\u001b[0m\u001b[0mi\u001b[0m\u001b[0;34m)\u001b[0m\u001b[0;34m,\u001b[0m \u001b[0;36m8\u001b[0m\u001b[0;34m)\u001b[0m \u001b[0;32mfor\u001b[0m \u001b[0mi\u001b[0m \u001b[0;32min\u001b[0m \u001b[0ma\u001b[0m\u001b[0;34m]\u001b[0m\u001b[0;34m\u001b[0m\u001b[0;34m\u001b[0m\u001b[0m\n\u001b[0m\u001b[1;32m      7\u001b[0m \u001b[0ma\u001b[0m\u001b[0;34m.\u001b[0m\u001b[0mextend\u001b[0m\u001b[0;34m(\u001b[0m\u001b[0mb\u001b[0m\u001b[0;34m)\u001b[0m\u001b[0;34m\u001b[0m\u001b[0;34m\u001b[0m\u001b[0m\n\u001b[1;32m      8\u001b[0m \u001b[0mprint\u001b[0m\u001b[0;34m(\u001b[0m\u001b[0mN\u001b[0m \u001b[0;34m-\u001b[0m \u001b[0mlen\u001b[0m\u001b[0;34m(\u001b[0m\u001b[0mset\u001b[0m\u001b[0;34m(\u001b[0m\u001b[0ma\u001b[0m\u001b[0;34m)\u001b[0m\u001b[0;34m)\u001b[0m\u001b[0;34m)\u001b[0m\u001b[0;34m\u001b[0m\u001b[0;34m\u001b[0m\u001b[0m\n",
            "\u001b[0;31mValueError\u001b[0m: invalid literal for int() with base 8: '78'"
          ]
        }
      ]
    },
    {
      "cell_type": "markdown",
      "metadata": {
        "id": "2U0QOtn4bht0"
      },
      "source": [
        "なんで100000だとエラー？"
      ]
    },
    {
      "cell_type": "code",
      "metadata": {
        "colab": {
          "base_uri": "https://localhost:8080/"
        },
        "id": "609H6qigbWpA",
        "outputId": "2024ed4c-2b59-40bd-ad68-51dae0133542"
      },
      "source": [
        "i = 77\r\n",
        "int(str(i), 8)"
      ],
      "execution_count": null,
      "outputs": [
        {
          "output_type": "execute_result",
          "data": {
            "text/plain": [
              "63"
            ]
          },
          "metadata": {
            "tags": []
          },
          "execution_count": 106
        }
      ]
    },
    {
      "cell_type": "code",
      "metadata": {
        "colab": {
          "base_uri": "https://localhost:8080/",
          "height": 189
        },
        "id": "IwJ1rWQJbxRA",
        "outputId": "c91e16ab-1036-47ce-dc65-65dddf1f9a61"
      },
      "source": [
        "i = 78\r\n",
        "int(str(i), 8)"
      ],
      "execution_count": null,
      "outputs": [
        {
          "output_type": "error",
          "ename": "ValueError",
          "evalue": "ignored",
          "traceback": [
            "\u001b[0;31m---------------------------------------------------------------------------\u001b[0m",
            "\u001b[0;31mValueError\u001b[0m                                Traceback (most recent call last)",
            "\u001b[0;32m<ipython-input-107-cfd84be648fb>\u001b[0m in \u001b[0;36m<module>\u001b[0;34m()\u001b[0m\n\u001b[1;32m      1\u001b[0m \u001b[0mi\u001b[0m \u001b[0;34m=\u001b[0m \u001b[0;36m78\u001b[0m\u001b[0;34m\u001b[0m\u001b[0;34m\u001b[0m\u001b[0m\n\u001b[0;32m----> 2\u001b[0;31m \u001b[0mint\u001b[0m\u001b[0;34m(\u001b[0m\u001b[0mstr\u001b[0m\u001b[0;34m(\u001b[0m\u001b[0mi\u001b[0m\u001b[0;34m)\u001b[0m\u001b[0;34m,\u001b[0m \u001b[0;36m8\u001b[0m\u001b[0;34m)\u001b[0m\u001b[0;34m\u001b[0m\u001b[0;34m\u001b[0m\u001b[0m\n\u001b[0m",
            "\u001b[0;31mValueError\u001b[0m: invalid literal for int() with base 8: '78'"
          ]
        }
      ]
    },
    {
      "cell_type": "code",
      "metadata": {
        "colab": {
          "base_uri": "https://localhost:8080/",
          "height": 189
        },
        "id": "HgT2Vel5kqpT",
        "outputId": "328c9f98-c701-4400-852e-515bc54cb12c"
      },
      "source": [
        "i = 99\r\n",
        "int(str(i), 8)"
      ],
      "execution_count": null,
      "outputs": [
        {
          "output_type": "error",
          "ename": "ValueError",
          "evalue": "ignored",
          "traceback": [
            "\u001b[0;31m---------------------------------------------------------------------------\u001b[0m",
            "\u001b[0;31mValueError\u001b[0m                                Traceback (most recent call last)",
            "\u001b[0;32m<ipython-input-119-ec5f046a9890>\u001b[0m in \u001b[0;36m<module>\u001b[0;34m()\u001b[0m\n\u001b[1;32m      1\u001b[0m \u001b[0mi\u001b[0m \u001b[0;34m=\u001b[0m \u001b[0;36m99\u001b[0m\u001b[0;34m\u001b[0m\u001b[0;34m\u001b[0m\u001b[0m\n\u001b[0;32m----> 2\u001b[0;31m \u001b[0mint\u001b[0m\u001b[0;34m(\u001b[0m\u001b[0mstr\u001b[0m\u001b[0;34m(\u001b[0m\u001b[0mi\u001b[0m\u001b[0;34m)\u001b[0m\u001b[0;34m,\u001b[0m \u001b[0;36m8\u001b[0m\u001b[0;34m)\u001b[0m\u001b[0;34m\u001b[0m\u001b[0;34m\u001b[0m\u001b[0m\n\u001b[0m",
            "\u001b[0;31mValueError\u001b[0m: invalid literal for int() with base 8: '99'"
          ]
        }
      ]
    },
    {
      "cell_type": "code",
      "metadata": {
        "colab": {
          "base_uri": "https://localhost:8080/"
        },
        "id": "VTHyvEc2k4JN",
        "outputId": "105e3b29-018c-4018-b0ba-45ac90c96add"
      },
      "source": [
        "i = 100\r\n",
        "int(str(i), 8)"
      ],
      "execution_count": null,
      "outputs": [
        {
          "output_type": "execute_result",
          "data": {
            "text/plain": [
              "64"
            ]
          },
          "metadata": {
            "tags": []
          },
          "execution_count": 120
        }
      ]
    },
    {
      "cell_type": "markdown",
      "metadata": {
        "id": "fl6TNK-9cB4w"
      },
      "source": [
        "なんで？？？"
      ]
    },
    {
      "cell_type": "code",
      "metadata": {
        "colab": {
          "base_uri": "https://localhost:8080/"
        },
        "id": "qtv25fxMlO5s",
        "outputId": "2fe47728-b237-40c6-e2f8-be4dec1bd741"
      },
      "source": [
        "int('0o100',8)"
      ],
      "execution_count": null,
      "outputs": [
        {
          "output_type": "execute_result",
          "data": {
            "text/plain": [
              "64"
            ]
          },
          "metadata": {
            "tags": []
          },
          "execution_count": 122
        }
      ]
    },
    {
      "cell_type": "code",
      "metadata": {
        "colab": {
          "base_uri": "https://localhost:8080/"
        },
        "id": "qVAZt7sWb_Qf",
        "outputId": "e111a42e-c558-4d82-ddc0-ea06812b506b"
      },
      "source": [
        "i = 100000\r\n",
        "int(str(i), 8)"
      ],
      "execution_count": null,
      "outputs": [
        {
          "output_type": "execute_result",
          "data": {
            "text/plain": [
              "32768"
            ]
          },
          "metadata": {
            "tags": []
          },
          "execution_count": 111
        }
      ]
    },
    {
      "cell_type": "markdown",
      "metadata": {
        "id": "rVQTFy2ZcdCN"
      },
      "source": [
        "なんで？？？"
      ]
    },
    {
      "cell_type": "markdown",
      "metadata": {
        "id": "I4zocnhCmRSS"
      },
      "source": [
        "手動で計算してみる。\r\n",
        "\r\n",
        "[2進数・8進数・10進数・16進数の相互変換についてまとめてみた - Qiita](https://qiita.com/manabu013/items/2ef474f5ecfe8e02ae06#2%E9%80%B2%E6%95%B0%E3%82%848%E9%80%B2%E6%95%B0%E3%81%AA%E3%81%A9%E3%81%8B%E3%82%8910%E9%80%B2%E6%95%B0%E3%81%AB%E5%A4%89%E6%8F%9B%E3%81%99%E3%82%8B)"
      ]
    },
    {
      "cell_type": "code",
      "metadata": {
        "colab": {
          "base_uri": "https://localhost:8080/"
        },
        "id": "qfhzt0wrcPGo",
        "outputId": "92e9af65-7716-42a3-f557-85a654293fd7"
      },
      "source": [
        "i = 99\r\n",
        "int(str(i)[0])*8 + int(str(i)[1])"
      ],
      "execution_count": null,
      "outputs": [
        {
          "output_type": "execute_result",
          "data": {
            "text/plain": [
              "81"
            ]
          },
          "metadata": {
            "tags": []
          },
          "execution_count": 161
        }
      ]
    },
    {
      "cell_type": "markdown",
      "metadata": {
        "id": "EFL4Shdgmbom"
      },
      "source": [
        "だよねえ。"
      ]
    },
    {
      "cell_type": "code",
      "metadata": {
        "colab": {
          "base_uri": "https://localhost:8080/",
          "height": 35
        },
        "id": "H2zGjZ4um_rW",
        "outputId": "38df7ede-4ff2-4048-e732-1a35ef5e924f"
      },
      "source": [
        "i = 78\r\n",
        "#forで回したいので逆順にする\r\n",
        "s = str(i)[::-1]\r\n",
        "s"
      ],
      "execution_count": null,
      "outputs": [
        {
          "output_type": "execute_result",
          "data": {
            "application/vnd.google.colaboratory.intrinsic+json": {
              "type": "string"
            },
            "text/plain": [
              "'87'"
            ]
          },
          "metadata": {
            "tags": []
          },
          "execution_count": 154
        }
      ]
    },
    {
      "cell_type": "code",
      "metadata": {
        "colab": {
          "base_uri": "https://localhost:8080/"
        },
        "id": "VFR0lT2fl_aY",
        "outputId": "7d304a0a-bf6a-4c02-8af3-b4355e7be30e"
      },
      "source": [
        "a = 0\r\n",
        "for l in range(len(s)):\r\n",
        "  print(int(s[l]) * 8**l)\r\n",
        "  a += int(s[l]) * 8**l\r\n",
        "a"
      ],
      "execution_count": null,
      "outputs": [
        {
          "output_type": "stream",
          "text": [
            "8\n",
            "56\n"
          ],
          "name": "stdout"
        },
        {
          "output_type": "execute_result",
          "data": {
            "text/plain": [
              "64"
            ]
          },
          "metadata": {
            "tags": []
          },
          "execution_count": 156
        }
      ]
    },
    {
      "cell_type": "markdown",
      "metadata": {
        "id": "yFqNW_KwqO4U"
      },
      "source": [
        "あれ？100の時とおなじ？？？\r\n",
        "\r\n",
        "そもそも８進数ってどんなだっけ。\r\n",
        "\r\n",
        "[8進法｜もう一度やり直しの算数・数学](https://yarinaosinosansu.nomaki.jp/nansin7/index.html#:~:text=8%E9%80%B2%E6%B3%95%E3%81%A8%E3%81%AF,%E3%81%A8%E3%81%84%E3%81%86%E6%96%B9%E6%B3%95%E3%81%AE%E3%81%93%E3%81%A8%E3%81%A7%E3%81%99%E3%80%82)\r\n",
        "\r\n",
        "> 10進法は0～9までの10つの数字を使って数を表現しますが、8進法は0～7までの8個の数字を使って数を表現します。\r\n",
        "\r\n",
        "！！！７８は８進数には存在しない！？？？"
      ]
    },
    {
      "cell_type": "code",
      "metadata": {
        "id": "kYQYR8rbnbgK",
        "colab": {
          "base_uri": "https://localhost:8080/"
        },
        "outputId": "cf00e0a7-8d08-4998-eda9-b320a309ed04"
      },
      "source": [
        "N = 20\r\n",
        "\r\n",
        "Y = [int(oct(i)[2:]) for i in range(N+1)]\r\n",
        "Y"
      ],
      "execution_count": null,
      "outputs": [
        {
          "output_type": "execute_result",
          "data": {
            "text/plain": [
              "[0, 1, 2, 3, 4, 5, 6, 7, 10, 11, 12, 13, 14, 15, 16, 17, 20, 21, 22, 23, 24]"
            ]
          },
          "metadata": {
            "tags": []
          },
          "execution_count": 165
        }
      ]
    },
    {
      "cell_type": "markdown",
      "metadata": {
        "id": "Pri43lkLyEYu"
      },
      "source": [
        "そういうことかあ！！！"
      ]
    },
    {
      "cell_type": "code",
      "metadata": {
        "id": "8eJK09xFx-dr"
      },
      "source": [
        "#N = int(input())\r\n",
        "N = 20\r\n",
        "#N = 100000\r\n",
        "\r\n",
        "a = [i for i in range(N+1) if '7' in str(i)]\r\n",
        "b = [int(str(i), 8) for i in a]\r\n",
        "#a.extend(b)\r\n",
        "#print(N - len(set(a)))"
      ],
      "execution_count": null,
      "outputs": []
    },
    {
      "cell_type": "code",
      "metadata": {
        "colab": {
          "base_uri": "https://localhost:8080/"
        },
        "id": "fcJGXfMGydIu",
        "outputId": "bf4910bf-4543-4929-f997-faa9a75e04d7"
      },
      "source": [
        "a"
      ],
      "execution_count": null,
      "outputs": [
        {
          "output_type": "execute_result",
          "data": {
            "text/plain": [
              "[7, 17]"
            ]
          },
          "metadata": {
            "tags": []
          },
          "execution_count": 3
        }
      ]
    },
    {
      "cell_type": "code",
      "metadata": {
        "colab": {
          "base_uri": "https://localhost:8080/"
        },
        "id": "dGO7ikqoyrYX",
        "outputId": "2d5ab1a0-02dc-4ca5-e358-2cc66ab45c88"
      },
      "source": [
        "i = 79\r\n",
        "if '8' in str(i) or '9' in str(i):\r\n",
        "  print('No')"
      ],
      "execution_count": null,
      "outputs": [
        {
          "output_type": "stream",
          "text": [
            "No\n"
          ],
          "name": "stdout"
        }
      ]
    },
    {
      "cell_type": "code",
      "metadata": {
        "colab": {
          "base_uri": "https://localhost:8080/"
        },
        "id": "oQEooDZYFnNI",
        "outputId": "ed84e76a-ff19-4729-b7c5-e8d2dea9a406"
      },
      "source": [
        "N = 100\n",
        "a = [i for i in range(N+1) if '7' in str(i)]\n",
        "a"
      ],
      "execution_count": null,
      "outputs": [
        {
          "output_type": "execute_result",
          "data": {
            "text/plain": [
              "[7, 17, 27, 37, 47, 57, 67, 70, 71, 72, 73, 74, 75, 76, 77, 78, 79, 87, 97]"
            ]
          },
          "metadata": {
            "tags": []
          },
          "execution_count": 22
        }
      ]
    },
    {
      "cell_type": "markdown",
      "metadata": {
        "id": "WqO2NB2-GPMp"
      },
      "source": [
        "8と9を含む数字を省く"
      ]
    },
    {
      "cell_type": "code",
      "metadata": {
        "colab": {
          "base_uri": "https://localhost:8080/"
        },
        "id": "wjaOJuI_y36X",
        "outputId": "4f2a11ab-8505-405e-f8dc-d25ec742ac0a"
      },
      "source": [
        "[i for i in a if '8' in str(i) or '9' in str(i)]"
      ],
      "execution_count": null,
      "outputs": [
        {
          "output_type": "execute_result",
          "data": {
            "text/plain": [
              "[78, 79, 87, 97]"
            ]
          },
          "metadata": {
            "tags": []
          },
          "execution_count": 24
        }
      ]
    },
    {
      "cell_type": "code",
      "metadata": {
        "colab": {
          "base_uri": "https://localhost:8080/"
        },
        "id": "31w3kT4qE5WK",
        "outputId": "c634afb3-4585-455b-b828-3cd60bd4326f"
      },
      "source": [
        "[i for i in a if '8' not in str(i) and '9' not in str(i) ]"
      ],
      "execution_count": null,
      "outputs": [
        {
          "output_type": "execute_result",
          "data": {
            "text/plain": [
              "[7, 17, 27, 37, 47, 57, 67, 70, 71, 72, 73, 74, 75, 76, 77]"
            ]
          },
          "metadata": {
            "tags": []
          },
          "execution_count": 27
        }
      ]
    },
    {
      "cell_type": "code",
      "metadata": {
        "colab": {
          "base_uri": "https://localhost:8080/"
        },
        "id": "0WhpEwmdGrtm",
        "outputId": "35ad448d-f878-4b97-d6a5-fc7bedc01d16"
      },
      "source": [
        "[int(str(i), 8)  for i in a if '8' not in str(i) and '9' not in str(i) ]"
      ],
      "execution_count": null,
      "outputs": [
        {
          "output_type": "execute_result",
          "data": {
            "text/plain": [
              "[7, 15, 23, 31, 39, 47, 55, 56, 57, 58, 59, 60, 61, 62, 63]"
            ]
          },
          "metadata": {
            "tags": []
          },
          "execution_count": 28
        }
      ]
    },
    {
      "cell_type": "markdown",
      "metadata": {
        "id": "XH_34tAwHTfI"
      },
      "source": [
        "###これでどうかな？"
      ]
    },
    {
      "cell_type": "code",
      "metadata": {
        "colab": {
          "base_uri": "https://localhost:8080/"
        },
        "id": "uAueabDpzyzB",
        "outputId": "49d875c5-034e-4d84-b2a1-ae693443183c"
      },
      "source": [
        "N = int(input())\r\n",
        "#N = 20 #17\r\n",
        "a = [i for i in range(N+1) if '7' in str(i)]\r\n",
        "b = [int(str(i), 8)  for i in a if '7' in str(i) ]\r\n",
        "a.extend(b)\r\n",
        "print(N - len(set(a)))"
      ],
      "execution_count": null,
      "outputs": [
        {
          "output_type": "stream",
          "text": [
            "69\n"
          ],
          "name": "stdout"
        }
      ]
    },
    {
      "cell_type": "markdown",
      "metadata": {
        "id": "LqkiaM0fHZ_E"
      },
      "source": [
        "```\n",
        "AC× 2\n",
        "WA× 18\n",
        "```\n",
        "\n",
        "なんでだ？？？"
      ]
    },
    {
      "cell_type": "code",
      "metadata": {
        "id": "yfk41RKvJaMu"
      },
      "source": [
        "a = [i for i in range(N+1) if '7' in str(i)]"
      ],
      "execution_count": null,
      "outputs": []
    },
    {
      "cell_type": "code",
      "metadata": {
        "colab": {
          "base_uri": "https://localhost:8080/"
        },
        "id": "d9PMfnrdJb1z",
        "outputId": "c1cb565d-47aa-48af-f20f-5133a3d23891"
      },
      "source": [
        "a"
      ],
      "execution_count": null,
      "outputs": [
        {
          "output_type": "execute_result",
          "data": {
            "text/plain": [
              "[7, 17, 27, 37, 47, 57, 67, 70, 71, 72, 73, 74, 75, 76, 77, 78, 79, 87, 97]"
            ]
          },
          "metadata": {
            "tags": []
          },
          "execution_count": 43
        }
      ]
    },
    {
      "cell_type": "code",
      "metadata": {
        "colab": {
          "base_uri": "https://localhost:8080/"
        },
        "id": "fdZfWARjJfMw",
        "outputId": "adef1dca-7eb1-4ddc-a587-03253495881b"
      },
      "source": [
        "b = [int(str(i), 8)  for i in range(N+1) if '7' in str(i) and '8' not in str(i) and '9' not in str(i) ]\n",
        "b"
      ],
      "execution_count": null,
      "outputs": [
        {
          "output_type": "execute_result",
          "data": {
            "text/plain": [
              "[7, 15, 23, 31, 39, 47, 55, 56, 57, 58, 59, 60, 61, 62, 63]"
            ]
          },
          "metadata": {
            "tags": []
          },
          "execution_count": 48
        }
      ]
    },
    {
      "cell_type": "markdown",
      "metadata": {
        "id": "gJ4d_gxWLFeY"
      },
      "source": [
        "###これじゃない"
      ]
    },
    {
      "cell_type": "code",
      "metadata": {
        "colab": {
          "base_uri": "https://localhost:8080/"
        },
        "id": "aTALlwC4Gyne",
        "outputId": "23ad2651-7ed2-4cd5-a700-7f9877620503"
      },
      "source": [
        "#N = int(input())\n",
        "#N = 20 #17\n",
        "N = 100000\n",
        "\n",
        "a = [i for i in range(N+1) if '7' in str(i)]\n",
        "b = [int(str(i), 8)  for i in range(N+1) if '7' in str(i) and '8' not in str(i) and '9' not in str(i) ]\n",
        "a += b \n",
        "a = set(a)\n",
        "print(N-len(a))"
      ],
      "execution_count": null,
      "outputs": [
        {
          "output_type": "stream",
          "text": [
            "48534\n"
          ],
          "name": "stdout"
        }
      ]
    },
    {
      "cell_type": "code",
      "metadata": {
        "colab": {
          "base_uri": "https://localhost:8080/"
        },
        "id": "cqERyhYaKlii",
        "outputId": "65a56e45-9a1e-426e-c747-324eba2914cb"
      },
      "source": [
        "a"
      ],
      "execution_count": null,
      "outputs": [
        {
          "output_type": "execute_result",
          "data": {
            "text/plain": [
              "[7, 17, 27, 37, 47, 57, 67, 70, 71, 72, 73, 74, 75, 76, 77, 78, 79, 87, 97]"
            ]
          },
          "metadata": {
            "tags": []
          },
          "execution_count": 85
        }
      ]
    },
    {
      "cell_type": "code",
      "metadata": {
        "colab": {
          "base_uri": "https://localhost:8080/"
        },
        "id": "IaWBmAFmLTEi",
        "outputId": "cf087d81-7077-42aa-f24e-7562865ea915"
      },
      "source": [
        "b"
      ],
      "execution_count": null,
      "outputs": [
        {
          "output_type": "execute_result",
          "data": {
            "text/plain": [
              "[7, 15, 23, 31, 39, 47, 55, 56, 57, 58, 59, 60, 61, 62, 63]"
            ]
          },
          "metadata": {
            "tags": []
          },
          "execution_count": 86
        }
      ]
    },
    {
      "cell_type": "markdown",
      "metadata": {
        "id": "bFrZoKtDPUja"
      },
      "source": [
        "なんでWAなんだろう？？？\n",
        "\n",
        "\n",
        "###ギブアップ。\n",
        "答えみちゃおう。\n",
        "\n",
        "[解説 - パナソニックプログラミングコンテスト（AtCoder Beginner Contest 186）](https://atcoder.jp/contests/abc186/editorial)"
      ]
    },
    {
      "cell_type": "code",
      "metadata": {
        "colab": {
          "base_uri": "https://localhost:8080/"
        },
        "id": "3ssIcm-6OFZj",
        "outputId": "8dd92d29-7443-410b-e2ca-7b4cd30cb9ef"
      },
      "source": [
        "N = int(input())\n",
        "ans = 0\n",
        "for i in range(1, N+1):\n",
        "  if ('7' not in str(i)) and ('7' not in oct(i)):\n",
        "    ans += 1\n",
        "print(ans)"
      ],
      "execution_count": null,
      "outputs": [
        {
          "output_type": "stream",
          "text": [
            "100000\n",
            "30555\n"
          ],
          "name": "stdout"
        }
      ]
    },
    {
      "cell_type": "markdown",
      "metadata": {
        "id": "8cH4iXfVQamd"
      },
      "source": [
        "あってる。うん。\n",
        "\n",
        "`'7' not in oct(i)`ってなんなん？？？\n",
        "\n",
        "中に何がはいってるかみてみる。"
      ]
    },
    {
      "cell_type": "code",
      "metadata": {
        "colab": {
          "base_uri": "https://localhost:8080/"
        },
        "id": "5H1Q5v4JQFTu",
        "outputId": "1988386c-3ba4-49e2-cca5-75b2a2ebbe07"
      },
      "source": [
        "N = 100\n",
        "x = []\n",
        "for i in range(1, N+1):\n",
        "  if ('7' not in str(i)) and ('7' not in oct(i)):\n",
        "    x.append(i)\n",
        "x"
      ],
      "execution_count": null,
      "outputs": [
        {
          "output_type": "execute_result",
          "data": {
            "text/plain": [
              "[1,\n",
              " 2,\n",
              " 3,\n",
              " 4,\n",
              " 5,\n",
              " 6,\n",
              " 8,\n",
              " 9,\n",
              " 10,\n",
              " 11,\n",
              " 12,\n",
              " 13,\n",
              " 14,\n",
              " 16,\n",
              " 18,\n",
              " 19,\n",
              " 20,\n",
              " 21,\n",
              " 22,\n",
              " 24,\n",
              " 25,\n",
              " 26,\n",
              " 28,\n",
              " 29,\n",
              " 30,\n",
              " 32,\n",
              " 33,\n",
              " 34,\n",
              " 35,\n",
              " 36,\n",
              " 38,\n",
              " 40,\n",
              " 41,\n",
              " 42,\n",
              " 43,\n",
              " 44,\n",
              " 45,\n",
              " 46,\n",
              " 48,\n",
              " 49,\n",
              " 50,\n",
              " 51,\n",
              " 52,\n",
              " 53,\n",
              " 54,\n",
              " 64,\n",
              " 65,\n",
              " 66,\n",
              " 68,\n",
              " 69,\n",
              " 80,\n",
              " 81,\n",
              " 82,\n",
              " 83,\n",
              " 84,\n",
              " 85,\n",
              " 86,\n",
              " 88,\n",
              " 89,\n",
              " 90,\n",
              " 91,\n",
              " 92,\n",
              " 93,\n",
              " 94,\n",
              " 96,\n",
              " 98,\n",
              " 99,\n",
              " 100]"
            ]
          },
          "metadata": {
            "tags": []
          },
          "execution_count": 117
        }
      ]
    },
    {
      "cell_type": "code",
      "metadata": {
        "colab": {
          "base_uri": "https://localhost:8080/"
        },
        "id": "kgRW6lUsSOvp",
        "outputId": "2c50d54f-c323-40ef-d0f9-35b00f482a8f"
      },
      "source": [
        "len(x)"
      ],
      "execution_count": null,
      "outputs": [
        {
          "output_type": "execute_result",
          "data": {
            "text/plain": [
              "68"
            ]
          },
          "metadata": {
            "tags": []
          },
          "execution_count": 118
        }
      ]
    },
    {
      "cell_type": "markdown",
      "metadata": {
        "id": "C_x1NE4ZTlp1"
      },
      "source": [
        "なんで結果が違うのかよくわからない。。。\n",
        "\n",
        "正解リストのかけあわせの方が正解に近いって感じはする。\n",
        "\n",
        "保留。"
      ]
    }
  ]
}