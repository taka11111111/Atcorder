{
  "nbformat": 4,
  "nbformat_minor": 0,
  "metadata": {
    "colab": {
      "name": "AtCoder Beginner Contest 180",
      "provenance": [],
      "collapsed_sections": [],
      "authorship_tag": "ABX9TyOVXFLIagY1a3JjAyazGyNJ",
      "include_colab_link": true
    },
    "kernelspec": {
      "name": "python3",
      "display_name": "Python 3"
    }
  },
  "cells": [
    {
      "cell_type": "markdown",
      "metadata": {
        "id": "view-in-github",
        "colab_type": "text"
      },
      "source": [
        "<a href=\"https://colab.research.google.com/github/taka11111111/Atcorder/blob/main/AtCoder_Beginner_Contest_180.ipynb\" target=\"_parent\"><img src=\"https://colab.research.google.com/assets/colab-badge.svg\" alt=\"Open In Colab\"/></a>"
      ]
    },
    {
      "cell_type": "markdown",
      "metadata": {
        "id": "6Ct7bhUtzHRz"
      },
      "source": [
        "#[A - box](https://atcoder.jp/contests/abc180/tasks/abc180_a)"
      ]
    },
    {
      "cell_type": "code",
      "metadata": {
        "colab": {
          "base_uri": "https://localhost:8080/"
        },
        "id": "RsgEy1HUxwT4",
        "outputId": "6ff2cc51-332f-4254-87a1-ec3c2bf931b0"
      },
      "source": [
        "N,A,B = map(int,input().split())"
      ],
      "execution_count": null,
      "outputs": [
        {
          "output_type": "stream",
          "text": [
            "100 1 2\n"
          ],
          "name": "stdout"
        }
      ]
    },
    {
      "cell_type": "code",
      "metadata": {
        "colab": {
          "base_uri": "https://localhost:8080/"
        },
        "id": "SHtKdKBIy8Fc",
        "outputId": "e1605d1c-b159-44f2-d65d-399376437844"
      },
      "source": [
        "res = N - A + B\r\n",
        "print(res)"
      ],
      "execution_count": null,
      "outputs": [
        {
          "output_type": "stream",
          "text": [
            "101\n"
          ],
          "name": "stdout"
        }
      ]
    },
    {
      "cell_type": "markdown",
      "metadata": {
        "id": "iKWehN_LzSfJ"
      },
      "source": [
        "#[B - Various distances](https://atcoder.jp/contests/abc180/tasks/abc180_b)"
      ]
    },
    {
      "cell_type": "code",
      "metadata": {
        "id": "Htn5nUF6D63h"
      },
      "source": [
        ""
      ],
      "execution_count": null,
      "outputs": []
    },
    {
      "cell_type": "code",
      "metadata": {
        "colab": {
          "base_uri": "https://localhost:8080/"
        },
        "id": "Jr0X0tC4zWy6",
        "outputId": "1c41cbe6-2ac5-431e-962c-9cac10824740"
      },
      "source": [
        "#N = int(input())\r\n",
        "lis = list(map(int,input().split()))"
      ],
      "execution_count": null,
      "outputs": [
        {
          "output_type": "stream",
          "text": [
            "2 -1\n"
          ],
          "name": "stdout"
        }
      ]
    },
    {
      "cell_type": "code",
      "metadata": {
        "colab": {
          "base_uri": "https://localhost:8080/"
        },
        "id": "V4n4Q2ysDacG",
        "outputId": "7cd2051c-54d8-4810-85b7-1390e6ab5691"
      },
      "source": [
        "#マンハッタン距離\r\n",
        "mh = list(map(lambda x: abs(x), lis))\r\n",
        "mh\r\n",
        "sum(mh)"
      ],
      "execution_count": null,
      "outputs": [
        {
          "output_type": "execute_result",
          "data": {
            "text/plain": [
              "3"
            ]
          },
          "metadata": {
            "tags": []
          },
          "execution_count": 17
        }
      ]
    },
    {
      "cell_type": "code",
      "metadata": {
        "colab": {
          "base_uri": "https://localhost:8080/"
        },
        "id": "uYfTCKuYFmey",
        "outputId": "92fee977-90e3-4b00-d8b6-5c5a7158b440"
      },
      "source": [
        "#ユークリッド距離\r\n",
        "import math\r\n",
        "import numpy\r\n",
        "yc = list(map(lambda x: x**2, lis))\r\n",
        "sum(yc)\r\n",
        "print(numpy.sqrt(sum(yc)))"
      ],
      "execution_count": null,
      "outputs": [
        {
          "output_type": "stream",
          "text": [
            "2.23606797749979\n"
          ],
          "name": "stdout"
        }
      ]
    },
    {
      "cell_type": "code",
      "metadata": {
        "colab": {
          "base_uri": "https://localhost:8080/"
        },
        "id": "e_ZtzYN5GbCM",
        "outputId": "dd7aa245-55bf-4bd8-af3c-3b018e9b90d3"
      },
      "source": [
        "#チェビシェフ距離\r\n",
        "max(mh)"
      ],
      "execution_count": null,
      "outputs": [
        {
          "output_type": "execute_result",
          "data": {
            "text/plain": [
              "2"
            ]
          },
          "metadata": {
            "tags": []
          },
          "execution_count": 20
        }
      ]
    },
    {
      "cell_type": "markdown",
      "metadata": {
        "id": "CfCkyZf2G0Tx"
      },
      "source": [
        "まとめると、"
      ]
    },
    {
      "cell_type": "code",
      "metadata": {
        "colab": {
          "base_uri": "https://localhost:8080/"
        },
        "id": "ESKBBaiJGwLi",
        "outputId": "b1e99433-2a65-43cf-dc77-a52334df7438"
      },
      "source": [
        "N = int(input())\r\n",
        "lis = list(map(int,input().split()))\r\n",
        "\r\n",
        "#マンハッタン距離\r\n",
        "la = list(map(lambda x: abs(x), lis))\r\n",
        "mh = sum(la)\r\n",
        "\r\n",
        "#ユークリッド距離\r\n",
        "import math\r\n",
        "import numpy\r\n",
        "la2 = list(map(lambda x: x**2, lis))\r\n",
        "yc = numpy.sqrt(sum(la2))\r\n",
        "\r\n",
        "#チェビシェフ距離\r\n",
        "ch = max(la)\r\n",
        "\r\n",
        "print(mh)\r\n",
        "print(yc)\r\n",
        "print(ch)"
      ],
      "execution_count": null,
      "outputs": [
        {
          "output_type": "stream",
          "text": [
            "3 -1 -4 1 -5 9 2 -6 5 -3\n",
            "39\n",
            "14.38749456993816\n",
            "9\n"
          ],
          "name": "stdout"
        }
      ]
    },
    {
      "cell_type": "markdown",
      "metadata": {
        "id": "JDCXi4fuIbJX"
      },
      "source": [
        "いけるかな？\r\n",
        "\r\n",
        "いけた！\r\n",
        "\r\n",
        "#[C - Cream puff](https://atcoder.jp/contests/abc180/tasks/abc180_c)"
      ]
    },
    {
      "cell_type": "code",
      "metadata": {
        "colab": {
          "base_uri": "https://localhost:8080/"
        },
        "id": "Rn9iNix-IamZ",
        "outputId": "37d0a00c-1278-49cc-c3c0-6421b69df138"
      },
      "source": [
        "N = int(input())"
      ],
      "execution_count": null,
      "outputs": [
        {
          "output_type": "stream",
          "text": [
            "6\n"
          ],
          "name": "stdout"
        }
      ]
    },
    {
      "cell_type": "code",
      "metadata": {
        "colab": {
          "base_uri": "https://localhost:8080/"
        },
        "id": "YmoySTT_H_xN",
        "outputId": "f2c38253-f6ec-4fcf-af40-9571c275727f"
      },
      "source": [
        "for i in range(1,N+1):\r\n",
        "   if N%i ==0:\r\n",
        "     print(i)"
      ],
      "execution_count": null,
      "outputs": [
        {
          "output_type": "stream",
          "text": [
            "1\n",
            "2\n",
            "3\n",
            "6\n"
          ],
          "name": "stdout"
        }
      ]
    },
    {
      "cell_type": "code",
      "metadata": {
        "id": "9CvepRCjJep0"
      },
      "source": [
        "AC× 6\r\n",
        "TLE× 20"
      ],
      "execution_count": null,
      "outputs": []
    },
    {
      "cell_type": "markdown",
      "metadata": {
        "id": "GUAX5rMuK6ZD"
      },
      "source": [
        "予想通り、遅い。"
      ]
    },
    {
      "cell_type": "code",
      "metadata": {
        "colab": {
          "base_uri": "https://localhost:8080/",
          "height": 259
        },
        "id": "jdj-zTUTK9Gq",
        "outputId": "91aef457-b05e-4a60-ce1b-daf6c436b053"
      },
      "source": [
        "N=1000000007\r\n",
        "for i in range(1,N+1):\r\n",
        "   if N%i ==0:\r\n",
        "     print(i)"
      ],
      "execution_count": null,
      "outputs": [
        {
          "output_type": "stream",
          "text": [
            "1\n"
          ],
          "name": "stdout"
        },
        {
          "output_type": "error",
          "ename": "KeyboardInterrupt",
          "evalue": "ignored",
          "traceback": [
            "\u001b[0;31m---------------------------------------------------------------------------\u001b[0m",
            "\u001b[0;31mKeyboardInterrupt\u001b[0m                         Traceback (most recent call last)",
            "\u001b[0;32m<ipython-input-43-b779c8aed478>\u001b[0m in \u001b[0;36m<module>\u001b[0;34m()\u001b[0m\n\u001b[1;32m      1\u001b[0m \u001b[0mN\u001b[0m\u001b[0;34m=\u001b[0m\u001b[0;36m1000000007\u001b[0m\u001b[0;34m\u001b[0m\u001b[0;34m\u001b[0m\u001b[0m\n\u001b[1;32m      2\u001b[0m \u001b[0;34m\u001b[0m\u001b[0m\n\u001b[0;32m----> 3\u001b[0;31m \u001b[0;32mfor\u001b[0m \u001b[0mi\u001b[0m \u001b[0;32min\u001b[0m \u001b[0mrange\u001b[0m\u001b[0;34m(\u001b[0m\u001b[0;36m1\u001b[0m\u001b[0;34m,\u001b[0m\u001b[0mN\u001b[0m\u001b[0;34m+\u001b[0m\u001b[0;36m1\u001b[0m\u001b[0;34m)\u001b[0m\u001b[0;34m:\u001b[0m\u001b[0;34m\u001b[0m\u001b[0;34m\u001b[0m\u001b[0m\n\u001b[0m\u001b[1;32m      4\u001b[0m    \u001b[0;32mif\u001b[0m \u001b[0mN\u001b[0m\u001b[0;34m%\u001b[0m\u001b[0mi\u001b[0m \u001b[0;34m==\u001b[0m\u001b[0;36m0\u001b[0m\u001b[0;34m:\u001b[0m\u001b[0;34m\u001b[0m\u001b[0;34m\u001b[0m\u001b[0m\n\u001b[1;32m      5\u001b[0m      \u001b[0mprint\u001b[0m\u001b[0;34m(\u001b[0m\u001b[0mi\u001b[0m\u001b[0;34m)\u001b[0m\u001b[0;34m\u001b[0m\u001b[0;34m\u001b[0m\u001b[0m\n",
            "\u001b[0;31mKeyboardInterrupt\u001b[0m: "
          ]
        }
      ]
    },
    {
      "cell_type": "markdown",
      "metadata": {
        "id": "NsZ9HqJGL54c"
      },
      "source": [
        "素数かどうか判定できないかな。\r\n",
        "\r\n",
        "[素数判定いろいろ - シンプルな判定と、素数の分布 - Qiita](https://qiita.com/srtk86/items/874639e361917e5016d4)"
      ]
    },
    {
      "cell_type": "code",
      "metadata": {
        "id": "JKVMBIGNL23D"
      },
      "source": [
        "import math\r\n",
        "def is_prime(n):\r\n",
        "    if n == 1: return False\r\n",
        "\r\n",
        "    for k in range(2, int(math.sqrt(n)) + 1):\r\n",
        "        if n % k == 0:\r\n",
        "            return False\r\n",
        "\r\n",
        "    return True"
      ],
      "execution_count": null,
      "outputs": []
    },
    {
      "cell_type": "code",
      "metadata": {
        "colab": {
          "base_uri": "https://localhost:8080/"
        },
        "id": "HbGMsrw5Ljaj",
        "outputId": "5a616153-d7eb-42bb-98b3-6d4d82b8e76d"
      },
      "source": [
        "#N = int(input())\r\n",
        "#N = 720\r\n",
        "for i in range(N+1,1,-1):\r\n",
        "   if N%i ==0:\r\n",
        "     print(i)\r\n",
        "   \r\n",
        "   if is_prime(i)==True:\r\n",
        "     print(1)\r\n",
        "     break"
      ],
      "execution_count": null,
      "outputs": [
        {
          "output_type": "stream",
          "text": [
            "720\n",
            "1\n"
          ],
          "name": "stdout"
        }
      ]
    },
    {
      "cell_type": "markdown",
      "metadata": {
        "id": "lNZrkY4ZPM0d"
      },
      "source": [
        "これじゃないなあ・・・"
      ]
    },
    {
      "cell_type": "code",
      "metadata": {
        "colab": {
          "base_uri": "https://localhost:8080/"
        },
        "id": "OaF7tkIfNdZ5",
        "outputId": "cf4b51b4-d61b-4fa5-e3a5-b0697b96aa65"
      },
      "source": [
        "N=100\r\n",
        "for i in range(1,N+1):\r\n",
        "   if N%i ==0:\r\n",
        "     print(i)"
      ],
      "execution_count": null,
      "outputs": [
        {
          "output_type": "stream",
          "text": [
            "1\n",
            "2\n",
            "4\n",
            "5\n",
            "10\n",
            "20\n",
            "25\n",
            "50\n",
            "100\n"
          ],
          "name": "stdout"
        }
      ]
    },
    {
      "cell_type": "code",
      "metadata": {
        "id": "16VheSvywgF-"
      },
      "source": [
        "N=100\r\n",
        "lis = [i for i in range(1,N+1)]"
      ],
      "execution_count": null,
      "outputs": []
    },
    {
      "cell_type": "code",
      "metadata": {
        "colab": {
          "base_uri": "https://localhost:8080/"
        },
        "id": "YC1Fil8b2KPF",
        "outputId": "26a29d82-0d0f-46f1-d676-52e834e6001c"
      },
      "source": [
        "for i in range(2,N+1):\r\n",
        " lis =  [n for n in lis if n%i > 0]\r\n",
        " print(lis)"
      ],
      "execution_count": null,
      "outputs": [
        {
          "output_type": "stream",
          "text": [
            "[1, 3, 5, 7, 9, 11, 13, 15, 17, 19, 21, 23, 25, 27, 29, 31, 33, 35, 37, 39, 41, 43, 45, 47, 49, 51, 53, 55, 57, 59, 61, 63, 65, 67, 69, 71, 73, 75, 77, 79, 81, 83, 85, 87, 89, 91, 93, 95, 97, 99]\n",
            "[1, 5, 7, 11, 13, 17, 19, 23, 25, 29, 31, 35, 37, 41, 43, 47, 49, 53, 55, 59, 61, 65, 67, 71, 73, 77, 79, 83, 85, 89, 91, 95, 97]\n",
            "[1, 5, 7, 11, 13, 17, 19, 23, 25, 29, 31, 35, 37, 41, 43, 47, 49, 53, 55, 59, 61, 65, 67, 71, 73, 77, 79, 83, 85, 89, 91, 95, 97]\n",
            "[1, 7, 11, 13, 17, 19, 23, 29, 31, 37, 41, 43, 47, 49, 53, 59, 61, 67, 71, 73, 77, 79, 83, 89, 91, 97]\n",
            "[1, 7, 11, 13, 17, 19, 23, 29, 31, 37, 41, 43, 47, 49, 53, 59, 61, 67, 71, 73, 77, 79, 83, 89, 91, 97]\n",
            "[1, 11, 13, 17, 19, 23, 29, 31, 37, 41, 43, 47, 53, 59, 61, 67, 71, 73, 79, 83, 89, 97]\n",
            "[1, 11, 13, 17, 19, 23, 29, 31, 37, 41, 43, 47, 53, 59, 61, 67, 71, 73, 79, 83, 89, 97]\n",
            "[1, 11, 13, 17, 19, 23, 29, 31, 37, 41, 43, 47, 53, 59, 61, 67, 71, 73, 79, 83, 89, 97]\n",
            "[1, 11, 13, 17, 19, 23, 29, 31, 37, 41, 43, 47, 53, 59, 61, 67, 71, 73, 79, 83, 89, 97]\n",
            "[1, 13, 17, 19, 23, 29, 31, 37, 41, 43, 47, 53, 59, 61, 67, 71, 73, 79, 83, 89, 97]\n",
            "[1, 13, 17, 19, 23, 29, 31, 37, 41, 43, 47, 53, 59, 61, 67, 71, 73, 79, 83, 89, 97]\n",
            "[1, 17, 19, 23, 29, 31, 37, 41, 43, 47, 53, 59, 61, 67, 71, 73, 79, 83, 89, 97]\n",
            "[1, 17, 19, 23, 29, 31, 37, 41, 43, 47, 53, 59, 61, 67, 71, 73, 79, 83, 89, 97]\n",
            "[1, 17, 19, 23, 29, 31, 37, 41, 43, 47, 53, 59, 61, 67, 71, 73, 79, 83, 89, 97]\n",
            "[1, 17, 19, 23, 29, 31, 37, 41, 43, 47, 53, 59, 61, 67, 71, 73, 79, 83, 89, 97]\n",
            "[1, 19, 23, 29, 31, 37, 41, 43, 47, 53, 59, 61, 67, 71, 73, 79, 83, 89, 97]\n",
            "[1, 19, 23, 29, 31, 37, 41, 43, 47, 53, 59, 61, 67, 71, 73, 79, 83, 89, 97]\n",
            "[1, 23, 29, 31, 37, 41, 43, 47, 53, 59, 61, 67, 71, 73, 79, 83, 89, 97]\n",
            "[1, 23, 29, 31, 37, 41, 43, 47, 53, 59, 61, 67, 71, 73, 79, 83, 89, 97]\n",
            "[1, 23, 29, 31, 37, 41, 43, 47, 53, 59, 61, 67, 71, 73, 79, 83, 89, 97]\n",
            "[1, 23, 29, 31, 37, 41, 43, 47, 53, 59, 61, 67, 71, 73, 79, 83, 89, 97]\n",
            "[1, 29, 31, 37, 41, 43, 47, 53, 59, 61, 67, 71, 73, 79, 83, 89, 97]\n",
            "[1, 29, 31, 37, 41, 43, 47, 53, 59, 61, 67, 71, 73, 79, 83, 89, 97]\n",
            "[1, 29, 31, 37, 41, 43, 47, 53, 59, 61, 67, 71, 73, 79, 83, 89, 97]\n",
            "[1, 29, 31, 37, 41, 43, 47, 53, 59, 61, 67, 71, 73, 79, 83, 89, 97]\n",
            "[1, 29, 31, 37, 41, 43, 47, 53, 59, 61, 67, 71, 73, 79, 83, 89, 97]\n",
            "[1, 29, 31, 37, 41, 43, 47, 53, 59, 61, 67, 71, 73, 79, 83, 89, 97]\n",
            "[1, 31, 37, 41, 43, 47, 53, 59, 61, 67, 71, 73, 79, 83, 89, 97]\n",
            "[1, 31, 37, 41, 43, 47, 53, 59, 61, 67, 71, 73, 79, 83, 89, 97]\n",
            "[1, 37, 41, 43, 47, 53, 59, 61, 67, 71, 73, 79, 83, 89, 97]\n",
            "[1, 37, 41, 43, 47, 53, 59, 61, 67, 71, 73, 79, 83, 89, 97]\n",
            "[1, 37, 41, 43, 47, 53, 59, 61, 67, 71, 73, 79, 83, 89, 97]\n",
            "[1, 37, 41, 43, 47, 53, 59, 61, 67, 71, 73, 79, 83, 89, 97]\n",
            "[1, 37, 41, 43, 47, 53, 59, 61, 67, 71, 73, 79, 83, 89, 97]\n",
            "[1, 37, 41, 43, 47, 53, 59, 61, 67, 71, 73, 79, 83, 89, 97]\n",
            "[1, 41, 43, 47, 53, 59, 61, 67, 71, 73, 79, 83, 89, 97]\n",
            "[1, 41, 43, 47, 53, 59, 61, 67, 71, 73, 79, 83, 89, 97]\n",
            "[1, 41, 43, 47, 53, 59, 61, 67, 71, 73, 79, 83, 89, 97]\n",
            "[1, 41, 43, 47, 53, 59, 61, 67, 71, 73, 79, 83, 89, 97]\n",
            "[1, 43, 47, 53, 59, 61, 67, 71, 73, 79, 83, 89, 97]\n",
            "[1, 43, 47, 53, 59, 61, 67, 71, 73, 79, 83, 89, 97]\n",
            "[1, 47, 53, 59, 61, 67, 71, 73, 79, 83, 89, 97]\n",
            "[1, 47, 53, 59, 61, 67, 71, 73, 79, 83, 89, 97]\n",
            "[1, 47, 53, 59, 61, 67, 71, 73, 79, 83, 89, 97]\n",
            "[1, 47, 53, 59, 61, 67, 71, 73, 79, 83, 89, 97]\n",
            "[1, 53, 59, 61, 67, 71, 73, 79, 83, 89, 97]\n",
            "[1, 53, 59, 61, 67, 71, 73, 79, 83, 89, 97]\n",
            "[1, 53, 59, 61, 67, 71, 73, 79, 83, 89, 97]\n",
            "[1, 53, 59, 61, 67, 71, 73, 79, 83, 89, 97]\n",
            "[1, 53, 59, 61, 67, 71, 73, 79, 83, 89, 97]\n",
            "[1, 53, 59, 61, 67, 71, 73, 79, 83, 89, 97]\n",
            "[1, 59, 61, 67, 71, 73, 79, 83, 89, 97]\n",
            "[1, 59, 61, 67, 71, 73, 79, 83, 89, 97]\n",
            "[1, 59, 61, 67, 71, 73, 79, 83, 89, 97]\n",
            "[1, 59, 61, 67, 71, 73, 79, 83, 89, 97]\n",
            "[1, 59, 61, 67, 71, 73, 79, 83, 89, 97]\n",
            "[1, 59, 61, 67, 71, 73, 79, 83, 89, 97]\n",
            "[1, 61, 67, 71, 73, 79, 83, 89, 97]\n",
            "[1, 61, 67, 71, 73, 79, 83, 89, 97]\n",
            "[1, 67, 71, 73, 79, 83, 89, 97]\n",
            "[1, 67, 71, 73, 79, 83, 89, 97]\n",
            "[1, 67, 71, 73, 79, 83, 89, 97]\n",
            "[1, 67, 71, 73, 79, 83, 89, 97]\n",
            "[1, 67, 71, 73, 79, 83, 89, 97]\n",
            "[1, 67, 71, 73, 79, 83, 89, 97]\n",
            "[1, 71, 73, 79, 83, 89, 97]\n",
            "[1, 71, 73, 79, 83, 89, 97]\n",
            "[1, 71, 73, 79, 83, 89, 97]\n",
            "[1, 71, 73, 79, 83, 89, 97]\n",
            "[1, 73, 79, 83, 89, 97]\n",
            "[1, 73, 79, 83, 89, 97]\n",
            "[1, 79, 83, 89, 97]\n",
            "[1, 79, 83, 89, 97]\n",
            "[1, 79, 83, 89, 97]\n",
            "[1, 79, 83, 89, 97]\n",
            "[1, 79, 83, 89, 97]\n",
            "[1, 79, 83, 89, 97]\n",
            "[1, 83, 89, 97]\n",
            "[1, 83, 89, 97]\n",
            "[1, 83, 89, 97]\n",
            "[1, 83, 89, 97]\n",
            "[1, 89, 97]\n",
            "[1, 89, 97]\n",
            "[1, 89, 97]\n",
            "[1, 89, 97]\n",
            "[1, 89, 97]\n",
            "[1, 89, 97]\n",
            "[1, 97]\n",
            "[1, 97]\n",
            "[1, 97]\n",
            "[1, 97]\n",
            "[1, 97]\n",
            "[1, 97]\n",
            "[1, 97]\n",
            "[1, 97]\n",
            "[1]\n",
            "[1]\n",
            "[1]\n",
            "[1]\n"
          ],
          "name": "stdout"
        }
      ]
    }
  ]
}