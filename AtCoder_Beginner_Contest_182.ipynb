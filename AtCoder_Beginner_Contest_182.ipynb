{
  "nbformat": 4,
  "nbformat_minor": 0,
  "metadata": {
    "colab": {
      "name": "AtCoder Beginner Contest 182",
      "provenance": [],
      "collapsed_sections": [],
      "authorship_tag": "ABX9TyOWmovNXTJ/U6UI+bSu9X1w",
      "include_colab_link": true
    },
    "kernelspec": {
      "name": "python3",
      "display_name": "Python 3"
    }
  },
  "cells": [
    {
      "cell_type": "markdown",
      "metadata": {
        "id": "view-in-github",
        "colab_type": "text"
      },
      "source": [
        "<a href=\"https://colab.research.google.com/github/taka11111111/Atcorder/blob/main/AtCoder_Beginner_Contest_182.ipynb\" target=\"_parent\"><img src=\"https://colab.research.google.com/assets/colab-badge.svg\" alt=\"Open In Colab\"/></a>"
      ]
    },
    {
      "cell_type": "markdown",
      "metadata": {
        "id": "PHdXzY_1M0z6"
      },
      "source": [
        "#[A - twiblr](https://atcoder.jp/contests/abc182/tasks/abc182_a)"
      ]
    },
    {
      "cell_type": "code",
      "metadata": {
        "colab": {
          "base_uri": "https://localhost:8080/"
        },
        "id": "m_KBW5d5MvU7",
        "outputId": "0d3dc8b2-dff1-4ea0-f6c2-0372a961f97c"
      },
      "source": [
        "A,B = map(int,input().split())"
      ],
      "execution_count": null,
      "outputs": [
        {
          "output_type": "stream",
          "text": [
            "10000 0\n"
          ],
          "name": "stdout"
        }
      ]
    },
    {
      "cell_type": "code",
      "metadata": {
        "colab": {
          "base_uri": "https://localhost:8080/"
        },
        "id": "NiQlQpvvNqpB",
        "outputId": "c10a5d54-7d29-4cf1-aba7-9455ecbc9ae4"
      },
      "source": [
        "C = 2*A + 100 -B\r\n",
        "print(C)"
      ],
      "execution_count": null,
      "outputs": [
        {
          "output_type": "execute_result",
          "data": {
            "text/plain": [
              "20100"
            ]
          },
          "metadata": {
            "tags": []
          },
          "execution_count": 7
        }
      ]
    },
    {
      "cell_type": "code",
      "metadata": {
        "colab": {
          "base_uri": "https://localhost:8080/"
        },
        "id": "XcgmVAVuOC4v",
        "outputId": "df8a2b42-b121-4596-9611-0d833f51f022"
      },
      "source": [
        ""
      ],
      "execution_count": null,
      "outputs": [
        {
          "output_type": "execute_result",
          "data": {
            "text/plain": [
              "500"
            ]
          },
          "metadata": {
            "tags": []
          },
          "execution_count": 3
        }
      ]
    },
    {
      "cell_type": "markdown",
      "metadata": {
        "id": "PPRkqNzcxmED"
      },
      "source": [
        "#[B - Almost GCD](https://atcoder.jp/contests/abc182/tasks/abc182_b)"
      ]
    },
    {
      "cell_type": "code",
      "metadata": {
        "id": "lboY9HctODdb"
      },
      "source": [
        "3\n",
        "3 12 7"
      ],
      "execution_count": null,
      "outputs": []
    },
    {
      "cell_type": "code",
      "metadata": {
        "colab": {
          "base_uri": "https://localhost:8080/"
        },
        "id": "aSysr59Wx1FX",
        "outputId": "99c138c3-bbde-4b2a-aef6-c516c7b847df"
      },
      "source": [
        "N = int(input())\n",
        "A = list(map(int,input().split()))"
      ],
      "execution_count": 1,
      "outputs": [
        {
          "output_type": "stream",
          "text": [
            "3\n",
            "3 12 7\n"
          ],
          "name": "stdout"
        }
      ]
    },
    {
      "cell_type": "code",
      "metadata": {
        "colab": {
          "base_uri": "https://localhost:8080/"
        },
        "id": "IqeDTvQFyBNA",
        "outputId": "5f3fe737-1a4c-47f6-84fa-23fef80a3bdd"
      },
      "source": [
        "a = [i % 3 for i in A]\n",
        "a"
      ],
      "execution_count": 7,
      "outputs": [
        {
          "output_type": "execute_result",
          "data": {
            "text/plain": [
              "[0, 0, 1]"
            ]
          },
          "metadata": {
            "tags": []
          },
          "execution_count": 7
        }
      ]
    },
    {
      "cell_type": "code",
      "metadata": {
        "colab": {
          "base_uri": "https://localhost:8080/"
        },
        "id": "gwxJ55YZyGlW",
        "outputId": "aa6af390-f117-4406-bf97-62881b1d39f7"
      },
      "source": [
        "b = []\n",
        "for l in range(3,max(A)):\n",
        "  a = [i % l for i in A]\n",
        "  print(l,a)\n",
        "  b.append(a.count(0))\n",
        "c = max(b)\n",
        "print(b.index(c)+3,b)"
      ],
      "execution_count": 21,
      "outputs": [
        {
          "output_type": "stream",
          "text": [
            "3 [0, 0, 1]\n",
            "4 [3, 0, 3]\n",
            "5 [3, 2, 2]\n",
            "6 [3, 0, 1]\n",
            "7 [3, 5, 0]\n",
            "8 [3, 4, 7]\n",
            "9 [3, 3, 7]\n",
            "10 [3, 2, 7]\n",
            "11 [3, 1, 7]\n",
            "3 [2, 1, 0, 1, 1, 0, 0, 0, 0]\n"
          ],
          "name": "stdout"
        }
      ]
    },
    {
      "cell_type": "code",
      "metadata": {
        "colab": {
          "base_uri": "https://localhost:8080/"
        },
        "id": "jISkBsQ5zusu",
        "outputId": "ca5aa04f-375a-4146-9e3b-f68cbe560052"
      },
      "source": [
        "N = int(input())\n",
        "A = list(map(int,input().split()))\n",
        "b = []\n",
        "for l in range(3,max(A)):\n",
        "  a = [i % l for i in A]\n",
        "  b.append(a.count(0))\n",
        "c = max(b)\n",
        "print(b.index(c)+3)"
      ],
      "execution_count": 22,
      "outputs": [
        {
          "output_type": "stream",
          "text": [
            "3\n"
          ],
          "name": "stdout"
        }
      ]
    },
    {
      "cell_type": "code",
      "metadata": {
        "id": "A6lUb3Pw0OAb"
      },
      "source": [
        "× 9\n",
        "× 8\n",
        "× 2"
      ],
      "execution_count": null,
      "outputs": []
    },
    {
      "cell_type": "markdown",
      "metadata": {
        "id": "x_kOmMb808tR"
      },
      "source": [
        "いちおう答えはでたけど、速さをどうするかだなあ。"
      ]
    }
  ]
}