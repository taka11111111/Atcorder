{
  "nbformat": 4,
  "nbformat_minor": 0,
  "metadata": {
    "colab": {
      "name": "AtCoder Beginner Contest 190",
      "provenance": [],
      "collapsed_sections": [],
      "authorship_tag": "ABX9TyOeNn1I+8di50L9HNK2x+7B",
      "include_colab_link": true
    },
    "kernelspec": {
      "name": "python3",
      "display_name": "Python 3"
    }
  },
  "cells": [
    {
      "cell_type": "markdown",
      "metadata": {
        "id": "view-in-github",
        "colab_type": "text"
      },
      "source": [
        "<a href=\"https://colab.research.google.com/github/taka11111111/Atcorder/blob/main/AtCoder_Beginner_Contest_190.ipynb\" target=\"_parent\"><img src=\"https://colab.research.google.com/assets/colab-badge.svg\" alt=\"Open In Colab\"/></a>"
      ]
    },
    {
      "cell_type": "markdown",
      "metadata": {
        "id": "D2hZY7V0KLZ8"
      },
      "source": [
        "[AtCoder Beginner Contest 190 - AtCoder](https://atcoder.jp/contests/abc190)"
      ]
    },
    {
      "cell_type": "markdown",
      "metadata": {
        "id": "oe9-D3U-KNMx"
      },
      "source": [
        "#[A - Very Very Primitive Game](https://atcoder.jp/contests/abc190/tasks/abc190_a)"
      ]
    },
    {
      "cell_type": "code",
      "metadata": {
        "colab": {
          "base_uri": "https://localhost:8080/"
        },
        "id": "5xn5Fw6ZKGA4",
        "outputId": "1b22875f-7ea1-40c8-84ea-f27290aa8502"
      },
      "source": [
        "A,B,C = map(int,input().split())"
      ],
      "execution_count": 33,
      "outputs": [
        {
          "output_type": "stream",
          "text": [
            "2 2 1\n"
          ],
          "name": "stdout"
        }
      ]
    },
    {
      "cell_type": "code",
      "metadata": {
        "colab": {
          "base_uri": "https://localhost:8080/"
        },
        "id": "-aB_Q97tKK4y",
        "outputId": "b36cbe90-275f-4520-85a4-a78358586204"
      },
      "source": [
        "A,B,C = map(int,input().split())\n",
        "if C ==1:\n",
        "  A+=1\n",
        "else:\n",
        "  B+=1\n",
        "res = 'Takahashi' if A-B >=0 else 'Aoki'\n",
        "print(res)"
      ],
      "execution_count": 34,
      "outputs": [
        {
          "output_type": "stream",
          "text": [
            "Takahashi\n"
          ],
          "name": "stdout"
        }
      ]
    },
    {
      "cell_type": "code",
      "metadata": {
        "id": "z7qDiCXCNFAv"
      },
      "source": [
        "AC× 13\n",
        "WA× 1"
      ],
      "execution_count": null,
      "outputs": []
    },
    {
      "cell_type": "markdown",
      "metadata": {
        "id": "9NziEywfNIgd"
      },
      "source": [
        "あれ？？？"
      ]
    },
    {
      "cell_type": "code",
      "metadata": {
        "colab": {
          "base_uri": "https://localhost:8080/"
        },
        "id": "BZAl9D-2MBpU",
        "outputId": "96a0aa7d-b7e6-446f-ed00-8c07ee1c9fec"
      },
      "source": [
        "A,B,C = [2, 1, 0] #T\n",
        "A,B,C = [2, 2, 0] #A\n",
        "A,B,C = [2, 2, 1] #T\n",
        "\n",
        "if C ==1:\n",
        "  A+=1\n",
        "else:\n",
        "  B+=1\n",
        "res = 'Takahashi' if A-B >=0 else 'Aoki'\n",
        "print(res)"
      ],
      "execution_count": 37,
      "outputs": [
        {
          "output_type": "stream",
          "text": [
            "Takahashi\n"
          ],
          "name": "stdout"
        }
      ]
    },
    {
      "cell_type": "code",
      "metadata": {
        "colab": {
          "base_uri": "https://localhost:8080/"
        },
        "id": "IFukykG6MCt-",
        "outputId": "d3949476-b32a-41fc-bfdd-30af09e942bf"
      },
      "source": [
        "#A,B,C = [2, 1, 0] #T\n",
        "#A,B,C = [2, 2, 0] #A\n",
        "#A,B,C = [2, 2, 1] #T\n",
        "\n",
        "A,B,C = map(int,input().split())\n",
        "if C == 0:\n",
        "  while A>=0 and B>=0:\n",
        "    A-=1\n",
        "    if A == -1:\n",
        "      print('Aoki')\n",
        "      break\n",
        "    B-=1\n",
        "    if B == -1:\n",
        "      print('Takahashi')\n",
        "      break\n",
        "else:\n",
        "  while A>=0 and B>=0:\n",
        "    B-=1\n",
        "    if B == -1:\n",
        "      print('Takahashi')\n",
        "      break\n",
        "\n",
        "    A-=1\n",
        "    if A == -1:\n",
        "      print('Aoki')\n",
        "      break"
      ],
      "execution_count": 47,
      "outputs": [
        {
          "output_type": "stream",
          "text": [
            "Takahashi\n"
          ],
          "name": "stdout"
        }
      ]
    },
    {
      "cell_type": "markdown",
      "metadata": {
        "id": "JQFSlC6NZ1DV"
      },
      "source": [
        "ていねいになぞったらできた。うん。"
      ]
    },
    {
      "cell_type": "markdown",
      "metadata": {
        "id": "oiKCYs6FPYgG"
      },
      "source": [
        "#[B - Magic 3](https://atcoder.jp/contests/abc190/tasks/abc190_b)"
      ]
    },
    {
      "cell_type": "code",
      "metadata": {
        "colab": {
          "base_uri": "https://localhost:8080/"
        },
        "id": "jrlc2_iAML8Z",
        "outputId": "0cf59a5a-8059-4130-ccea-8b75833ce5c2"
      },
      "source": [
        "N,S,D = map(int,input().split())\n",
        "for i in range(N):\n",
        "  X,Y = map(int,input().split())\n",
        "  if X < S and Y > D :\n",
        "    print('Yes')\n",
        "  else:\n",
        "    print('No')"
      ],
      "execution_count": 43,
      "outputs": [
        {
          "output_type": "execute_result",
          "data": {
            "text/plain": [
              "0"
            ]
          },
          "metadata": {
            "tags": []
          },
          "execution_count": 43
        }
      ]
    },
    {
      "cell_type": "code",
      "metadata": {
        "id": "NQ8OndI8Owps"
      },
      "source": [
        "N,S,D = map(int,input().split())\n",
        "res = 'No'\n",
        "for i in range(N):\n",
        "  X,Y = map(int,input().split())\n",
        "  if X < S and Y > D :\n",
        "    res='Yes'\n",
        "    #print('Yes')\n",
        "    break\n",
        "  #else:\n",
        "  #  print('No')\n",
        "print(res)"
      ],
      "execution_count": null,
      "outputs": []
    },
    {
      "cell_type": "markdown",
      "metadata": {
        "id": "8GLwXmI1ZvmZ"
      },
      "source": [
        "とおった！！！"
      ]
    },
    {
      "cell_type": "markdown",
      "metadata": {
        "id": "9arzYmM4ROKA"
      },
      "source": [
        "#[C - Bowls and Dishes](https://atcoder.jp/contests/abc190/tasks/abc190_c)\n",
        "\n",
        "問題文\n",
        "1\n",
        ",\n",
        "2\n",
        ",\n",
        "…\n",
        ",\n",
        "N\n",
        " の番号がついた \n",
        "N\n",
        " 個の皿と、\n",
        "1\n",
        ",\n",
        "2\n",
        ",\n",
        "…\n",
        ",\n",
        "M\n",
        " の番号がついた \n",
        "M\n",
        " 個の条件があります。\n",
        "条件 \n",
        "i\n",
        " は、皿 \n",
        "A\n",
        "i\n",
        " と皿 \n",
        "B\n",
        "i\n",
        " の両方にボールが (\n",
        "1\n",
        " 個以上) 置かれているとき満たされます。\n",
        "1\n",
        ",\n",
        "2\n",
        ",\n",
        "…\n",
        ",\n",
        "K\n",
        " の番号がついた \n",
        "K\n",
        " 人の人がいて、人 \n",
        "i\n",
        " は皿 \n",
        "C\n",
        "i\n",
        " か皿 \n",
        "D\n",
        "i\n",
        " のどちらか一方にボールを置きます。\n",
        "満たされる条件の個数は最大でいくつでしょうか？"
      ]
    },
    {
      "cell_type": "markdown",
      "metadata": {
        "id": "bAdWl871Wk4p"
      },
      "source": [
        "やばい・・・意味がぜんぜんわからない！"
      ]
    },
    {
      "cell_type": "code",
      "metadata": {
        "id": "52cARJa1WwqE"
      },
      "source": [
        "4 4\n",
        "1 2\n",
        "1 3\n",
        "2 4\n",
        "3 4\n",
        "3\n",
        "1 2\n",
        "1 3\n",
        "2 3"
      ],
      "execution_count": null,
      "outputs": []
    },
    {
      "cell_type": "code",
      "metadata": {
        "id": "JjKswV3VWiVq"
      },
      "source": [
        "N,M = map(int,input().split())\n",
        "I = []\n",
        "L = []\n",
        "\n",
        "for i in range(M):\n",
        "  A,B = map(int,input().split())\n",
        "  if A > 0 and B > 0 :\n",
        "    I.append(i)\n",
        "  else:\n",
        "    I.append(0)\n",
        "\n",
        "K = int(input())\n",
        "\n",
        "for l in range(K):\n",
        "  C,D = map(int,input().split())\n",
        "  if C > 0 and D > 0 :\n",
        "    L.append(l)\n",
        "  else:\n",
        "    L.append(l)\n",
        "\n",
        "print(I,L)"
      ],
      "execution_count": null,
      "outputs": []
    },
    {
      "cell_type": "markdown",
      "metadata": {
        "id": "3VX-GBCaZpkT"
      },
      "source": [
        "だめだーさっぱりわからん！！！"
      ]
    },
    {
      "cell_type": "markdown",
      "metadata": {
        "id": "ai4KwHwwZoQ9"
      },
      "source": [
        "#[D - Staircase Sequences](https://atcoder.jp/contests/abc190/tasks/abc190_d)\n",
        "整数からなる公差 \n",
        "1\n",
        " の等差数列のうち、総和が \n",
        "N\n",
        " であるものはいくつあるでしょうか？"
      ]
    },
    {
      "cell_type": "markdown",
      "metadata": {
        "id": "Wtkm8r6mauWX"
      },
      "source": [
        "等差数列ってなんだろう。調べてみる。\n",
        "\n",
        "[等差数列の和](https://www.kwansei.ac.jp/hs/z90010/sugakua/suuretu/tousasum/tousasum.htm)"
      ]
    },
    {
      "cell_type": "code",
      "metadata": {
        "id": "YUSCJ-g3Wj_9"
      },
      "source": [
        "N = int(input())"
      ],
      "execution_count": null,
      "outputs": []
    },
    {
      "cell_type": "markdown",
      "metadata": {
        "id": "ZfrdDVE4b-JW"
      },
      "source": [
        "[\n",
        "12\n",
        "]\n",
        "[\n",
        "3\n",
        ",\n",
        "4\n",
        ",\n",
        "5\n",
        "]\n",
        "[\n",
        "−\n",
        "2\n",
        ",\n",
        "−\n",
        "1\n",
        ",\n",
        "0\n",
        ",\n",
        "1\n",
        ",\n",
        "2\n",
        ",\n",
        "3\n",
        ",\n",
        "4\n",
        ",\n",
        "5\n",
        "]\n",
        "[\n",
        "−\n",
        "11\n",
        ",\n",
        "−\n",
        "10\n",
        ",\n",
        "−\n",
        "9\n",
        ",\n",
        "…\n",
        ",\n",
        "10\n",
        ",\n",
        "11\n",
        ",\n",
        "12\n",
        "]"
      ]
    },
    {
      "cell_type": "code",
      "metadata": {
        "id": "UweXFt5JbBu9"
      },
      "source": [
        "N = 12のとき\n",
        "[ 12 ]\n",
        "[ 3 , 4 , 5 ]\n",
        "[ − 2 , − 1 , 0 , 1 , 2 , 3 , 4 , 5 ] \n",
        "[ − 11 , − 10 , − 9 , … , 10 , 11 , 12 ]\n",
        "の４個\n",
        "\n",
        "初項 a，公差 d，項数 n，末項 l の等差数列の初項から第 n 項までの和 Sn は，\n",
        "N = ( 2a + (n-1) *d )*n /2\n",
        "だから・・・"
      ],
      "execution_count": null,
      "outputs": []
    },
    {
      "cell_type": "code",
      "metadata": {
        "colab": {
          "base_uri": "https://localhost:8080/"
        },
        "id": "r-BZZF39UazQ",
        "outputId": "4db975c9-dd0d-41c7-d066-db6c886d57ff"
      },
      "source": [
        "a = 12\n",
        "d = 1\n",
        "n = 1\n",
        "( 2*a + (n-1) *d )*n /2"
      ],
      "execution_count": 50,
      "outputs": [
        {
          "output_type": "execute_result",
          "data": {
            "text/plain": [
              "12.0"
            ]
          },
          "metadata": {
            "tags": []
          },
          "execution_count": 50
        }
      ]
    },
    {
      "cell_type": "code",
      "metadata": {
        "colab": {
          "base_uri": "https://localhost:8080/"
        },
        "id": "cRs2kDzFchI3",
        "outputId": "39d36a48-5928-4dc5-8742-cc4a0db26519"
      },
      "source": [
        "a = 3\n",
        "d = 1\n",
        "n = 3\n",
        "( 2*a + (n-1) *d )*n /2"
      ],
      "execution_count": 51,
      "outputs": [
        {
          "output_type": "execute_result",
          "data": {
            "text/plain": [
              "12.0"
            ]
          },
          "metadata": {
            "tags": []
          },
          "execution_count": 51
        }
      ]
    },
    {
      "cell_type": "code",
      "metadata": {
        "colab": {
          "base_uri": "https://localhost:8080/"
        },
        "id": "wtRCrvb7dAQf",
        "outputId": "562f0c41-e180-4743-8b73-ad81230e2b63"
      },
      "source": [
        "a = -2\n",
        "l = 5\n",
        "d = 1\n",
        "n = 8\n",
        "( 2*a + (n-1) *d )*n /2"
      ],
      "execution_count": 52,
      "outputs": [
        {
          "output_type": "execute_result",
          "data": {
            "text/plain": [
              "12.0"
            ]
          },
          "metadata": {
            "tags": []
          },
          "execution_count": 52
        }
      ]
    },
    {
      "cell_type": "code",
      "metadata": {
        "colab": {
          "base_uri": "https://localhost:8080/"
        },
        "id": "QhsNzx1VdU6h",
        "outputId": "6b53cd46-55de-4712-9c8b-ae1ecc030497"
      },
      "source": [
        "n*(a + l)/2"
      ],
      "execution_count": 54,
      "outputs": [
        {
          "output_type": "execute_result",
          "data": {
            "text/plain": [
              "12.0"
            ]
          },
          "metadata": {
            "tags": []
          },
          "execution_count": 54
        }
      ]
    },
    {
      "cell_type": "code",
      "metadata": {
        "colab": {
          "base_uri": "https://localhost:8080/"
        },
        "id": "wndArStYdbzy",
        "outputId": "3d265749-2a3f-498c-f719-d25be4ca5332"
      },
      "source": [
        "a = -11\n",
        "l = 12\n",
        "d = 1\n",
        "n = 24\n",
        "n*(a + l)/2"
      ],
      "execution_count": 56,
      "outputs": [
        {
          "output_type": "execute_result",
          "data": {
            "text/plain": [
              "12.0"
            ]
          },
          "metadata": {
            "tags": []
          },
          "execution_count": 56
        }
      ]
    },
    {
      "cell_type": "code",
      "metadata": {
        "colab": {
          "base_uri": "https://localhost:8080/"
        },
        "id": "VAWY32lAdmmS",
        "outputId": "a38f506c-049f-4462-8862-a545b3bdadd5"
      },
      "source": [
        "( 2*a + (n-1) *d )*n /2"
      ],
      "execution_count": 57,
      "outputs": [
        {
          "output_type": "execute_result",
          "data": {
            "text/plain": [
              "12.0"
            ]
          },
          "metadata": {
            "tags": []
          },
          "execution_count": 57
        }
      ]
    },
    {
      "cell_type": "markdown",
      "metadata": {
        "id": "ZRy6jJrzd-hh"
      },
      "source": [
        "おもしろー！！！"
      ]
    },
    {
      "cell_type": "code",
      "metadata": {
        "colab": {
          "base_uri": "https://localhost:8080/"
        },
        "id": "4WZVcbjzd7Cn",
        "outputId": "bb4ef1a1-0608-41fe-96d0-ae4b2fc384a8"
      },
      "source": [
        "#a = -11\n",
        "#l = 12\n",
        "#d = 1\n",
        "#n = 24\n",
        "\n",
        "#n*(a + l)/2 = 12\n",
        "#n*(a + l) = 6\n",
        "an + al = 6\n",
        "#( 2*a + (n-1) *d )*n /2 = 12\n",
        "#( 2*a + (n-1) )*n = 6\n",
        "2an + n**2 - n = 6"
      ],
      "execution_count": 58,
      "outputs": [
        {
          "output_type": "execute_result",
          "data": {
            "text/plain": [
              "12.0"
            ]
          },
          "metadata": {
            "tags": []
          },
          "execution_count": 58
        }
      ]
    },
    {
      "cell_type": "markdown",
      "metadata": {
        "id": "WPyLpOfufWAF"
      },
      "source": [
        "うーん"
      ]
    },
    {
      "cell_type": "code",
      "metadata": {
        "id": "HtYMPV4YfXQn"
      },
      "source": [
        "N = n*(a + l)/2"
      ],
      "execution_count": null,
      "outputs": []
    },
    {
      "cell_type": "code",
      "metadata": {
        "colab": {
          "base_uri": "https://localhost:8080/"
        },
        "id": "35srRtslfofE",
        "outputId": "f11bf065-3e71-41ef-8087-b9deadc05609"
      },
      "source": [
        "N = 12\n",
        "for i in reversed(range(N+1)):\n",
        "  print(i)"
      ],
      "execution_count": 63,
      "outputs": [
        {
          "output_type": "stream",
          "text": [
            "12\n",
            "11\n",
            "10\n",
            "9\n",
            "8\n",
            "7\n",
            "6\n",
            "5\n",
            "4\n",
            "3\n",
            "2\n",
            "1\n",
            "0\n"
          ],
          "name": "stdout"
        }
      ]
    },
    {
      "cell_type": "markdown",
      "metadata": {
        "id": "LHmM2ijvhHPa"
      },
      "source": [
        "わからーーーん！！！"
      ]
    },
    {
      "cell_type": "code",
      "metadata": {
        "id": "61wO2e1jgA1p"
      },
      "source": [
        ""
      ],
      "execution_count": null,
      "outputs": []
    }
  ]
}