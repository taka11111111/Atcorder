{
  "nbformat": 4,
  "nbformat_minor": 0,
  "metadata": {
    "colab": {
      "name": "AtCoder Beginner Contest 185",
      "provenance": [],
      "collapsed_sections": [],
      "authorship_tag": "ABX9TyPZOrQIuC3j4oqG8aDQmpEJ",
      "include_colab_link": true
    },
    "kernelspec": {
      "name": "python3",
      "display_name": "Python 3"
    }
  },
  "cells": [
    {
      "cell_type": "markdown",
      "metadata": {
        "id": "view-in-github",
        "colab_type": "text"
      },
      "source": [
        "<a href=\"https://colab.research.google.com/github/taka11111111/Atcorder/blob/main/AtCoder_Beginner_Contest_185.ipynb\" target=\"_parent\"><img src=\"https://colab.research.google.com/assets/colab-badge.svg\" alt=\"Open In Colab\"/></a>"
      ]
    },
    {
      "cell_type": "markdown",
      "metadata": {
        "id": "e--VxHcP8EA1"
      },
      "source": [
        "#[A - ABC Preparation](https://atcoder.jp/contests/abc185/tasks/abc185_a)"
      ]
    },
    {
      "cell_type": "code",
      "metadata": {
        "colab": {
          "base_uri": "https://localhost:8080/"
        },
        "id": "T96Kkfdt8C8h",
        "outputId": "c403bed4-627f-4f5f-ee26-37d6276c1a1c"
      },
      "source": [
        "N = list(map(int,input().split()))\r\n",
        "print(min(N))"
      ],
      "execution_count": null,
      "outputs": [
        {
          "output_type": "stream",
          "text": [
            "5 3 7 11\n",
            "3\n"
          ],
          "name": "stdout"
        }
      ]
    },
    {
      "cell_type": "markdown",
      "metadata": {
        "id": "aO19lb6n9Ga9"
      },
      "source": [
        "#[B - Smartphone Addiction](https://atcoder.jp/contests/abc185/tasks/abc185_b)\r\n",
        "\r\n",
        "高橋君のスマートフォンのバッテリー容量は \r\n",
        "N\r\n",
        " [mAh] であり、時刻 \r\n",
        "0.5\r\n",
        ",\r\n",
        "1.5\r\n",
        ",\r\n",
        "2.5\r\n",
        ",\r\n",
        "…\r\n",
        " に、つまり時刻 \r\n",
        "n\r\n",
        "+\r\n",
        "0.5\r\n",
        "(\r\n",
        "n\r\n",
        " は整数\r\n",
        ")\r\n",
        " を迎える度にバッテリー残量が \r\n",
        "1\r\n",
        " [mAh] ずつ減少します。\r\n",
        "高橋君はスマートフォンを満充電した状態で時刻 \r\n",
        "0\r\n",
        " に外出し、途中で \r\n",
        "M\r\n",
        " 回カフェを訪れ、時刻 \r\n",
        "T\r\n",
        " に帰宅します。\r\n",
        "i\r\n",
        " 回目に訪れるカフェには時刻 \r\n",
        "A\r\n",
        "i\r\n",
        " から時刻 \r\n",
        "B\r\n",
        "i\r\n",
        " まで滞在します。カフェに滞在している間はスマートフォンを充電するため、バッテリー残量は減少せず、代わりに時刻 \r\n",
        "n\r\n",
        "+\r\n",
        "0.5\r\n",
        "(\r\n",
        "n\r\n",
        " は整数\r\n",
        ")\r\n",
        " を迎える度に \r\n",
        "1\r\n",
        " [mAh] ずつ増加します。ただし既にバッテリー残量がバッテリー容量と等しい場合、バッテリー残量は増えも減りもしません。\r\n",
        "高橋君が途中でスマートフォンのバッテリー残量が \r\n",
        "0\r\n",
        " になることなく帰宅することができるかを判定してください。"
      ]
    },
    {
      "cell_type": "markdown",
      "metadata": {
        "id": "6enxSs2CQU3B"
      },
      "source": [
        "１ステップずつやってみる。"
      ]
    },
    {
      "cell_type": "code",
      "metadata": {
        "id": "oArRWG_28umj"
      },
      "source": [
        "#Q1 Yes\r\n",
        "10 2 20\r\n",
        "9 11\r\n",
        "13 17"
      ],
      "execution_count": null,
      "outputs": []
    },
    {
      "cell_type": "code",
      "metadata": {
        "colab": {
          "base_uri": "https://localhost:8080/"
        },
        "id": "2HPBKEzH_PYo",
        "outputId": "8afa95f0-9a0f-47e2-d3a0-e1e33bdd3bad"
      },
      "source": [
        "#一番目のカフェ\r\n",
        "N = 10\r\n",
        "A = 9\r\n",
        "B = 11\r\n",
        "N = N - int(A +0.5)\r\n",
        "N"
      ],
      "execution_count": null,
      "outputs": [
        {
          "output_type": "execute_result",
          "data": {
            "text/plain": [
              "1"
            ]
          },
          "metadata": {
            "tags": []
          },
          "execution_count": 27
        }
      ]
    },
    {
      "cell_type": "code",
      "metadata": {
        "colab": {
          "base_uri": "https://localhost:8080/"
        },
        "id": "0B4MEXkvdWv5",
        "outputId": "4533c072-ee4d-4a6e-fbb9-307009d983a6"
      },
      "source": [
        "#充電\r\n",
        "N = N + (B - A)\r\n",
        "N"
      ],
      "execution_count": null,
      "outputs": [
        {
          "output_type": "execute_result",
          "data": {
            "text/plain": [
              "3"
            ]
          },
          "metadata": {
            "tags": []
          },
          "execution_count": 28
        }
      ]
    },
    {
      "cell_type": "code",
      "metadata": {
        "colab": {
          "base_uri": "https://localhost:8080/"
        },
        "id": "Jfe4y4dNdcT2",
        "outputId": "dd4bd291-3c21-4e33-d6f4-63e5068b3afa"
      },
      "source": [
        "#二番目のカフェ\r\n",
        "A = 13\r\n",
        "B = 17\r\n",
        "N = N - int(A-11 +0.5)\r\n",
        "N"
      ],
      "execution_count": null,
      "outputs": [
        {
          "output_type": "execute_result",
          "data": {
            "text/plain": [
              "1"
            ]
          },
          "metadata": {
            "tags": []
          },
          "execution_count": 32
        }
      ]
    },
    {
      "cell_type": "code",
      "metadata": {
        "colab": {
          "base_uri": "https://localhost:8080/"
        },
        "id": "c_VyZR79dvJg",
        "outputId": "4d57245c-4541-46e9-a246-a891200f4e33"
      },
      "source": [
        "#充電\r\n",
        "N = N + (B - A)\r\n",
        "N"
      ],
      "execution_count": null,
      "outputs": [
        {
          "output_type": "execute_result",
          "data": {
            "text/plain": [
              "5"
            ]
          },
          "metadata": {
            "tags": []
          },
          "execution_count": 33
        }
      ]
    },
    {
      "cell_type": "code",
      "metadata": {
        "colab": {
          "base_uri": "https://localhost:8080/"
        },
        "id": "eEzWcSdHQ4-B",
        "outputId": "e081b1d2-3c92-41da-b05a-e3c17f4cc70a"
      },
      "source": [
        "#帰宅時\r\n",
        "T = 20\r\n",
        "N = N - int(T-17 +0.5)\r\n",
        "N"
      ],
      "execution_count": null,
      "outputs": [
        {
          "output_type": "execute_result",
          "data": {
            "text/plain": [
              "2"
            ]
          },
          "metadata": {
            "tags": []
          },
          "execution_count": 35
        }
      ]
    },
    {
      "cell_type": "markdown",
      "metadata": {
        "id": "cooquJ0OedC_"
      },
      "source": [
        "###まとめると"
      ]
    },
    {
      "cell_type": "code",
      "metadata": {
        "id": "9rAG02ek9J69",
        "colab": {
          "base_uri": "https://localhost:8080/"
        },
        "outputId": "b1153d5c-b232-4b96-ed3b-6e8bf12c8bac"
      },
      "source": [
        "N,M,T = map(int,input().split())\r\n",
        "C = 0 #時間の差分、最初は０\r\n",
        "\r\n",
        "for i in range(M):\r\n",
        "  A,B =  map(int,input().split())\r\n",
        "  #一番目のカフェ\r\n",
        "  #N = 10\r\n",
        "  #A = 9\r\n",
        "  #B = 11\r\n",
        "  N = N - int(A-C +0.5)\r\n",
        "  #N = N - int(A +0.5)\r\n",
        "  print(N)\r\n",
        "\r\n",
        "  #充電\r\n",
        "  N = N + (B - A)\r\n",
        "  print(N)\r\n",
        "  C = B\r\n",
        "\r\n",
        "#帰宅時\r\n",
        "#T = 20\r\n",
        "N = N - int(T-17 +0.5)\r\n",
        "print(N)\r\n"
      ],
      "execution_count": null,
      "outputs": [
        {
          "output_type": "stream",
          "text": [
            "10 2 20\n",
            "9 11\n",
            "1\n",
            "3\n",
            "13 17\n",
            "1\n",
            "5\n",
            "2\n"
          ],
          "name": "stdout"
        }
      ]
    },
    {
      "cell_type": "markdown",
      "metadata": {
        "id": "gPFgY_6xh9uA"
      },
      "source": [
        "### 入力例２\r\n",
        "```\r\n",
        "10 2 20\r\n",
        "9 11\r\n",
        "13 16\r\n"
      ]
    },
    {
      "cell_type": "code",
      "metadata": {
        "colab": {
          "base_uri": "https://localhost:8080/"
        },
        "id": "d1f11J0WfxSH",
        "outputId": "5a6da08d-7b53-4a36-f796-cb5b5cea20d0"
      },
      "source": [
        "N,M,T = map(int,input().split())\r\n",
        "C = 0 \r\n",
        "\r\n",
        "for i in range(M):\r\n",
        "  A,B =  map(int,input().split())\r\n",
        "  N = N - int(A-C +0.5)\r\n",
        "  N = N + (B - A)\r\n",
        "  C = B\r\n",
        "\r\n",
        "N = N - int(T-17 +0.5)\r\n",
        "res = 'Yes' if N>0 else 'No'\r\n",
        "print(res)"
      ],
      "execution_count": null,
      "outputs": [
        {
          "output_type": "stream",
          "text": [
            "10 2 20\n",
            "9 11\n",
            "13 17\n",
            "Yes\n"
          ],
          "name": "stdout"
        }
      ]
    },
    {
      "cell_type": "code",
      "metadata": {
        "colab": {
          "base_uri": "https://localhost:8080/"
        },
        "id": "hqTAIHgkgx4V",
        "outputId": "7f2325e7-97f7-40c4-f194-94c6d98649a6"
      },
      "source": [
        "N,M,T = map(int,input().split())\r\n",
        "C = 0 \r\n",
        "\r\n",
        "for i in range(M):\r\n",
        "  A,B =  map(int,input().split())\r\n",
        "  N = N - int(A-C +0.5)\r\n",
        "  N = N + (B - A)\r\n",
        "  C = B\r\n",
        "\r\n",
        "N = N - int(T-17 +0.5)\r\n",
        "res = 'Yes' if N>0 else 'No'\r\n",
        "print(res)"
      ],
      "execution_count": null,
      "outputs": [
        {
          "output_type": "stream",
          "text": [
            "10 2 20\n",
            "9 11\n",
            "13 16\n",
            "Yes\n"
          ],
          "name": "stdout"
        }
      ]
    },
    {
      "cell_type": "markdown",
      "metadata": {
        "id": "rKYiVoMkg7qm"
      },
      "source": [
        "Noなんだけどな？？？\r\n",
        "\r\n",
        "あっ、T-Cじゃん！！！"
      ]
    },
    {
      "cell_type": "code",
      "metadata": {
        "colab": {
          "base_uri": "https://localhost:8080/"
        },
        "id": "P58IzF9MhuPh",
        "outputId": "1acc6f25-2ec0-4295-dd56-d4785bc2d2f7"
      },
      "source": [
        "N,M,T = map(int,input().split())\r\n",
        "C = 0 \r\n",
        "\r\n",
        "for i in range(M):\r\n",
        "  A,B =  map(int,input().split())\r\n",
        "  N = N - int(A-C +0.5)\r\n",
        "  N = N + (B - A)\r\n",
        "  C = B\r\n",
        "\r\n",
        "N = N - int(T-C +0.5)\r\n",
        "res = 'Yes' if N>0 else 'No'\r\n",
        "print(res)"
      ],
      "execution_count": null,
      "outputs": [
        {
          "output_type": "stream",
          "text": [
            "10 2 20\n",
            "9 11\n",
            "13 16\n",
            "No\n"
          ],
          "name": "stdout"
        }
      ]
    },
    {
      "cell_type": "markdown",
      "metadata": {
        "id": "iL2Nx3yUiHRV"
      },
      "source": [
        "###入力例４\r\n",
        "\r\n",
        "```\r\n",
        "20 1 30\r\n",
        "20 29\r\n",
        "\r\n",
        "No\r\n"
      ]
    },
    {
      "cell_type": "code",
      "metadata": {
        "colab": {
          "base_uri": "https://localhost:8080/"
        },
        "id": "qyx0Cn0jgTWf",
        "outputId": "c383bb30-60f7-4fd8-d41c-c511f9f4188a"
      },
      "source": [
        "N,M,T = map(int,input().split())\r\n",
        "C = 0 #時間の差分、最初は０\r\n",
        "\r\n",
        "for i in range(M):\r\n",
        "  A,B =  map(int,input().split())\r\n",
        "  #一番目のカフェ\r\n",
        "  #N = 10\r\n",
        "  #A = 9\r\n",
        "  #B = 11\r\n",
        "  N = N - int(A-C +0.5)\r\n",
        "  #N = N - int(A +0.5)\r\n",
        "  print(N)\r\n",
        "  if N <=0:\r\n",
        "    break\r\n",
        "\r\n",
        "  #充電\r\n",
        "  N = N + (B - A)\r\n",
        "  print(N)\r\n",
        "  if N <=0:\r\n",
        "    break\r\n",
        "  C = B\r\n",
        "\r\n",
        "#帰宅時\r\n",
        "#T = 20\r\n",
        "N = N - int(T-C +0.5)\r\n",
        "res = 'Yes' if N >= 0 else 'No'\r\n",
        "print(N)\r\n",
        "print(res)"
      ],
      "execution_count": null,
      "outputs": [
        {
          "output_type": "stream",
          "text": [
            "20 1 30\n",
            "20 29\n",
            "0\n",
            "-30\n",
            "No\n"
          ],
          "name": "stdout"
        }
      ]
    },
    {
      "cell_type": "markdown",
      "metadata": {
        "id": "XlEjNxxUjy6I"
      },
      "source": [
        "よーし！\r\n",
        "\r\n",
        "```\r\n",
        "AC × 13\r\n",
        "WA × 8\r\n",
        "```\r\n",
        "だめかー"
      ]
    },
    {
      "cell_type": "markdown",
      "metadata": {
        "id": "MxWUpunpkCdo"
      },
      "source": [
        "###入力例５\r\n",
        "\r\n",
        "```\r\n",
        "20 1 30\r\n",
        "1 10\r\n",
        "\r\n",
        "No\r\n",
        "```"
      ]
    },
    {
      "cell_type": "code",
      "metadata": {
        "colab": {
          "base_uri": "https://localhost:8080/"
        },
        "id": "sX4q1IJ6jiTf",
        "outputId": "7b90b04f-a99f-4613-a4b8-6da5a44ca650"
      },
      "source": [
        "N,M,T = map(int,input().split())\r\n",
        "C = 0 #時間の差分、最初は０\r\n",
        "n = N #容量をとっておく\r\n",
        "for i in range(M):\r\n",
        "  A,B =  map(int,input().split())\r\n",
        "  #一番目のカフェ\r\n",
        "  #N = 10\r\n",
        "  #A = 9\r\n",
        "  #B = 11\r\n",
        "  N = N - int(A-C +0.5)\r\n",
        "  #N = N - int(A +0.5)\r\n",
        "  print(N)\r\n",
        "  if N <=0:\r\n",
        "    break\r\n",
        "\r\n",
        "  #充電は容量まで\r\n",
        "  N = N + (B - A)\r\n",
        "  N = n if N > n else N #充電は容量まで\r\n",
        "  print(N)\r\n",
        "  if N <=0:\r\n",
        "    break\r\n",
        "  C = B\r\n",
        "\r\n",
        "#帰宅時\r\n",
        "#T = 20\r\n",
        "N = N - int(T-C +0.5)\r\n",
        "res = 'Yes' if N > 0 else 'No'\r\n",
        "print(N)\r\n",
        "print(res)"
      ],
      "execution_count": null,
      "outputs": [
        {
          "output_type": "stream",
          "text": [
            "20 1 30\n",
            "1 10\n",
            "19\n",
            "20\n",
            "0\n",
            "No\n"
          ],
          "name": "stdout"
        }
      ]
    },
    {
      "cell_type": "code",
      "metadata": {
        "id": "BE8era4GnrlW"
      },
      "source": [
        "N,M,T = map(int,input().split())\r\n",
        "C = 0 #時間の差分、最初は０\r\n",
        "n = N #容量をとっておく\r\n",
        "for i in range(M):\r\n",
        "  A,B =  map(int,input().split())\r\n",
        "  N = N - int(A-C +0.5)\r\n",
        "  if N <=0:\r\n",
        "    break\r\n",
        "  N = N + (B - A)\r\n",
        "  N = n if N > n else N #充電は容量まで\r\n",
        "  if N <=0:\r\n",
        "    break\r\n",
        "  C = B\r\n",
        "\r\n",
        "#帰宅時\r\n",
        "N = N - int(T-C +0.5)\r\n",
        "res = 'Yes' if N > 0 else 'No'\r\n",
        "print(res)"
      ],
      "execution_count": null,
      "outputs": []
    },
    {
      "cell_type": "markdown",
      "metadata": {
        "id": "8f2I0ky6oEQw"
      },
      "source": [
        "できたー！"
      ]
    },
    {
      "cell_type": "markdown",
      "metadata": {
        "id": "8mwZXUvqoJRw"
      },
      "source": [
        "#[C - Duodecim Ferra](https://atcoder.jp/contests/abc185/tasks/abc185_c)\r\n",
        "\r\n",
        "問題文\r\n",
        "長さ \r\n",
        "L\r\n",
        " の鉄の棒が東西方向に横たわっています。この棒を \r\n",
        "11\r\n",
        " 箇所で切断して、\r\n",
        "12\r\n",
        " 本に分割します。このとき分割後の各棒の長さが全て正整数になるように分割しなければなりません。\r\n",
        "分割のしかたが何通りあるかを求めてください。二つの分割の方法は、一方で分割されているが他方で分割されていない位置が存在する場合に、そしてその場合に限って区別されます。\r\n",
        "なお、この問題の制約下で答えは \r\n",
        "2**\r\n",
        "63\r\n",
        " 未満であることが証明できます。\r\n",
        "\r\n",
        " 制約\r\n",
        "12\r\n",
        "≤\r\n",
        "L\r\n",
        "≤\r\n",
        "200\r\n",
        "L\r\n",
        " は整数"
      ]
    },
    {
      "cell_type": "code",
      "metadata": {
        "colab": {
          "base_uri": "https://localhost:8080/"
        },
        "id": "I-2VbNL-oHU7",
        "outputId": "55af4a54-c134-4aac-feb2-2a7ec5b29f11"
      },
      "source": [
        "#Case1 #1\r\n",
        "L = 12\r\n",
        "C = 12\r\n",
        "L/C"
      ],
      "execution_count": null,
      "outputs": [
        {
          "output_type": "execute_result",
          "data": {
            "text/plain": [
              "1.0"
            ]
          },
          "metadata": {
            "tags": []
          },
          "execution_count": 50
        }
      ]
    },
    {
      "cell_type": "code",
      "metadata": {
        "colab": {
          "base_uri": "https://localhost:8080/"
        },
        "id": "geghfhJ6oxDg",
        "outputId": "cb536bb5-7101-49e9-e589-d63750c147a9"
      },
      "source": [
        "#Case2 #12\r\n",
        "L = 13\r\n",
        "L/C"
      ],
      "execution_count": null,
      "outputs": [
        {
          "output_type": "execute_result",
          "data": {
            "text/plain": [
              "1.0833333333333333"
            ]
          },
          "metadata": {
            "tags": []
          },
          "execution_count": 51
        }
      ]
    },
    {
      "cell_type": "markdown",
      "metadata": {
        "id": "nPruahF4po2X"
      },
      "source": [
        "あまりをとればいいかな？"
      ]
    },
    {
      "cell_type": "code",
      "metadata": {
        "colab": {
          "base_uri": "https://localhost:8080/"
        },
        "id": "xM-c_GOupGnj",
        "outputId": "a6a121b7-0c39-4b97-af56-b03286e21fc8"
      },
      "source": [
        "L%C"
      ],
      "execution_count": null,
      "outputs": [
        {
          "output_type": "execute_result",
          "data": {
            "text/plain": [
              "1"
            ]
          },
          "metadata": {
            "tags": []
          },
          "execution_count": 52
        }
      ]
    },
    {
      "cell_type": "markdown",
      "metadata": {
        "id": "pbS87iWkp-fQ"
      },
      "source": [
        "あまり１がどこに移動してもいいので、１２通り。"
      ]
    },
    {
      "cell_type": "code",
      "metadata": {
        "colab": {
          "base_uri": "https://localhost:8080/"
        },
        "id": "DSPcm-5apuwu",
        "outputId": "51cbb58e-5b17-4fb2-f0e5-ccd7ca117686"
      },
      "source": [
        "#Case3 #4368\r\n",
        "\r\n",
        "L = 17\r\n",
        "L%C"
      ],
      "execution_count": null,
      "outputs": [
        {
          "output_type": "execute_result",
          "data": {
            "text/plain": [
              "5"
            ]
          },
          "metadata": {
            "tags": []
          },
          "execution_count": 53
        }
      ]
    },
    {
      "cell_type": "markdown",
      "metadata": {
        "id": "n2Dd68cJqRIW"
      },
      "source": [
        "５の場合の数だけあるから\r\n",
        "\r\n",
        "[Pythonで階乗、順列・組み合わせを計算、生成 | note.nkmk.me](https://note.nkmk.me/python-math-factorial-permutations-combinations/)"
      ]
    },
    {
      "cell_type": "code",
      "metadata": {
        "id": "3DVZXligrHFZ"
      },
      "source": [
        "import math"
      ],
      "execution_count": null,
      "outputs": []
    },
    {
      "cell_type": "code",
      "metadata": {
        "colab": {
          "base_uri": "https://localhost:8080/"
        },
        "id": "skqwdbQtrmY3",
        "outputId": "d6ea3f60-dce0-4fe6-e85f-47f17d62b3e0"
      },
      "source": [
        "print(math.factorial(12))"
      ],
      "execution_count": null,
      "outputs": [
        {
          "output_type": "stream",
          "text": [
            "479001600\n"
          ],
          "name": "stdout"
        }
      ]
    },
    {
      "cell_type": "code",
      "metadata": {
        "colab": {
          "base_uri": "https://localhost:8080/"
        },
        "id": "3M5uHwMeqMJJ",
        "outputId": "8231204f-917c-41a6-d0a9-daeb7638c57d"
      },
      "source": [
        "def permutations_count(n, r):\r\n",
        "    return math.factorial(n) // math.factorial(n - r)\r\n",
        "\r\n",
        "print(permutations_count(12, 5))"
      ],
      "execution_count": null,
      "outputs": [
        {
          "output_type": "stream",
          "text": [
            "95040\n"
          ],
          "name": "stdout"
        }
      ]
    },
    {
      "cell_type": "markdown",
      "metadata": {
        "id": "kAyOr6cnrajV"
      },
      "source": [
        "多すぎ\r\n",
        "\r\n",
        "4368ってどんな数か"
      ]
    },
    {
      "cell_type": "code",
      "metadata": {
        "colab": {
          "base_uri": "https://localhost:8080/"
        },
        "id": "l2buNA-1rZvg",
        "outputId": "a09df695-f0bb-4116-f6f5-72ccac44aff7"
      },
      "source": [
        "4368/2/2/2/2/3/7/13"
      ],
      "execution_count": null,
      "outputs": [
        {
          "output_type": "execute_result",
          "data": {
            "text/plain": [
              "1.0"
            ]
          },
          "metadata": {
            "tags": []
          },
          "execution_count": 74
        }
      ]
    },
    {
      "cell_type": "code",
      "metadata": {
        "colab": {
          "base_uri": "https://localhost:8080/"
        },
        "id": "dT-2zib0tAk3",
        "outputId": "6bf70207-212d-4a06-e6ef-03d355cc75b2"
      },
      "source": [
        "from scipy.special import perm\r\n",
        "\r\n",
        "print(perm(12, 5))"
      ],
      "execution_count": null,
      "outputs": [
        {
          "output_type": "stream",
          "text": [
            "95040.0\n"
          ],
          "name": "stdout"
        }
      ]
    },
    {
      "cell_type": "code",
      "metadata": {
        "colab": {
          "base_uri": "https://localhost:8080/"
        },
        "id": "cvNTvCg5tkuP",
        "outputId": "1dc9d0d1-6f3d-4463-feb1-ba6a62996616"
      },
      "source": [
        "def combinations_count(n, r):\r\n",
        "    return math.factorial(n) // (math.factorial(n - r) * math.factorial(r))\r\n",
        "\r\n",
        "print(combinations_count(12, 5))\r\n",
        "# 6"
      ],
      "execution_count": null,
      "outputs": [
        {
          "output_type": "stream",
          "text": [
            "792\n"
          ],
          "name": "stdout"
        }
      ]
    },
    {
      "cell_type": "markdown",
      "metadata": {
        "id": "ZToNAUdOuKm_"
      },
      "source": [
        "###ギブアップ！\r\n",
        "\r\n",
        "[解説 - AtCoder Beginner Contest 185](https://atcoder.jp/contests/abc185/editorial/358)\r\n",
        "\r\n",
        "パスカルの三角形って何？？？"
      ]
    }
  ]
}