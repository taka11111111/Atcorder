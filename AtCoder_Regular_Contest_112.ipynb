{
  "nbformat": 4,
  "nbformat_minor": 0,
  "metadata": {
    "colab": {
      "name": "AtCoder Regular Contest 112",
      "provenance": [],
      "collapsed_sections": [],
      "authorship_tag": "ABX9TyPUmuJdgSi9kp5SENVoxqBi",
      "include_colab_link": true
    },
    "kernelspec": {
      "name": "python3",
      "display_name": "Python 3"
    }
  },
  "cells": [
    {
      "cell_type": "markdown",
      "metadata": {
        "id": "view-in-github",
        "colab_type": "text"
      },
      "source": [
        "<a href=\"https://colab.research.google.com/github/taka11111111/Atcorder/blob/main/AtCoder_Regular_Contest_112.ipynb\" target=\"_parent\"><img src=\"https://colab.research.google.com/assets/colab-badge.svg\" alt=\"Open In Colab\"/></a>"
      ]
    },
    {
      "cell_type": "markdown",
      "metadata": {
        "id": "k10or8f5TM2q"
      },
      "source": [
        "# [A - B = C](https://atcoder.jp/contests/arc112/tasks/arc112_a)"
      ]
    },
    {
      "cell_type": "code",
      "metadata": {
        "id": "85TnVmoaTBWw"
      },
      "source": [
        "N = int(input())\n",
        "for i in range(N):\n",
        "  L,R = map(int,input())"
      ],
      "execution_count": null,
      "outputs": []
    },
    {
      "cell_type": "code",
      "metadata": {
        "id": "T5OBKqpVTgpz"
      },
      "source": [
        "#L,R = 2,6\n",
        "#L,R = 0,0\n",
        "#L,R = 1000000, 1000000\n",
        "L,R = 12345, 67890\n",
        "lis = [i for i in range(R,L-1,-1)]\n",
        "#lis"
      ],
      "execution_count": 16,
      "outputs": []
    },
    {
      "cell_type": "code",
      "metadata": {
        "colab": {
          "base_uri": "https://localhost:8080/",
          "height": 236
        },
        "id": "JjhJLnq1T14z",
        "outputId": "5ffe7f7e-a8aa-4269-bfb4-d3eb72d8ea03"
      },
      "source": [
        "AB = []\n",
        "for i in lis:\n",
        "  for l in lis:\n",
        "    if (i - l) in lis:\n",
        "      AB.append([i,l])\n",
        "#print(AB)\n",
        "print(len(AB))"
      ],
      "execution_count": 17,
      "outputs": [
        {
          "output_type": "error",
          "ename": "KeyboardInterrupt",
          "evalue": "ignored",
          "traceback": [
            "\u001b[0;31m---------------------------------------------------------------------------\u001b[0m",
            "\u001b[0;31mKeyboardInterrupt\u001b[0m                         Traceback (most recent call last)",
            "\u001b[0;32m<ipython-input-17-d992c7c059e0>\u001b[0m in \u001b[0;36m<module>\u001b[0;34m()\u001b[0m\n\u001b[1;32m      2\u001b[0m \u001b[0;32mfor\u001b[0m \u001b[0mi\u001b[0m \u001b[0;32min\u001b[0m \u001b[0mlis\u001b[0m\u001b[0;34m:\u001b[0m\u001b[0;34m\u001b[0m\u001b[0;34m\u001b[0m\u001b[0m\n\u001b[1;32m      3\u001b[0m   \u001b[0;32mfor\u001b[0m \u001b[0ml\u001b[0m \u001b[0;32min\u001b[0m \u001b[0mlis\u001b[0m\u001b[0;34m:\u001b[0m\u001b[0;34m\u001b[0m\u001b[0;34m\u001b[0m\u001b[0m\n\u001b[0;32m----> 4\u001b[0;31m     \u001b[0;32mif\u001b[0m \u001b[0;34m(\u001b[0m\u001b[0mi\u001b[0m \u001b[0;34m-\u001b[0m \u001b[0ml\u001b[0m\u001b[0;34m)\u001b[0m \u001b[0;32min\u001b[0m \u001b[0mlis\u001b[0m\u001b[0;34m:\u001b[0m\u001b[0;34m\u001b[0m\u001b[0;34m\u001b[0m\u001b[0m\n\u001b[0m\u001b[1;32m      5\u001b[0m       \u001b[0mAB\u001b[0m\u001b[0;34m.\u001b[0m\u001b[0mappend\u001b[0m\u001b[0;34m(\u001b[0m\u001b[0;34m[\u001b[0m\u001b[0mi\u001b[0m\u001b[0;34m,\u001b[0m\u001b[0ml\u001b[0m\u001b[0;34m]\u001b[0m\u001b[0;34m)\u001b[0m\u001b[0;34m\u001b[0m\u001b[0;34m\u001b[0m\u001b[0m\n\u001b[1;32m      6\u001b[0m \u001b[0;31m#print(AB)\u001b[0m\u001b[0;34m\u001b[0m\u001b[0;34m\u001b[0m\u001b[0;34m\u001b[0m\u001b[0m\n",
            "\u001b[0;31mKeyboardInterrupt\u001b[0m: "
          ]
        }
      ]
    },
    {
      "cell_type": "markdown",
      "metadata": {
        "id": "ASJIRhWrVfBq"
      },
      "source": [
        "うん。これじゃあおわらない。"
      ]
    },
    {
      "cell_type": "code",
      "metadata": {
        "colab": {
          "base_uri": "https://localhost:8080/",
          "height": 236
        },
        "id": "CwixzEOBVnYI",
        "outputId": "b00ccb53-9734-4798-8af5-d1cce9db5b51"
      },
      "source": [
        "#L,R = 2,6\n",
        "#L,R = 0,0\n",
        "#L,R = 1000000, 1000000\n",
        "L,R = 12345, 67890\n",
        "\n",
        "AB = []\n",
        "for i in range(R,R-L-1,-1):\n",
        "  for l in range(L,i-1):\n",
        "    #print(i,l)\n",
        "    if L <=(i - l) and (i - l)<= R:\n",
        "      AB.append([i,l])\n",
        "#print(AB)\n",
        "print(len(AB))"
      ],
      "execution_count": 44,
      "outputs": [
        {
          "output_type": "error",
          "ename": "KeyboardInterrupt",
          "evalue": "ignored",
          "traceback": [
            "\u001b[0;31m---------------------------------------------------------------------------\u001b[0m",
            "\u001b[0;31mKeyboardInterrupt\u001b[0m                         Traceback (most recent call last)",
            "\u001b[0;32m<ipython-input-44-70d3be5dbf58>\u001b[0m in \u001b[0;36m<module>\u001b[0;34m()\u001b[0m\n\u001b[1;32m      9\u001b[0m     \u001b[0;31m#print(i,l)\u001b[0m\u001b[0;34m\u001b[0m\u001b[0;34m\u001b[0m\u001b[0;34m\u001b[0m\u001b[0m\n\u001b[1;32m     10\u001b[0m     \u001b[0;32mif\u001b[0m \u001b[0mL\u001b[0m \u001b[0;34m<=\u001b[0m\u001b[0;34m(\u001b[0m\u001b[0mi\u001b[0m \u001b[0;34m-\u001b[0m \u001b[0ml\u001b[0m\u001b[0;34m)\u001b[0m \u001b[0;32mand\u001b[0m \u001b[0;34m(\u001b[0m\u001b[0mi\u001b[0m \u001b[0;34m-\u001b[0m \u001b[0ml\u001b[0m\u001b[0;34m)\u001b[0m\u001b[0;34m<=\u001b[0m \u001b[0mR\u001b[0m\u001b[0;34m:\u001b[0m\u001b[0;34m\u001b[0m\u001b[0;34m\u001b[0m\u001b[0m\n\u001b[0;32m---> 11\u001b[0;31m       \u001b[0mAB\u001b[0m\u001b[0;34m.\u001b[0m\u001b[0mappend\u001b[0m\u001b[0;34m(\u001b[0m\u001b[0;34m[\u001b[0m\u001b[0mi\u001b[0m\u001b[0;34m,\u001b[0m\u001b[0ml\u001b[0m\u001b[0;34m]\u001b[0m\u001b[0;34m)\u001b[0m\u001b[0;34m\u001b[0m\u001b[0;34m\u001b[0m\u001b[0m\n\u001b[0m\u001b[1;32m     12\u001b[0m \u001b[0;31m#print(AB)\u001b[0m\u001b[0;34m\u001b[0m\u001b[0;34m\u001b[0m\u001b[0;34m\u001b[0m\u001b[0m\n\u001b[1;32m     13\u001b[0m \u001b[0mprint\u001b[0m\u001b[0;34m(\u001b[0m\u001b[0mlen\u001b[0m\u001b[0;34m(\u001b[0m\u001b[0mAB\u001b[0m\u001b[0;34m)\u001b[0m\u001b[0;34m)\u001b[0m\u001b[0;34m\u001b[0m\u001b[0;34m\u001b[0m\u001b[0m\n",
            "\u001b[0;31mKeyboardInterrupt\u001b[0m: "
          ]
        }
      ]
    },
    {
      "cell_type": "code",
      "metadata": {
        "colab": {
          "base_uri": "https://localhost:8080/"
        },
        "id": "0ZR3usEmbYnq",
        "outputId": "5a77b98b-2784-4094-fe82-fc2a3b8ccf8e"
      },
      "source": [
        "N = int(input())\n",
        "for i in range(N):\n",
        "  L,R = map(int,input().split())\n",
        "  AB = []\n",
        "  for i in range(R,R-L-1,-1):\n",
        "    for l in range(L,i-1):\n",
        "      #print(i,l)\n",
        "      if L <=(i - l) and (i - l)<= R:\n",
        "        AB.append([i,l])\n",
        "  #print(AB)\n",
        "  print(len(AB))"
      ],
      "execution_count": 48,
      "outputs": [
        {
          "output_type": "stream",
          "text": [
            "1\n",
            "2 6\n",
            "6\n"
          ],
          "name": "stdout"
        }
      ]
    },
    {
      "cell_type": "markdown",
      "metadata": {
        "id": "xr75wHeBcEVH"
      },
      "source": [
        ""
      ]
    },
    {
      "cell_type": "code",
      "metadata": {
        "colab": {
          "base_uri": "https://localhost:8080/"
        },
        "id": "i-JADsy8Y6Pu",
        "outputId": "3bfab9ee-606d-4b17-c70a-9aa3edf9d51e"
      },
      "source": [
        "L,R = 12, 34\n",
        "AB = []\n",
        "cnt = 0\n",
        "for i in range(R,R-L-1,-1):\n",
        "  print('----------')\n",
        "  for l in range(L,i-L+1):\n",
        "    cnt +=1\n",
        "    if L <=(i - l) and (i - l)<= R:\n",
        "      AB.append([i,l])\n",
        "      print(cnt,'o',i,l,i-l)\n",
        "    else:\n",
        "      print(cnt,'x',i,l,i-l)\n",
        "print(AB)\n",
        "print(len(AB))"
      ],
      "execution_count": 70,
      "outputs": [
        {
          "output_type": "stream",
          "text": [
            "----------\n",
            "1 o 34 12 22\n",
            "2 o 34 13 21\n",
            "3 o 34 14 20\n",
            "4 o 34 15 19\n",
            "5 o 34 16 18\n",
            "6 o 34 17 17\n",
            "7 o 34 18 16\n",
            "8 o 34 19 15\n",
            "9 o 34 20 14\n",
            "10 o 34 21 13\n",
            "11 o 34 22 12\n",
            "----------\n",
            "12 o 33 12 21\n",
            "13 o 33 13 20\n",
            "14 o 33 14 19\n",
            "15 o 33 15 18\n",
            "16 o 33 16 17\n",
            "17 o 33 17 16\n",
            "18 o 33 18 15\n",
            "19 o 33 19 14\n",
            "20 o 33 20 13\n",
            "21 o 33 21 12\n",
            "----------\n",
            "22 o 32 12 20\n",
            "23 o 32 13 19\n",
            "24 o 32 14 18\n",
            "25 o 32 15 17\n",
            "26 o 32 16 16\n",
            "27 o 32 17 15\n",
            "28 o 32 18 14\n",
            "29 o 32 19 13\n",
            "30 o 32 20 12\n",
            "----------\n",
            "31 o 31 12 19\n",
            "32 o 31 13 18\n",
            "33 o 31 14 17\n",
            "34 o 31 15 16\n",
            "35 o 31 16 15\n",
            "36 o 31 17 14\n",
            "37 o 31 18 13\n",
            "38 o 31 19 12\n",
            "----------\n",
            "39 o 30 12 18\n",
            "40 o 30 13 17\n",
            "41 o 30 14 16\n",
            "42 o 30 15 15\n",
            "43 o 30 16 14\n",
            "44 o 30 17 13\n",
            "45 o 30 18 12\n",
            "----------\n",
            "46 o 29 12 17\n",
            "47 o 29 13 16\n",
            "48 o 29 14 15\n",
            "49 o 29 15 14\n",
            "50 o 29 16 13\n",
            "51 o 29 17 12\n",
            "----------\n",
            "52 o 28 12 16\n",
            "53 o 28 13 15\n",
            "54 o 28 14 14\n",
            "55 o 28 15 13\n",
            "56 o 28 16 12\n",
            "----------\n",
            "57 o 27 12 15\n",
            "58 o 27 13 14\n",
            "59 o 27 14 13\n",
            "60 o 27 15 12\n",
            "----------\n",
            "61 o 26 12 14\n",
            "62 o 26 13 13\n",
            "63 o 26 14 12\n",
            "----------\n",
            "64 o 25 12 13\n",
            "65 o 25 13 12\n",
            "----------\n",
            "66 o 24 12 12\n",
            "----------\n",
            "----------\n",
            "[[34, 12], [34, 13], [34, 14], [34, 15], [34, 16], [34, 17], [34, 18], [34, 19], [34, 20], [34, 21], [34, 22], [33, 12], [33, 13], [33, 14], [33, 15], [33, 16], [33, 17], [33, 18], [33, 19], [33, 20], [33, 21], [32, 12], [32, 13], [32, 14], [32, 15], [32, 16], [32, 17], [32, 18], [32, 19], [32, 20], [31, 12], [31, 13], [31, 14], [31, 15], [31, 16], [31, 17], [31, 18], [31, 19], [30, 12], [30, 13], [30, 14], [30, 15], [30, 16], [30, 17], [30, 18], [29, 12], [29, 13], [29, 14], [29, 15], [29, 16], [29, 17], [28, 12], [28, 13], [28, 14], [28, 15], [28, 16], [27, 12], [27, 13], [27, 14], [27, 15], [26, 12], [26, 13], [26, 14], [25, 12], [25, 13], [24, 12]]\n",
            "66\n"
          ],
          "name": "stdout"
        }
      ]
    },
    {
      "cell_type": "markdown",
      "metadata": {
        "id": "XsUaHCQ7gTjq"
      },
      "source": [
        "* R - L = 22\n",
        "* 11+10+9+.....+1 = 66\n",
        "* "
      ]
    },
    {
      "cell_type": "code",
      "metadata": {
        "colab": {
          "base_uri": "https://localhost:8080/"
        },
        "id": "u7X81mtvhgmL",
        "outputId": "35d9a721-bfde-4b21-c909-1fd44e3630c0"
      },
      "source": [
        "11+10+9+8+7+6+5+4+3+2+1"
      ],
      "execution_count": 71,
      "outputs": [
        {
          "output_type": "execute_result",
          "data": {
            "text/plain": [
              "66"
            ]
          },
          "metadata": {
            "tags": []
          },
          "execution_count": 71
        }
      ]
    },
    {
      "cell_type": "code",
      "metadata": {
        "colab": {
          "base_uri": "https://localhost:8080/"
        },
        "id": "tOQJafWghl1_",
        "outputId": "29ff05ba-9526-43b4-8d0e-40b044ad2ba9"
      },
      "source": [
        "11+1 + 10+2 + 9+3 + 8+4 + 7+5 + 6"
      ],
      "execution_count": 73,
      "outputs": [
        {
          "output_type": "execute_result",
          "data": {
            "text/plain": [
              "66"
            ]
          },
          "metadata": {
            "tags": []
          },
          "execution_count": 73
        }
      ]
    },
    {
      "cell_type": "code",
      "metadata": {
        "colab": {
          "base_uri": "https://localhost:8080/"
        },
        "id": "h6uHbpdzh-OZ",
        "outputId": "0ab46dae-1b27-47ef-b836-acf6abd1a157"
      },
      "source": [
        "R-L"
      ],
      "execution_count": 79,
      "outputs": [
        {
          "output_type": "execute_result",
          "data": {
            "text/plain": [
              "22"
            ]
          },
          "metadata": {
            "tags": []
          },
          "execution_count": 79
        }
      ]
    },
    {
      "cell_type": "code",
      "metadata": {
        "colab": {
          "base_uri": "https://localhost:8080/"
        },
        "id": "95QeNm16khk3",
        "outputId": "3332d9f3-8738-473f-909d-e7d48da9e0e0"
      },
      "source": [
        "C = R-L\n",
        "R - C"
      ],
      "execution_count": 78,
      "outputs": [
        {
          "output_type": "execute_result",
          "data": {
            "text/plain": [
              "12"
            ]
          },
          "metadata": {
            "tags": []
          },
          "execution_count": 78
        }
      ]
    },
    {
      "cell_type": "code",
      "metadata": {
        "colab": {
          "base_uri": "https://localhost:8080/"
        },
        "id": "ePM0FJNQk7Kw",
        "outputId": "a21f1024-c2e3-4af0-ff82-993487c25429"
      },
      "source": [
        "C -(R-C)+1"
      ],
      "execution_count": 82,
      "outputs": [
        {
          "output_type": "execute_result",
          "data": {
            "text/plain": [
              "11"
            ]
          },
          "metadata": {
            "tags": []
          },
          "execution_count": 82
        }
      ]
    },
    {
      "cell_type": "code",
      "metadata": {
        "colab": {
          "base_uri": "https://localhost:8080/"
        },
        "id": "S-9mgp8vY6nT",
        "outputId": "a53b892c-b7f9-4f05-d1e6-4ea0176ee29e"
      },
      "source": [
        "N = int(input())\n",
        "for i in range(N):\n",
        "  L,R = map(int,input().split())\n",
        "  C = R-L\n",
        "  D = C -(R-C)+1\n",
        "  print(D*(1+D) // 2)"
      ],
      "execution_count": 89,
      "outputs": [
        {
          "output_type": "stream",
          "text": [
            "5\n",
            "2 6\n",
            "6\n",
            "0 0\n",
            "1\n",
            "1000000 1000000\n",
            "499998500001\n",
            "12345 67890\n",
            "933184801\n",
            "0 1000000\n",
            "500001500001\n"
          ],
          "name": "stdout"
        }
      ]
    },
    {
      "cell_type": "code",
      "metadata": {
        "colab": {
          "base_uri": "https://localhost:8080/"
        },
        "id": "-kv5Qrx4fsS6",
        "outputId": "145c57e8-e376-4fa9-c28a-7250a634f46d"
      },
      "source": [
        "N = int(input())\n",
        "for i in range(N):\n",
        "  L,R = map(int,input().split())\n",
        "  if L >= R :\n",
        "    print(0)\n",
        "  else:\n",
        "    C = R-L\n",
        "    D = C -(R-C)+1\n",
        "    print(D*(1+D) // 2)"
      ],
      "execution_count": 94,
      "outputs": [
        {
          "output_type": "stream",
          "text": [
            "1\n",
            "1000000 1000000\n",
            "0\n"
          ],
          "name": "stdout"
        }
      ]
    },
    {
      "cell_type": "markdown",
      "metadata": {
        "id": "6Zyhky7UoHyJ"
      },
      "source": [
        "数列がわからーーーん！！！"
      ]
    },
    {
      "cell_type": "code",
      "metadata": {
        "colab": {
          "base_uri": "https://localhost:8080/"
        },
        "id": "ezGqjZFemoN1",
        "outputId": "038c31ca-b277-4436-f591-68acc3d9a399"
      },
      "source": [
        "N = int(input())\n",
        "for i in range(N):\n",
        "  L,R = map(int,input().split())\n",
        "  if L == 0 and R ==0 :\n",
        "    print(1)\n",
        "  elif L >= R :\n",
        "    print(0)\n",
        "  else:\n",
        "    C = R-L\n",
        "    D = C -(R-C)+1\n",
        "    print(D*(1+D) // 2)"
      ],
      "execution_count": 95,
      "outputs": [
        {
          "output_type": "stream",
          "text": [
            "1\n",
            "0 0\n",
            "1\n"
          ],
          "name": "stdout"
        }
      ]
    },
    {
      "cell_type": "code",
      "metadata": {
        "colab": {
          "base_uri": "https://localhost:8080/"
        },
        "id": "Ryro2IvVmzTe",
        "outputId": "eb185e06-a640-4921-bf03-feb8dd598ec6"
      },
      "source": [
        "N = int(input())\n",
        "for i in range(N):\n",
        "  L,R = map(int,input().split())\n",
        "  #C = R-L\n",
        "  #D = 2*C -R +1\n",
        "  #D = 2*(R-L) -R +1\n",
        "  #D = R -2*L +1\n",
        "  #E = D*(1+D) // 2\n",
        "  #E = (R -2*L +1)*(1+(R -2*L +1)) // 2\n",
        "  E = R -2*L +1\n",
        "  F = E**2 + E\n",
        "  print(F//2)"
      ],
      "execution_count": 112,
      "outputs": [
        {
          "output_type": "stream",
          "text": [
            "1\n",
            "12 34\n",
            "66\n"
          ],
          "name": "stdout"
        }
      ]
    },
    {
      "cell_type": "markdown",
      "metadata": {
        "id": "FZaFJitbq6nC"
      },
      "source": [
        "ふりだしにもどる・・・"
      ]
    },
    {
      "cell_type": "code",
      "metadata": {
        "id": "sEOBWKqQosX4"
      },
      "source": [
        ""
      ],
      "execution_count": 109,
      "outputs": []
    }
  ]
}