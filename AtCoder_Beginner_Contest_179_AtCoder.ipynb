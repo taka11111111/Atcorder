{
  "nbformat": 4,
  "nbformat_minor": 0,
  "metadata": {
    "colab": {
      "name": "AtCoder Beginner Contest 179 - AtCoder",
      "provenance": [],
      "collapsed_sections": [],
      "authorship_tag": "ABX9TyPZgRuXm/buQKBidrq/OqaK",
      "include_colab_link": true
    },
    "kernelspec": {
      "name": "python3",
      "display_name": "Python 3"
    }
  },
  "cells": [
    {
      "cell_type": "markdown",
      "metadata": {
        "id": "view-in-github",
        "colab_type": "text"
      },
      "source": [
        "<a href=\"https://colab.research.google.com/github/taka11111111/Atcorder/blob/main/AtCoder_Beginner_Contest_179_AtCoder.ipynb\" target=\"_parent\"><img src=\"https://colab.research.google.com/assets/colab-badge.svg\" alt=\"Open In Colab\"/></a>"
      ]
    },
    {
      "cell_type": "markdown",
      "metadata": {
        "id": "QDuiTKyn9VVu"
      },
      "source": [
        "#[AtCoder Beginner Contest 179 - AtCoder](https://atcoder.jp/contests/abc179)\n"
      ]
    },
    {
      "cell_type": "code",
      "metadata": {
        "colab": {
          "base_uri": "https://localhost:8080/"
        },
        "id": "s743Q_ce865c",
        "outputId": "4727dd5d-0843-4485-ea7f-044b876246ce"
      },
      "source": [
        "S=input()"
      ],
      "execution_count": null,
      "outputs": [
        {
          "output_type": "stream",
          "text": [
            "apple\n"
          ],
          "name": "stdout"
        }
      ]
    },
    {
      "cell_type": "code",
      "metadata": {
        "colab": {
          "base_uri": "https://localhost:8080/"
        },
        "id": "-7koojYN9nft",
        "outputId": "df4ae02f-583b-4ce2-b9e7-4ee92ca89a4c"
      },
      "source": [
        "end = 'es' if S[-1:]=='s' else 's'\n",
        "print(S+end)"
      ],
      "execution_count": null,
      "outputs": [
        {
          "output_type": "stream",
          "text": [
            "apples\n"
          ],
          "name": "stdout"
        }
      ]
    },
    {
      "cell_type": "markdown",
      "metadata": {
        "id": "tqasT7G1-0e7"
      },
      "source": [
        "#[B - Go to Jail](https://atcoder.jp/contests/abc179/tasks/abc179_b)"
      ]
    },
    {
      "cell_type": "code",
      "metadata": {
        "id": "u7rBBmYi9tt_"
      },
      "source": [
        "5\n",
        "1 2\n",
        "6 6\n",
        "4 4\n",
        "3 3\n",
        "3 2\n"
      ],
      "execution_count": null,
      "outputs": []
    },
    {
      "cell_type": "code",
      "metadata": {
        "colab": {
          "base_uri": "https://localhost:8080/"
        },
        "id": "bW3K-wDW-_kp",
        "outputId": "76e13c54-1a33-4d27-f237-a29aa5a5d92c"
      },
      "source": [
        "N = int(input())\n",
        "d = []\n",
        "[d.extend(list(map(int,input().split()))) for i in range(N) ]"
      ],
      "execution_count": null,
      "outputs": [
        {
          "output_type": "stream",
          "text": [
            "5\n",
            "1 2\n",
            "6 6\n",
            "4 4\n",
            "3 3\n",
            "3 2\n"
          ],
          "name": "stdout"
        },
        {
          "output_type": "execute_result",
          "data": {
            "text/plain": [
              "[None, None, None, None, None]"
            ]
          },
          "metadata": {
            "tags": []
          },
          "execution_count": 16
        }
      ]
    },
    {
      "cell_type": "code",
      "metadata": {
        "colab": {
          "base_uri": "https://localhost:8080/"
        },
        "id": "lmIlDCm4_fhC",
        "outputId": "5298d4ae-6c86-4f0e-c25b-6bee04d6140f"
      },
      "source": [
        "d"
      ],
      "execution_count": null,
      "outputs": [
        {
          "output_type": "execute_result",
          "data": {
            "text/plain": [
              "[1, 2, 6, 6, 4, 4, 3, 3, 3, 2]"
            ]
          },
          "metadata": {
            "tags": []
          },
          "execution_count": 17
        }
      ]
    },
    {
      "cell_type": "code",
      "metadata": {
        "colab": {
          "base_uri": "https://localhost:8080/"
        },
        "id": "J8oZ06iA_nbj",
        "outputId": "d8bfea35-66be-4273-e09d-b307ff3fda32"
      },
      "source": [
        "N = int(input())\n",
        "d = []\n",
        "[d.extend(list(map(int,input().split()))) for i in range(N) ]\n",
        "\n",
        "e = 0\n",
        "c = 0\n",
        "b = 'No'\n",
        "for i in d:\n",
        "  if e == i:\n",
        "    c+=1\n",
        "  else:\n",
        "    e = i\n",
        "    c = 0\n",
        "  \n",
        "  if c == 2:\n",
        "    b = 'Yes'\n",
        "    break\n",
        "  #print(b,c,i,e)\n",
        "print(b)"
      ],
      "execution_count": null,
      "outputs": [
        {
          "output_type": "stream",
          "text": [
            "No 0 1 1\n",
            "No 0 2 2\n",
            "No 0 6 6\n",
            "No 1 6 6\n",
            "No 0 4 4\n",
            "No 1 4 4\n",
            "No 0 3 3\n",
            "No 1 3 3\n",
            "Yes 2 3 3\n",
            "Yes 0 2 2\n",
            "Yes\n"
          ],
          "name": "stdout"
        }
      ]
    },
    {
      "cell_type": "code",
      "metadata": {
        "id": "8yrykEo5A3z6"
      },
      "source": [
        "AC× 12\n",
        "WA× 6"
      ],
      "execution_count": null,
      "outputs": []
    },
    {
      "cell_type": "markdown",
      "metadata": {
        "id": "ZBu3DzRXBbGG"
      },
      "source": [
        "あれ？なんでだろう？？？\n",
        "\n",
        "Sample3がWAだな・・・"
      ]
    },
    {
      "cell_type": "code",
      "metadata": {
        "id": "K660p9y7BZY9"
      },
      "source": [
        "#Sample3 #Yes\n",
        "6\n",
        "1 1\n",
        "2 2\n",
        "3 3\n",
        "4 4\n",
        "5 5\n",
        "6 6"
      ],
      "execution_count": null,
      "outputs": []
    },
    {
      "cell_type": "code",
      "metadata": {
        "colab": {
          "base_uri": "https://localhost:8080/"
        },
        "id": "xzGU06Y_CBpD",
        "outputId": "005e58bd-daa7-4082-96d8-db5b54b167a7"
      },
      "source": [
        "N = int(input())\n",
        "d = []\n",
        "[d.extend(list(map(int,input().split()))) for i in range(N) ]\n",
        "\n",
        "e = 0\n",
        "c = 0\n",
        "b = 'No'\n",
        "for i in d:\n",
        "  if e == i:\n",
        "    c+=1\n",
        "  else:\n",
        "    e = i\n",
        "    c = 0\n",
        "  \n",
        "  if c == 2:\n",
        "    b = 'Yes'\n",
        "    break\n",
        "  #print(b,c,i,e)\n",
        "print(b)"
      ],
      "execution_count": null,
      "outputs": [
        {
          "output_type": "stream",
          "text": [
            "6\n",
            "1 1\n",
            "2 2\n",
            "3 3\n",
            "4 4\n",
            "5 5\n",
            "6 6\n",
            "No\n"
          ],
          "name": "stdout"
        }
      ]
    },
    {
      "cell_type": "markdown",
      "metadata": {
        "id": "5sT3fzFACagx"
      },
      "source": [
        "あれ？これはNoなのでは・・・？？？\n",
        "\n",
        "解答をみたけど、やっぱりNoのはず・・・？？？"
      ]
    },
    {
      "cell_type": "markdown",
      "metadata": {
        "id": "S5LVnu7zC2Hb"
      },
      "source": [
        "#[C - A x B + C](https://atcoder.jp/contests/abc179/tasks/abc179_c)"
      ]
    },
    {
      "cell_type": "code",
      "metadata": {
        "colab": {
          "base_uri": "https://localhost:8080/"
        },
        "id": "H0bMqO0RDHaG",
        "outputId": "be7e210e-56df-421f-9aa4-99362b527cf7"
      },
      "source": [
        "N = int(input())"
      ],
      "execution_count": null,
      "outputs": [
        {
          "output_type": "stream",
          "text": [
            "3\n"
          ],
          "name": "stdout"
        }
      ]
    },
    {
      "cell_type": "code",
      "metadata": {
        "id": "5xYj_VyYDNaW"
      },
      "source": [
        "A * B + C "
      ],
      "execution_count": null,
      "outputs": []
    },
    {
      "cell_type": "code",
      "metadata": {
        "colab": {
          "base_uri": "https://localhost:8080/"
        },
        "id": "Sp5dF52SDiRP",
        "outputId": "7daf70aa-755c-4492-cfe9-4c658e116bfe"
      },
      "source": [
        "\b#N = 10000\n",
        "N = int(input())\n",
        "cnt = 0\n",
        "for C in range(1,N):\n",
        "  #print(i)\n",
        "  X = N-C\n",
        "  #print(X)\n",
        "  for l in range(1,X+1):\n",
        "   # print(l)\n",
        "    if X % l == 0:\n",
        "      A = l\n",
        "      B = int(X / l)\n",
        "      #print(A,B,C)\n",
        "      cnt += 1\n",
        "print(cnt)"
      ],
      "execution_count": null,
      "outputs": [
        {
          "output_type": "stream",
          "text": [
            "10000\n",
            "93643\n"
          ],
          "name": "stdout"
        }
      ]
    },
    {
      "cell_type": "code",
      "metadata": {
        "id": "JL6ZfXvvFm9i"
      },
      "source": [
        "AC× 13\n",
        "TLE× 24"
      ],
      "execution_count": null,
      "outputs": []
    },
    {
      "cell_type": "markdown",
      "metadata": {
        "id": "dJhC6cjqHhlb"
      },
      "source": [
        "やっぱりー\n",
        "\n",
        "どうやって高速化しようか"
      ]
    },
    {
      "cell_type": "code",
      "metadata": {
        "id": "ojKQjn2tHwgi"
      },
      "source": [
        "\b#N = 10000\n",
        "N = int(input())\n",
        "cnt = 0\n",
        "for C in range(1,N):\n",
        "  #print(i)\n",
        "  X = N-C\n",
        "  #print(X)\n",
        "\n",
        "  x = [i for i in range(1,X+1)]\n",
        "  for l in range(1,X+1):\n",
        "   # print(l)\n",
        "   print([n for n in l if i % 2 == 0])\n",
        "\n",
        "    if X % l == 0:\n",
        "      A = l\n",
        "      B = int(X / l)\n",
        "      #print(A,B,C)\n",
        "      cnt += 1\n",
        "print(cnt)"
      ],
      "execution_count": null,
      "outputs": []
    },
    {
      "cell_type": "markdown",
      "metadata": {
        "id": "ja5L4jVFfENI"
      },
      "source": [
        "約数をリストアップ・・・"
      ]
    },
    {
      "cell_type": "code",
      "metadata": {
        "colab": {
          "base_uri": "https://localhost:8080/"
        },
        "id": "WPhKl-AQI4Xt",
        "outputId": "c856149f-8ded-4963-a410-6156e8408c55"
      },
      "source": [
        "X = 10\n",
        "x = [i for i in range(2,X+1)]\n",
        "while len(x)>1:\n",
        "  l = x[0]\n",
        "  x = [n for n in x if n % l != 0]\n",
        "  print(l,x)"
      ],
      "execution_count": 55,
      "outputs": [
        {
          "output_type": "stream",
          "text": [
            "2 [3, 5, 7, 9]\n",
            "3 [5, 7]\n",
            "5 [7]\n"
          ],
          "name": "stdout"
        }
      ]
    },
    {
      "cell_type": "code",
      "metadata": {
        "id": "yzXNdgHJI6Kz",
        "colab": {
          "base_uri": "https://localhost:8080/"
        },
        "outputId": "42fc525b-624c-441a-a471-acd73a98d75d"
      },
      "source": [
        "X = 10\n",
        "x = [i for i in range(2,X+1)]\n",
        "x"
      ],
      "execution_count": 57,
      "outputs": [
        {
          "output_type": "execute_result",
          "data": {
            "text/plain": [
              "[2, 3, 4, 5, 6, 7, 8, 9, 10]"
            ]
          },
          "metadata": {
            "tags": []
          },
          "execution_count": 57
        }
      ]
    },
    {
      "cell_type": "code",
      "metadata": {
        "colab": {
          "base_uri": "https://localhost:8080/"
        },
        "id": "UiDKixCcf6k2",
        "outputId": "fb04d0dd-a53e-45c6-9887-6f2ba2ca4b7a"
      },
      "source": [
        "X = 100\n",
        "x = [i for i in range(2,X+1)]\n",
        "y = []\n",
        "while len(x)>1:\n",
        "  l = x[0]\n",
        "  if X % l == 0:\n",
        "    A = l\n",
        "    B = int(X / l)\n",
        "    x = [n for n in x if n % A != 0]\n",
        "    x = [n for n in x if n % B != 0]\n",
        "    y.append([A,B])\n",
        "  else:\n",
        "    x = [n for n in x if n % l !=0 ]\n",
        "  print(l,x)\n",
        "  print(y)"
      ],
      "execution_count": 69,
      "outputs": [
        {
          "output_type": "stream",
          "text": [
            "2 [3, 5, 7, 9, 11, 13, 15, 17, 19, 21, 23, 25, 27, 29, 31, 33, 35, 37, 39, 41, 43, 45, 47, 49, 51, 53, 55, 57, 59, 61, 63, 65, 67, 69, 71, 73, 75, 77, 79, 81, 83, 85, 87, 89, 91, 93, 95, 97, 99]\n",
            "[[2, 50]]\n",
            "3 [5, 7, 11, 13, 17, 19, 23, 25, 29, 31, 35, 37, 41, 43, 47, 49, 53, 55, 59, 61, 65, 67, 71, 73, 77, 79, 83, 85, 89, 91, 95, 97]\n",
            "[[2, 50]]\n",
            "5 [7, 11, 13, 17, 19, 23, 29, 31, 37, 41, 43, 47, 49, 53, 59, 61, 67, 71, 73, 77, 79, 83, 89, 91, 97]\n",
            "[[2, 50], [5, 20]]\n",
            "7 [11, 13, 17, 19, 23, 29, 31, 37, 41, 43, 47, 53, 59, 61, 67, 71, 73, 79, 83, 89, 97]\n",
            "[[2, 50], [5, 20]]\n",
            "11 [13, 17, 19, 23, 29, 31, 37, 41, 43, 47, 53, 59, 61, 67, 71, 73, 79, 83, 89, 97]\n",
            "[[2, 50], [5, 20]]\n",
            "13 [17, 19, 23, 29, 31, 37, 41, 43, 47, 53, 59, 61, 67, 71, 73, 79, 83, 89, 97]\n",
            "[[2, 50], [5, 20]]\n",
            "17 [19, 23, 29, 31, 37, 41, 43, 47, 53, 59, 61, 67, 71, 73, 79, 83, 89, 97]\n",
            "[[2, 50], [5, 20]]\n",
            "19 [23, 29, 31, 37, 41, 43, 47, 53, 59, 61, 67, 71, 73, 79, 83, 89, 97]\n",
            "[[2, 50], [5, 20]]\n",
            "23 [29, 31, 37, 41, 43, 47, 53, 59, 61, 67, 71, 73, 79, 83, 89, 97]\n",
            "[[2, 50], [5, 20]]\n",
            "29 [31, 37, 41, 43, 47, 53, 59, 61, 67, 71, 73, 79, 83, 89, 97]\n",
            "[[2, 50], [5, 20]]\n",
            "31 [37, 41, 43, 47, 53, 59, 61, 67, 71, 73, 79, 83, 89, 97]\n",
            "[[2, 50], [5, 20]]\n",
            "37 [41, 43, 47, 53, 59, 61, 67, 71, 73, 79, 83, 89, 97]\n",
            "[[2, 50], [5, 20]]\n",
            "41 [43, 47, 53, 59, 61, 67, 71, 73, 79, 83, 89, 97]\n",
            "[[2, 50], [5, 20]]\n",
            "43 [47, 53, 59, 61, 67, 71, 73, 79, 83, 89, 97]\n",
            "[[2, 50], [5, 20]]\n",
            "47 [53, 59, 61, 67, 71, 73, 79, 83, 89, 97]\n",
            "[[2, 50], [5, 20]]\n",
            "53 [59, 61, 67, 71, 73, 79, 83, 89, 97]\n",
            "[[2, 50], [5, 20]]\n",
            "59 [61, 67, 71, 73, 79, 83, 89, 97]\n",
            "[[2, 50], [5, 20]]\n",
            "61 [67, 71, 73, 79, 83, 89, 97]\n",
            "[[2, 50], [5, 20]]\n",
            "67 [71, 73, 79, 83, 89, 97]\n",
            "[[2, 50], [5, 20]]\n",
            "71 [73, 79, 83, 89, 97]\n",
            "[[2, 50], [5, 20]]\n",
            "73 [79, 83, 89, 97]\n",
            "[[2, 50], [5, 20]]\n",
            "79 [83, 89, 97]\n",
            "[[2, 50], [5, 20]]\n",
            "83 [89, 97]\n",
            "[[2, 50], [5, 20]]\n",
            "89 [97]\n",
            "[[2, 50], [5, 20]]\n"
          ],
          "name": "stdout"
        }
      ]
    },
    {
      "cell_type": "markdown",
      "metadata": {
        "id": "pF6NyDA1izay"
      },
      "source": [
        "あれ、　２と50しかでない。うーん。"
      ]
    },
    {
      "cell_type": "code",
      "metadata": {
        "colab": {
          "base_uri": "https://localhost:8080/"
        },
        "id": "FmS5lT-aiyPK",
        "outputId": "2440e119-3c78-4fff-cef5-bcf18e934d41"
      },
      "source": [
        "X = 20\n",
        "x = [i for i in range(2,X+1)]\n",
        "y = []\n",
        "while len(x)>1:\n",
        "  l = x[0]\n",
        "  if X % l == 0:\n",
        "    A = l\n",
        "    B = int(X / l)\n",
        "    x.remove(A)\n",
        "    x.remove(B)\n",
        "    y.append([A,B])\n",
        "  else:\n",
        "    x = [n for n in x if n % l !=0 ]\n",
        "  print(l,x)\n",
        "  print(y)\n",
        "print(len(y)*2) #約数のセット数"
      ],
      "execution_count": 78,
      "outputs": [
        {
          "output_type": "stream",
          "text": [
            "2 [3, 4, 5, 6, 7, 8, 9, 11, 12, 13, 14, 15, 16, 17, 18, 19, 20]\n",
            "[[2, 10]]\n",
            "3 [4, 5, 7, 8, 11, 13, 14, 16, 17, 19, 20]\n",
            "[[2, 10]]\n",
            "4 [7, 8, 11, 13, 14, 16, 17, 19, 20]\n",
            "[[2, 10], [4, 5]]\n",
            "7 [8, 11, 13, 16, 17, 19, 20]\n",
            "[[2, 10], [4, 5]]\n",
            "8 [11, 13, 17, 19, 20]\n",
            "[[2, 10], [4, 5]]\n",
            "11 [13, 17, 19, 20]\n",
            "[[2, 10], [4, 5]]\n",
            "13 [17, 19, 20]\n",
            "[[2, 10], [4, 5]]\n",
            "17 [19, 20]\n",
            "[[2, 10], [4, 5]]\n",
            "19 [20]\n",
            "[[2, 10], [4, 5]]\n",
            "4\n"
          ],
          "name": "stdout"
        }
      ]
    },
    {
      "cell_type": "markdown",
      "metadata": {
        "id": "r6XGhMLPjKqO"
      },
      "source": [
        "これはわりとよさそう？"
      ]
    },
    {
      "cell_type": "code",
      "metadata": {
        "colab": {
          "base_uri": "https://localhost:8080/"
        },
        "id": "4wr8wN0ajNMV",
        "outputId": "fec36afe-1dbb-49c5-8f5b-149ca0ef4feb"
      },
      "source": [
        "N=7\n",
        "#N = int(input())\n",
        "cnt = 0\n",
        "for C in range(1,N):\n",
        "    X = N-C\n",
        "    #X = 20\n",
        "    x = [i for i in range(2,X+1)]\n",
        "    print(C,x)\n",
        "    y = []\n",
        "    while len(x)>3:\n",
        "      l = x[0]\n",
        "      if X % l == 0:\n",
        "        A = l\n",
        "        B = int(X / l)\n",
        "        print('ABC:',A,B,C)\n",
        "        #y.append([A,B])\n",
        "        x.remove(A)\n",
        "        x.remove(B)\n",
        "        cnt += 2\n",
        "      else:\n",
        "        x = [n for n in x if n % l !=0 ]\n",
        "      #print(l,x)\n",
        "      #print(y)\n",
        "    #print(len(y)*2) #約数のセット数\n",
        "    #cnt += (len(y)*2) \n",
        "print(cnt)"
      ],
      "execution_count": 96,
      "outputs": [
        {
          "output_type": "stream",
          "text": [
            "1 [2, 3, 4, 5, 6]\n",
            "ABC: 2 3 1\n",
            "2 [2, 3, 4, 5]\n",
            "3 [2, 3, 4]\n",
            "4 [2, 3]\n",
            "5 [2]\n",
            "6 []\n",
            "2\n"
          ],
          "name": "stdout"
        }
      ]
    }
  ]
}