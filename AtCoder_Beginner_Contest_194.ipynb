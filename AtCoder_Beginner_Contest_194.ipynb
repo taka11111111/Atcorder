{
  "nbformat": 4,
  "nbformat_minor": 0,
  "metadata": {
    "kernelspec": {
      "display_name": "Python 3",
      "language": "python",
      "name": "python3"
    },
    "language_info": {
      "codemirror_mode": {
        "name": "ipython",
        "version": 3
      },
      "file_extension": ".py",
      "mimetype": "text/x-python",
      "name": "python",
      "nbconvert_exporter": "python",
      "pygments_lexer": "ipython3",
      "version": "3.8.5"
    },
    "colab": {
      "name": "AtCoder Beginner Contest 194",
      "provenance": [],
      "include_colab_link": true
    }
  },
  "cells": [
    {
      "cell_type": "markdown",
      "metadata": {
        "id": "view-in-github",
        "colab_type": "text"
      },
      "source": [
        "<a href=\"https://colab.research.google.com/github/taka11111111/Atcorder/blob/main/AtCoder_Beginner_Contest_194.ipynb\" target=\"_parent\"><img src=\"https://colab.research.google.com/assets/colab-badge.svg\" alt=\"Open In Colab\"/></a>"
      ]
    },
    {
      "cell_type": "markdown",
      "metadata": {
        "id": "KdYZEV-94_5U"
      },
      "source": [
        " # [A - I Scream](https://atcoder.jp/contests/abc194/tasks/abc194_a)"
      ]
    },
    {
      "cell_type": "code",
      "metadata": {
        "id": "3SloGAXn4_5X",
        "outputId": "cc4c55d4-efb3-4494-8725-83001120f46c"
      },
      "source": [
        "A,B = map(int,input().split())\n",
        "A = A+B\n",
        "\n",
        "if A >= 15 and B >= 8:\n",
        "    r = 1\n",
        "elif A >= 10 and B >= 3:\n",
        "    r = 2\n",
        "elif A >= 3:\n",
        "    r = 3\n",
        "else:\n",
        "    r = 4 \n",
        "print(r)"
      ],
      "execution_count": null,
      "outputs": [
        {
          "output_type": "stream",
          "text": [
            "10 8\n",
            "1\n"
          ],
          "name": "stdout"
        }
      ]
    },
    {
      "cell_type": "code",
      "metadata": {
        "id": "9Y8OOzq84_5X",
        "outputId": "fe86ed4b-be6e-45df-a1ef-968fa8f81910"
      },
      "source": [
        "A > 15"
      ],
      "execution_count": null,
      "outputs": [
        {
          "output_type": "execute_result",
          "data": {
            "text/plain": [
              "True"
            ]
          },
          "metadata": {
            "tags": []
          },
          "execution_count": 6
        }
      ]
    },
    {
      "cell_type": "code",
      "metadata": {
        "id": "qVrRwm-Q4_5Y",
        "outputId": "bbcc3904-ad40-4915-8c49-476ec60e2380"
      },
      "source": [
        "B > 8"
      ],
      "execution_count": null,
      "outputs": [
        {
          "output_type": "execute_result",
          "data": {
            "text/plain": [
              "False"
            ]
          },
          "metadata": {
            "tags": []
          },
          "execution_count": 7
        }
      ]
    },
    {
      "cell_type": "code",
      "metadata": {
        "id": "4LK2jTqI4_5Y",
        "outputId": "eb70e9c8-2291-4f02-d624-d8ea32f51880"
      },
      "source": [
        "B >= 8"
      ],
      "execution_count": null,
      "outputs": [
        {
          "output_type": "execute_result",
          "data": {
            "text/plain": [
              "True"
            ]
          },
          "metadata": {
            "tags": []
          },
          "execution_count": 14
        }
      ]
    },
    {
      "cell_type": "markdown",
      "metadata": {
        "id": "qC1qUZLL4_5Y"
      },
      "source": [
        "# [B - Job Assignment](https://atcoder.jp/contests/abc194/tasks/abc194_b)"
      ]
    },
    {
      "cell_type": "code",
      "metadata": {
        "id": "QVHwmWXR4_5Y",
        "outputId": "cfe656df-855d-461c-a1e7-c1c19299b10d"
      },
      "source": [
        "N = int(input())\n",
        "a = []\n",
        "b = []\n",
        "for i in range(N):\n",
        "    A,B = map(int,input().split())\n",
        "    a.append(A)\n",
        "    b.append(B)"
      ],
      "execution_count": null,
      "outputs": [
        {
          "output_type": "stream",
          "text": [
            "3\n",
            "11 7\n",
            "3 2\n",
            "6 7\n"
          ],
          "name": "stdout"
        }
      ]
    },
    {
      "cell_type": "code",
      "metadata": {
        "id": "UdTd4ru84_5Y",
        "outputId": "b29d2d56-2c4c-452d-fd70-2ecb5a45d91c"
      },
      "source": [
        "min(a)"
      ],
      "execution_count": null,
      "outputs": [
        {
          "output_type": "execute_result",
          "data": {
            "text/plain": [
              "3"
            ]
          },
          "metadata": {
            "tags": []
          },
          "execution_count": 37
        }
      ]
    },
    {
      "cell_type": "code",
      "metadata": {
        "id": "sAVpeDKM4_5Y",
        "outputId": "0033cb8d-9f62-4b58-989b-d311311276ef"
      },
      "source": [
        "min(b)"
      ],
      "execution_count": null,
      "outputs": [
        {
          "output_type": "execute_result",
          "data": {
            "text/plain": [
              "2"
            ]
          },
          "metadata": {
            "tags": []
          },
          "execution_count": 38
        }
      ]
    },
    {
      "cell_type": "code",
      "metadata": {
        "id": "qO1BkKLf4_5Y",
        "outputId": "ed78947f-c826-496c-e268-788fa4502357"
      },
      "source": [
        "sorted(a)[-2]"
      ],
      "execution_count": null,
      "outputs": [
        {
          "output_type": "execute_result",
          "data": {
            "text/plain": [
              "6"
            ]
          },
          "metadata": {
            "tags": []
          },
          "execution_count": 39
        }
      ]
    },
    {
      "cell_type": "code",
      "metadata": {
        "id": "l6a3FTVO4_5Z",
        "outputId": "ed0f06e8-d7ac-499a-8d49-ed649c989e29"
      },
      "source": [
        "sorted(b)[-2]"
      ],
      "execution_count": null,
      "outputs": [
        {
          "output_type": "execute_result",
          "data": {
            "text/plain": [
              "7"
            ]
          },
          "metadata": {
            "tags": []
          },
          "execution_count": 40
        }
      ]
    },
    {
      "cell_type": "code",
      "metadata": {
        "id": "I9DiDCCZ4_5Z"
      },
      "source": [
        "a1 = min(a)\n",
        "a2 = sorted(a)[-2]\n",
        "b1 = min(b)\n",
        "b2 = sorted(b)[-2]"
      ],
      "execution_count": null,
      "outputs": []
    },
    {
      "cell_type": "code",
      "metadata": {
        "id": "DDLXDgWX4_5Z",
        "outputId": "19bd5aee-c5eb-4c05-d19d-d56e8ba0e4fb"
      },
      "source": [
        "if a1 != b1:\n",
        "    res = max(a1 , b1)\n",
        "elif a1 == b1:\n",
        "    if a2 < b2:\n",
        "        res = max(a2 , b1)\n",
        "    else:\n",
        "        res = max(a1 , b2)\n",
        "print(res)"
      ],
      "execution_count": null,
      "outputs": [
        {
          "output_type": "stream",
          "text": [
            "3\n"
          ],
          "name": "stdout"
        }
      ]
    },
    {
      "cell_type": "code",
      "metadata": {
        "id": "B1gKh-n-4_5Z",
        "outputId": "273cbb0a-8406-41b6-c288-d7651acd66f1"
      },
      "source": [
        "al = a.index(a1)\n",
        "bl = b.index(b1)\n",
        "\n",
        "if al == bl:\n",
        "    res = a1 + b1\n",
        "    if a2 < b2:\n",
        "        if res < max(a1,b2):\n",
        "            res = res\n",
        "        else:\n",
        "            res = max(a1,b2)\n",
        "    else:\n",
        "        if res < max(a2,b1):\n",
        "            res = res\n",
        "        else:\n",
        "            res = max(a2,b1)\n",
        "else:\n",
        "    res = max(a1,b1)\n",
        "    \n",
        "print(res)\n"
      ],
      "execution_count": null,
      "outputs": [
        {
          "output_type": "stream",
          "text": [
            "5\n"
          ],
          "name": "stdout"
        }
      ]
    },
    {
      "cell_type": "code",
      "metadata": {
        "id": "vVsveZhx4_5Z"
      },
      "source": [
        "N = int(input())\n",
        "a = []\n",
        "b = []\n",
        "for i in range(N):\n",
        "    A,B = map(int,input().split())\n",
        "    a.append(A)\n",
        "    b.append(B)\n",
        "    \n",
        "a1 = min(a)\n",
        "a2 = sorted(a)[-2]\n",
        "b1 = min(b)\n",
        "b2 = sorted(b)[-2]\n",
        "\n",
        "r1 = a1 + b1\n",
        "r2 = max(a1,b2)\n",
        "r3 = max(a2,b1)\n",
        "\n",
        "res = min([r1,r2,r3])\n",
        "print(res)"
      ],
      "execution_count": null,
      "outputs": []
    },
    {
      "cell_type": "code",
      "metadata": {
        "id": "iLotBDnc4_5Z"
      },
      "source": [
        "N = int(input())\n",
        "a = []\n",
        "b = []\n",
        "for i in range(N):\n",
        "    A,B = map(int,input().split())\n",
        "    a.append(A)\n",
        "    b.append(B)\n",
        "    \n",
        "a1 = min(a)\n",
        "a2 = sorted(a)[-2]\n",
        "b1 = min(b)\n",
        "b2 = sorted(b)[-2]\n",
        "\n",
        "al = a.index(a1)\n",
        "bl = b.index(b1)\n",
        "\n",
        "if al == bl:\n",
        "  r1 = a1 + b1\n",
        "  r2 = max(a1,b2)\n",
        "  r3 = max(a2,b1)\n",
        "  res = min([r1,r2,r3])\n",
        "else:\n",
        "  res = max(a1,b1)\n",
        "  \n",
        "print(res)"
      ],
      "execution_count": null,
      "outputs": []
    },
    {
      "cell_type": "markdown",
      "metadata": {
        "id": "nQI00iUF4_5Z"
      },
      "source": [
        "# [C - Squared Error](https://atcoder.jp/contests/abc194/tasks/abc194_c)"
      ]
    },
    {
      "cell_type": "code",
      "metadata": {
        "id": "89MK8-N_4_5Z",
        "outputId": "f132af25-5456-4069-ecf2-1d09078c31c2"
      },
      "source": [
        "N = int(input())\n",
        "A = list(map(int,input().split()))"
      ],
      "execution_count": null,
      "outputs": [
        {
          "output_type": "stream",
          "text": [
            "3\n",
            "2 8 4\n"
          ],
          "name": "stdout"
        }
      ]
    },
    {
      "cell_type": "code",
      "metadata": {
        "id": "Jd0JDClN4_5a"
      },
      "source": [
        "B = [i**2 for i in A]\n",
        "C = sum(B)"
      ],
      "execution_count": null,
      "outputs": []
    },
    {
      "cell_type": "code",
      "metadata": {
        "id": "2yrrIsZA4_5a",
        "outputId": "463ac3a6-1d74-4943-c2cc-6e1be3d148e9"
      },
      "source": [
        "print(C)"
      ],
      "execution_count": null,
      "outputs": [
        {
          "output_type": "stream",
          "text": [
            "84\n"
          ],
          "name": "stdout"
        }
      ]
    },
    {
      "cell_type": "code",
      "metadata": {
        "id": "UHLDHL7P4_5a",
        "outputId": "b33b1e5d-4349-4cdf-dcb3-348faaac9461"
      },
      "source": [
        "B"
      ],
      "execution_count": null,
      "outputs": [
        {
          "output_type": "execute_result",
          "data": {
            "text/plain": [
              "[4, 64, 16]"
            ]
          },
          "metadata": {
            "tags": []
          },
          "execution_count": 48
        }
      ]
    },
    {
      "cell_type": "code",
      "metadata": {
        "id": "oaahyixw4_5a",
        "outputId": "2dd11d00-f988-4f74-8377-834893cd5727"
      },
      "source": [
        "A"
      ],
      "execution_count": null,
      "outputs": [
        {
          "output_type": "execute_result",
          "data": {
            "text/plain": [
              "[2, 8, 4]"
            ]
          },
          "metadata": {
            "tags": []
          },
          "execution_count": 49
        }
      ]
    },
    {
      "cell_type": "code",
      "metadata": {
        "id": "EDKqopj54_5a"
      },
      "source": [
        "import itertools\n",
        "A_list = list(itertools.combinations(A, 2))"
      ],
      "execution_count": null,
      "outputs": []
    },
    {
      "cell_type": "code",
      "metadata": {
        "id": "h4J_LNu64_5a",
        "outputId": "4cc05e00-08cf-41b4-eb36-0cd3fb2db18e"
      },
      "source": [
        "A_list"
      ],
      "execution_count": null,
      "outputs": [
        {
          "output_type": "execute_result",
          "data": {
            "text/plain": [
              "[(2, 8), (2, 4), (8, 4)]"
            ]
          },
          "metadata": {
            "tags": []
          },
          "execution_count": 53
        }
      ]
    },
    {
      "cell_type": "code",
      "metadata": {
        "id": "Q2b79P3Y4_5a"
      },
      "source": [
        "B = [(i[0]-i[1])**2 for i in A_list]"
      ],
      "execution_count": null,
      "outputs": []
    },
    {
      "cell_type": "code",
      "metadata": {
        "id": "I9iK22zJ4_5a",
        "outputId": "bf1d47b6-3b1b-49e5-c8ad-46c4ed7ea28e"
      },
      "source": [
        "B"
      ],
      "execution_count": null,
      "outputs": [
        {
          "output_type": "execute_result",
          "data": {
            "text/plain": [
              "[36, 4, 16]"
            ]
          },
          "metadata": {
            "tags": []
          },
          "execution_count": 55
        }
      ]
    },
    {
      "cell_type": "code",
      "metadata": {
        "id": "sPplSFsg4_5a",
        "outputId": "4a542832-708f-490e-b906-3baae115ae78"
      },
      "source": [
        "sum(B)"
      ],
      "execution_count": null,
      "outputs": [
        {
          "output_type": "execute_result",
          "data": {
            "text/plain": [
              "56"
            ]
          },
          "metadata": {
            "tags": []
          },
          "execution_count": 56
        }
      ]
    },
    {
      "cell_type": "code",
      "metadata": {
        "id": "mJV1OOvf4_5b"
      },
      "source": [
        "N = int(input())\n",
        "A = list(map(int,input().split()))\n",
        "\n",
        "import itertools\n",
        "A_list = list(itertools.combinations(A, 2))\n",
        "B = [(i[0]-i[1])**2 for i in A_list]\n",
        "print(sum(B))"
      ],
      "execution_count": null,
      "outputs": []
    },
    {
      "cell_type": "markdown",
      "metadata": {
        "id": "umi0884k4_5b"
      },
      "source": [
        "TLE!"
      ]
    },
    {
      "cell_type": "markdown",
      "metadata": {
        "id": "3mzm0YLu4_5b"
      },
      "source": [
        "a**2 -2ab + b**2\n",
        "b**2 -2cb + c**2\n",
        "c**2 -2ac + a**2\n",
        "\n",
        "2(a**2+b**2+c**2) -2(ab+bc+ca)"
      ]
    },
    {
      "cell_type": "code",
      "metadata": {
        "id": "W1tp0Li84_5b",
        "outputId": "478a1172-2354-434e-a442-213c1f714b94"
      },
      "source": [
        "N = int(input())\n",
        "A = list(map(int,input().split()))\n",
        "\n",
        "import itertools\n",
        "A_list = list(itertools.combinations(A, 2))\n",
        "\n",
        "B = [i**2 for i in A]\n",
        "C = [(i[0]*i[1])  for i in A_list]\n",
        "\n",
        "res = 2*sum(B)-2*sum(C)\n",
        "\n",
        "print(res)"
      ],
      "execution_count": null,
      "outputs": [
        {
          "output_type": "stream",
          "text": [
            "3\n",
            "2 8 4\n",
            "56\n"
          ],
          "name": "stdout"
        }
      ]
    },
    {
      "cell_type": "code",
      "metadata": {
        "id": "e_mX94pY4_5b",
        "outputId": "9ee14851-f129-49a4-fe48-f2d3e5f6cdb0"
      },
      "source": [
        "A"
      ],
      "execution_count": null,
      "outputs": [
        {
          "output_type": "execute_result",
          "data": {
            "text/plain": [
              "[2, 8, 4]"
            ]
          },
          "metadata": {
            "tags": []
          },
          "execution_count": 70
        }
      ]
    },
    {
      "cell_type": "code",
      "metadata": {
        "id": "vbNgTjfV4_5b",
        "outputId": "182b36c9-3fa4-4c3d-caae-e0b3eee558a0"
      },
      "source": [
        "B"
      ],
      "execution_count": null,
      "outputs": [
        {
          "output_type": "execute_result",
          "data": {
            "text/plain": [
              "[4, 64, 16]"
            ]
          },
          "metadata": {
            "tags": []
          },
          "execution_count": 71
        }
      ]
    },
    {
      "cell_type": "code",
      "metadata": {
        "id": "nuxwBU864_5b",
        "outputId": "25797200-777f-49a2-9691-45150256cc60"
      },
      "source": [
        "2*sum(B)"
      ],
      "execution_count": null,
      "outputs": [
        {
          "output_type": "execute_result",
          "data": {
            "text/plain": [
              "168"
            ]
          },
          "metadata": {
            "tags": []
          },
          "execution_count": 72
        }
      ]
    },
    {
      "cell_type": "code",
      "metadata": {
        "id": "o9AtDxOy4_5b",
        "outputId": "6770e9bb-ba6a-4bae-caad-0cf2bf35e8c7"
      },
      "source": [
        "2*sum(C)"
      ],
      "execution_count": null,
      "outputs": [
        {
          "output_type": "execute_result",
          "data": {
            "text/plain": [
              "112"
            ]
          },
          "metadata": {
            "tags": []
          },
          "execution_count": 77
        }
      ]
    },
    {
      "cell_type": "code",
      "metadata": {
        "id": "p0i59nNy4_5b",
        "outputId": "8db34a52-773a-45ab-ab26-c1fb851cb5a7"
      },
      "source": [
        "N = int(input())\n",
        "A = list(map(int,input().split()))\n",
        "\n",
        "import itertools\n",
        "A_list = list(itertools.combinations(A, 2))\n",
        "\n",
        "B = [i**2 for i in A]\n",
        "C = [(i[0]*i[1])  for i in A_list]\n",
        "\n",
        "res = 2*sum(B)-2*sum(C)\n",
        "\n",
        "print(res)"
      ],
      "execution_count": null,
      "outputs": [
        {
          "output_type": "stream",
          "text": [
            "5\n",
            "-5 8 9 -4 -3\n",
            "560\n"
          ],
          "name": "stdout"
        }
      ]
    },
    {
      "cell_type": "code",
      "metadata": {
        "id": "_Ygzau8o4_5b",
        "outputId": "6c77ea54-8517-40ff-f56f-9b0b19984d27"
      },
      "source": [
        "B"
      ],
      "execution_count": null,
      "outputs": [
        {
          "output_type": "execute_result",
          "data": {
            "text/plain": [
              "[25, 64, 81, 16, 9]"
            ]
          },
          "metadata": {
            "tags": []
          },
          "execution_count": 79
        }
      ]
    },
    {
      "cell_type": "code",
      "metadata": {
        "id": "RATPiKkI4_5c",
        "outputId": "11e1dab0-9f52-49ef-eae1-544c3677b828"
      },
      "source": [
        "C"
      ],
      "execution_count": null,
      "outputs": [
        {
          "output_type": "execute_result",
          "data": {
            "text/plain": [
              "[-40, -45, 20, 15, 72, -32, -24, -36, -27, 12]"
            ]
          },
          "metadata": {
            "tags": []
          },
          "execution_count": 80
        }
      ]
    },
    {
      "cell_type": "code",
      "metadata": {
        "id": "5QeV9Z-w4_5c",
        "outputId": "0cd4ae9d-4b9b-4c73-dec7-3fcfe7f9b203"
      },
      "source": [
        "2*sum(B)"
      ],
      "execution_count": null,
      "outputs": [
        {
          "output_type": "execute_result",
          "data": {
            "text/plain": [
              "390"
            ]
          },
          "metadata": {
            "tags": []
          },
          "execution_count": 81
        }
      ]
    },
    {
      "cell_type": "code",
      "metadata": {
        "id": "BaB-yZGT4_5c",
        "outputId": "757e0010-4503-4da9-a147-2ff06594f5ef"
      },
      "source": [
        "2*sum(C)"
      ],
      "execution_count": null,
      "outputs": [
        {
          "output_type": "execute_result",
          "data": {
            "text/plain": [
              "-170"
            ]
          },
          "metadata": {
            "tags": []
          },
          "execution_count": 82
        }
      ]
    },
    {
      "cell_type": "code",
      "metadata": {
        "id": "LHSKs7he4_5c"
      },
      "source": [
        ""
      ],
      "execution_count": null,
      "outputs": []
    }
  ]
}