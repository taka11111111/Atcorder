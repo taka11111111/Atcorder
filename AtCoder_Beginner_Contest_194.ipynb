{
  "nbformat": 4,
  "nbformat_minor": 0,
  "metadata": {
    "kernelspec": {
      "display_name": "Python 3",
      "language": "python",
      "name": "python3"
    },
    "language_info": {
      "codemirror_mode": {
        "name": "ipython",
        "version": 3
      },
      "file_extension": ".py",
      "mimetype": "text/x-python",
      "name": "python",
      "nbconvert_exporter": "python",
      "pygments_lexer": "ipython3",
      "version": "3.8.5"
    },
    "colab": {
      "name": "AtCoder Beginner Contest 194",
      "provenance": [],
      "include_colab_link": true
    }
  },
  "cells": [
    {
      "cell_type": "markdown",
      "metadata": {
        "id": "view-in-github",
        "colab_type": "text"
      },
      "source": [
        "<a href=\"https://colab.research.google.com/github/taka11111111/Atcorder/blob/main/AtCoder_Beginner_Contest_194.ipynb\" target=\"_parent\"><img src=\"https://colab.research.google.com/assets/colab-badge.svg\" alt=\"Open In Colab\"/></a>"
      ]
    },
    {
      "cell_type": "markdown",
      "metadata": {
        "id": "KdYZEV-94_5U"
      },
      "source": [
        " # [A - I Scream](https://atcoder.jp/contests/abc194/tasks/abc194_a)"
      ]
    },
    {
      "cell_type": "code",
      "metadata": {
        "id": "3SloGAXn4_5X",
        "outputId": "cc4c55d4-efb3-4494-8725-83001120f46c"
      },
      "source": [
        "A,B = map(int,input().split())\n",
        "A = A+B\n",
        "\n",
        "if A >= 15 and B >= 8:\n",
        "    r = 1\n",
        "elif A >= 10 and B >= 3:\n",
        "    r = 2\n",
        "elif A >= 3:\n",
        "    r = 3\n",
        "else:\n",
        "    r = 4 \n",
        "print(r)"
      ],
      "execution_count": null,
      "outputs": [
        {
          "output_type": "stream",
          "text": [
            "10 8\n",
            "1\n"
          ],
          "name": "stdout"
        }
      ]
    },
    {
      "cell_type": "code",
      "metadata": {
        "id": "9Y8OOzq84_5X",
        "outputId": "fe86ed4b-be6e-45df-a1ef-968fa8f81910"
      },
      "source": [
        "A > 15"
      ],
      "execution_count": null,
      "outputs": [
        {
          "output_type": "execute_result",
          "data": {
            "text/plain": [
              "True"
            ]
          },
          "metadata": {
            "tags": []
          },
          "execution_count": 6
        }
      ]
    },
    {
      "cell_type": "code",
      "metadata": {
        "id": "qVrRwm-Q4_5Y",
        "outputId": "bbcc3904-ad40-4915-8c49-476ec60e2380"
      },
      "source": [
        "B > 8"
      ],
      "execution_count": null,
      "outputs": [
        {
          "output_type": "execute_result",
          "data": {
            "text/plain": [
              "False"
            ]
          },
          "metadata": {
            "tags": []
          },
          "execution_count": 7
        }
      ]
    },
    {
      "cell_type": "code",
      "metadata": {
        "id": "4LK2jTqI4_5Y",
        "outputId": "eb70e9c8-2291-4f02-d624-d8ea32f51880"
      },
      "source": [
        "B >= 8"
      ],
      "execution_count": null,
      "outputs": [
        {
          "output_type": "execute_result",
          "data": {
            "text/plain": [
              "True"
            ]
          },
          "metadata": {
            "tags": []
          },
          "execution_count": 14
        }
      ]
    },
    {
      "cell_type": "markdown",
      "metadata": {
        "id": "qC1qUZLL4_5Y"
      },
      "source": [
        "# [B - Job Assignment](https://atcoder.jp/contests/abc194/tasks/abc194_b)"
      ]
    },
    {
      "cell_type": "code",
      "metadata": {
        "id": "QVHwmWXR4_5Y",
        "outputId": "cfe656df-855d-461c-a1e7-c1c19299b10d"
      },
      "source": [
        "N = int(input())\n",
        "a = []\n",
        "b = []\n",
        "for i in range(N):\n",
        "    A,B = map(int,input().split())\n",
        "    a.append(A)\n",
        "    b.append(B)"
      ],
      "execution_count": null,
      "outputs": [
        {
          "output_type": "stream",
          "text": [
            "3\n",
            "11 7\n",
            "3 2\n",
            "6 7\n"
          ],
          "name": "stdout"
        }
      ]
    },
    {
      "cell_type": "code",
      "metadata": {
        "id": "UdTd4ru84_5Y",
        "outputId": "b29d2d56-2c4c-452d-fd70-2ecb5a45d91c"
      },
      "source": [
        "min(a)"
      ],
      "execution_count": null,
      "outputs": [
        {
          "output_type": "execute_result",
          "data": {
            "text/plain": [
              "3"
            ]
          },
          "metadata": {
            "tags": []
          },
          "execution_count": 37
        }
      ]
    },
    {
      "cell_type": "code",
      "metadata": {
        "id": "sAVpeDKM4_5Y",
        "outputId": "0033cb8d-9f62-4b58-989b-d311311276ef"
      },
      "source": [
        "min(b)"
      ],
      "execution_count": null,
      "outputs": [
        {
          "output_type": "execute_result",
          "data": {
            "text/plain": [
              "2"
            ]
          },
          "metadata": {
            "tags": []
          },
          "execution_count": 38
        }
      ]
    },
    {
      "cell_type": "code",
      "metadata": {
        "id": "qO1BkKLf4_5Y",
        "outputId": "ed78947f-c826-496c-e268-788fa4502357"
      },
      "source": [
        "sorted(a)[-2]"
      ],
      "execution_count": null,
      "outputs": [
        {
          "output_type": "execute_result",
          "data": {
            "text/plain": [
              "6"
            ]
          },
          "metadata": {
            "tags": []
          },
          "execution_count": 39
        }
      ]
    },
    {
      "cell_type": "code",
      "metadata": {
        "id": "l6a3FTVO4_5Z",
        "outputId": "ed0f06e8-d7ac-499a-8d49-ed649c989e29"
      },
      "source": [
        "sorted(b)[-2]"
      ],
      "execution_count": null,
      "outputs": [
        {
          "output_type": "execute_result",
          "data": {
            "text/plain": [
              "7"
            ]
          },
          "metadata": {
            "tags": []
          },
          "execution_count": 40
        }
      ]
    },
    {
      "cell_type": "code",
      "metadata": {
        "id": "I9DiDCCZ4_5Z"
      },
      "source": [
        "a1 = min(a)\n",
        "a2 = sorted(a)[-2]\n",
        "b1 = min(b)\n",
        "b2 = sorted(b)[-2]"
      ],
      "execution_count": null,
      "outputs": []
    },
    {
      "cell_type": "code",
      "metadata": {
        "id": "DDLXDgWX4_5Z",
        "outputId": "19bd5aee-c5eb-4c05-d19d-d56e8ba0e4fb"
      },
      "source": [
        "if a1 != b1:\n",
        "    res = max(a1 , b1)\n",
        "elif a1 == b1:\n",
        "    if a2 < b2:\n",
        "        res = max(a2 , b1)\n",
        "    else:\n",
        "        res = max(a1 , b2)\n",
        "print(res)"
      ],
      "execution_count": null,
      "outputs": [
        {
          "output_type": "stream",
          "text": [
            "3\n"
          ],
          "name": "stdout"
        }
      ]
    },
    {
      "cell_type": "code",
      "metadata": {
        "id": "B1gKh-n-4_5Z",
        "outputId": "273cbb0a-8406-41b6-c288-d7651acd66f1"
      },
      "source": [
        "al = a.index(a1)\n",
        "bl = b.index(b1)\n",
        "\n",
        "if al == bl:\n",
        "    res = a1 + b1\n",
        "    if a2 < b2:\n",
        "        if res < max(a1,b2):\n",
        "            res = res\n",
        "        else:\n",
        "            res = max(a1,b2)\n",
        "    else:\n",
        "        if res < max(a2,b1):\n",
        "            res = res\n",
        "        else:\n",
        "            res = max(a2,b1)\n",
        "else:\n",
        "    res = max(a1,b1)\n",
        "    \n",
        "print(res)\n"
      ],
      "execution_count": null,
      "outputs": [
        {
          "output_type": "stream",
          "text": [
            "5\n"
          ],
          "name": "stdout"
        }
      ]
    },
    {
      "cell_type": "code",
      "metadata": {
        "id": "vVsveZhx4_5Z"
      },
      "source": [
        "N = int(input())\n",
        "a = []\n",
        "b = []\n",
        "for i in range(N):\n",
        "    A,B = map(int,input().split())\n",
        "    a.append(A)\n",
        "    b.append(B)\n",
        "    \n",
        "a1 = min(a)\n",
        "a2 = sorted(a)[-2]\n",
        "b1 = min(b)\n",
        "b2 = sorted(b)[-2]\n",
        "\n",
        "r1 = a1 + b1\n",
        "r2 = max(a1,b2)\n",
        "r3 = max(a2,b1)\n",
        "\n",
        "res = min([r1,r2,r3])\n",
        "print(res)"
      ],
      "execution_count": null,
      "outputs": []
    },
    {
      "cell_type": "code",
      "metadata": {
        "id": "iLotBDnc4_5Z"
      },
      "source": [
        "N = int(input())\n",
        "a = []\n",
        "b = []\n",
        "for i in range(N):\n",
        "    A,B = map(int,input().split())\n",
        "    a.append(A)\n",
        "    b.append(B)\n",
        "    \n",
        "a1 = min(a)\n",
        "a2 = sorted(a)[-2]\n",
        "b1 = min(b)\n",
        "b2 = sorted(b)[-2]\n",
        "\n",
        "al = a.index(a1)\n",
        "bl = b.index(b1)\n",
        "\n",
        "if al == bl:\n",
        "  r1 = a1 + b1\n",
        "  r2 = max(a1,b2)\n",
        "  r3 = max(a2,b1)\n",
        "  res = min([r1,r2,r3])\n",
        "else:\n",
        "  res = max(a1,b1)\n",
        "  \n",
        "print(res)"
      ],
      "execution_count": null,
      "outputs": []
    },
    {
      "cell_type": "markdown",
      "metadata": {
        "id": "nQI00iUF4_5Z"
      },
      "source": [
        "# [C - Squared Error](https://atcoder.jp/contests/abc194/tasks/abc194_c)"
      ]
    },
    {
      "cell_type": "code",
      "metadata": {
        "id": "89MK8-N_4_5Z",
        "colab": {
          "base_uri": "https://localhost:8080/"
        },
        "outputId": "d84a8f47-c587-49f8-901d-68e4fd32d16e"
      },
      "source": [
        "N = int(input())\n",
        "A = list(map(int,input().split()))"
      ],
      "execution_count": null,
      "outputs": [
        {
          "output_type": "stream",
          "text": [
            "3\n",
            "2 8 4\n"
          ],
          "name": "stdout"
        }
      ]
    },
    {
      "cell_type": "code",
      "metadata": {
        "id": "Jd0JDClN4_5a"
      },
      "source": [
        "B = [i**2 for i in A]\n",
        "C = sum(B)"
      ],
      "execution_count": null,
      "outputs": []
    },
    {
      "cell_type": "code",
      "metadata": {
        "id": "2yrrIsZA4_5a",
        "colab": {
          "base_uri": "https://localhost:8080/"
        },
        "outputId": "6aa62cb9-9f9c-4216-d0ce-17841aedd567"
      },
      "source": [
        "print(C)"
      ],
      "execution_count": null,
      "outputs": [
        {
          "output_type": "stream",
          "text": [
            "84\n"
          ],
          "name": "stdout"
        }
      ]
    },
    {
      "cell_type": "code",
      "metadata": {
        "id": "UHLDHL7P4_5a",
        "colab": {
          "base_uri": "https://localhost:8080/"
        },
        "outputId": "bed03981-7721-4eb8-9ff1-c9bed6d13557"
      },
      "source": [
        "B"
      ],
      "execution_count": null,
      "outputs": [
        {
          "output_type": "execute_result",
          "data": {
            "text/plain": [
              "[4, 64, 16]"
            ]
          },
          "metadata": {
            "tags": []
          },
          "execution_count": 4
        }
      ]
    },
    {
      "cell_type": "code",
      "metadata": {
        "id": "oaahyixw4_5a",
        "colab": {
          "base_uri": "https://localhost:8080/"
        },
        "outputId": "0019ac10-6629-472b-85c0-a8727374bde8"
      },
      "source": [
        "A"
      ],
      "execution_count": null,
      "outputs": [
        {
          "output_type": "execute_result",
          "data": {
            "text/plain": [
              "[2, 8, 4]"
            ]
          },
          "metadata": {
            "tags": []
          },
          "execution_count": 5
        }
      ]
    },
    {
      "cell_type": "code",
      "metadata": {
        "id": "EDKqopj54_5a"
      },
      "source": [
        "import itertools\n",
        "A_list = list(itertools.combinations(A, 2))"
      ],
      "execution_count": null,
      "outputs": []
    },
    {
      "cell_type": "code",
      "metadata": {
        "id": "h4J_LNu64_5a",
        "colab": {
          "base_uri": "https://localhost:8080/"
        },
        "outputId": "fb48bfce-62d7-43cb-ac6d-a3e1abe110a4"
      },
      "source": [
        "A_list"
      ],
      "execution_count": null,
      "outputs": [
        {
          "output_type": "execute_result",
          "data": {
            "text/plain": [
              "[(2, 8), (2, 4), (8, 4)]"
            ]
          },
          "metadata": {
            "tags": []
          },
          "execution_count": 7
        }
      ]
    },
    {
      "cell_type": "code",
      "metadata": {
        "id": "Q2b79P3Y4_5a"
      },
      "source": [
        "B = [(i[0]-i[1])**2 for i in A_list]"
      ],
      "execution_count": null,
      "outputs": []
    },
    {
      "cell_type": "code",
      "metadata": {
        "id": "I9iK22zJ4_5a",
        "colab": {
          "base_uri": "https://localhost:8080/"
        },
        "outputId": "cc8c7af4-aaca-4a9f-ee80-bf65687bee80"
      },
      "source": [
        "B"
      ],
      "execution_count": null,
      "outputs": [
        {
          "output_type": "execute_result",
          "data": {
            "text/plain": [
              "[36, 4, 16]"
            ]
          },
          "metadata": {
            "tags": []
          },
          "execution_count": 9
        }
      ]
    },
    {
      "cell_type": "code",
      "metadata": {
        "id": "sPplSFsg4_5a",
        "colab": {
          "base_uri": "https://localhost:8080/"
        },
        "outputId": "f5154161-1c49-4c8e-ad11-f77802e27c31"
      },
      "source": [
        "sum(B)"
      ],
      "execution_count": null,
      "outputs": [
        {
          "output_type": "execute_result",
          "data": {
            "text/plain": [
              "56"
            ]
          },
          "metadata": {
            "tags": []
          },
          "execution_count": 10
        }
      ]
    },
    {
      "cell_type": "code",
      "metadata": {
        "id": "mJV1OOvf4_5b",
        "colab": {
          "base_uri": "https://localhost:8080/"
        },
        "outputId": "12fc9dbb-908f-4b99-81f9-6b641173aaf4"
      },
      "source": [
        "N = int(input())\n",
        "A = list(map(int,input().split()))\n",
        "\n",
        "import itertools\n",
        "A_list = list(itertools.combinations(A, 2))\n",
        "B = [(i[0]-i[1])**2 for i in A_list]\n",
        "print(sum(B))"
      ],
      "execution_count": null,
      "outputs": [
        {
          "output_type": "stream",
          "text": [
            "5\n",
            "-5 8 9 -4 -3\n",
            "950\n"
          ],
          "name": "stdout"
        }
      ]
    },
    {
      "cell_type": "markdown",
      "metadata": {
        "id": "umi0884k4_5b"
      },
      "source": [
        "TLE!"
      ]
    },
    {
      "cell_type": "markdown",
      "metadata": {
        "id": "3mzm0YLu4_5b"
      },
      "source": [
        "a**2 -2ab + b**2\n",
        "b**2 -2cb + c**2\n",
        "c**2 -2ac + a**2\n",
        "\n",
        "2(a**2+b**2+c**2) -2(ab+bc+ca)"
      ]
    },
    {
      "cell_type": "code",
      "metadata": {
        "id": "W1tp0Li84_5b",
        "colab": {
          "base_uri": "https://localhost:8080/"
        },
        "outputId": "22218d8c-5dea-4dd2-cdea-446bcc1a676b"
      },
      "source": [
        "N = int(input())\n",
        "A = list(map(int,input().split()))\n",
        "\n",
        "import itertools\n",
        "A_list = list(itertools.combinations(A, 2))\n",
        "\n",
        "B = [i**2 for i in A]\n",
        "C = [(i[0]*i[1])  for i in A_list]\n",
        "\n",
        "res = 2*sum(B)-2*sum(C)\n",
        "\n",
        "print(res)"
      ],
      "execution_count": null,
      "outputs": [
        {
          "output_type": "stream",
          "text": [
            "5\n",
            "-5 8 9 -4 -3\n",
            "560\n"
          ],
          "name": "stdout"
        }
      ]
    },
    {
      "cell_type": "code",
      "metadata": {
        "id": "e_mX94pY4_5b",
        "colab": {
          "base_uri": "https://localhost:8080/"
        },
        "outputId": "6d29f5cb-2e3f-4229-83cf-64b861fe0ccf"
      },
      "source": [
        "A"
      ],
      "execution_count": null,
      "outputs": [
        {
          "output_type": "execute_result",
          "data": {
            "text/plain": [
              "[-5, 8, 9, -4, -3]"
            ]
          },
          "metadata": {
            "tags": []
          },
          "execution_count": 13
        }
      ]
    },
    {
      "cell_type": "code",
      "metadata": {
        "id": "vbNgTjfV4_5b",
        "colab": {
          "base_uri": "https://localhost:8080/"
        },
        "outputId": "38cfcda8-d8ed-4aba-d4a4-4caa56e04bc2"
      },
      "source": [
        "B"
      ],
      "execution_count": null,
      "outputs": [
        {
          "output_type": "execute_result",
          "data": {
            "text/plain": [
              "[25, 64, 81, 16, 9]"
            ]
          },
          "metadata": {
            "tags": []
          },
          "execution_count": 14
        }
      ]
    },
    {
      "cell_type": "code",
      "metadata": {
        "id": "nuxwBU864_5b",
        "colab": {
          "base_uri": "https://localhost:8080/"
        },
        "outputId": "94ac3886-5175-4b4d-a9d8-38ae75358a4b"
      },
      "source": [
        "2*sum(B)"
      ],
      "execution_count": null,
      "outputs": [
        {
          "output_type": "execute_result",
          "data": {
            "text/plain": [
              "390"
            ]
          },
          "metadata": {
            "tags": []
          },
          "execution_count": 15
        }
      ]
    },
    {
      "cell_type": "code",
      "metadata": {
        "id": "o9AtDxOy4_5b",
        "colab": {
          "base_uri": "https://localhost:8080/"
        },
        "outputId": "f868e781-cfcb-4393-aca9-696073f758b9"
      },
      "source": [
        "2*sum(C)"
      ],
      "execution_count": null,
      "outputs": [
        {
          "output_type": "execute_result",
          "data": {
            "text/plain": [
              "-170"
            ]
          },
          "metadata": {
            "tags": []
          },
          "execution_count": 16
        }
      ]
    },
    {
      "cell_type": "code",
      "metadata": {
        "id": "p0i59nNy4_5b",
        "colab": {
          "base_uri": "https://localhost:8080/"
        },
        "outputId": "cf7765bb-de9e-4c28-808c-2b4db459c6be"
      },
      "source": [
        "N = int(input())\n",
        "A = list(map(int,input().split()))\n",
        "\n",
        "import itertools\n",
        "A_list = list(itertools.combinations(A, 2))\n",
        "\n",
        "B = [i**2 for i in A]\n",
        "C = [(i[0]*i[1])  for i in A_list]\n",
        "\n",
        "res = 2*sum(B)-2*sum(C)\n",
        "\n",
        "print(res)"
      ],
      "execution_count": null,
      "outputs": [
        {
          "output_type": "stream",
          "text": [
            "5\n",
            "-5 8 9 -4 -3\n",
            "560\n"
          ],
          "name": "stdout"
        }
      ]
    },
    {
      "cell_type": "code",
      "metadata": {
        "id": "_Ygzau8o4_5b",
        "colab": {
          "base_uri": "https://localhost:8080/"
        },
        "outputId": "c7589aab-51ac-4aa0-ba2c-2b786bc1e955"
      },
      "source": [
        "B"
      ],
      "execution_count": null,
      "outputs": [
        {
          "output_type": "execute_result",
          "data": {
            "text/plain": [
              "[25, 64, 81, 16, 9]"
            ]
          },
          "metadata": {
            "tags": []
          },
          "execution_count": 18
        }
      ]
    },
    {
      "cell_type": "code",
      "metadata": {
        "id": "RATPiKkI4_5c",
        "colab": {
          "base_uri": "https://localhost:8080/"
        },
        "outputId": "a63aec0d-778f-4138-b0f7-eb2a916ce4a5"
      },
      "source": [
        "C"
      ],
      "execution_count": null,
      "outputs": [
        {
          "output_type": "execute_result",
          "data": {
            "text/plain": [
              "[-40, -45, 20, 15, 72, -32, -24, -36, -27, 12]"
            ]
          },
          "metadata": {
            "tags": []
          },
          "execution_count": 19
        }
      ]
    },
    {
      "cell_type": "code",
      "metadata": {
        "id": "5QeV9Z-w4_5c",
        "colab": {
          "base_uri": "https://localhost:8080/"
        },
        "outputId": "4ef12d20-8517-4bed-a9b8-cb4851230212"
      },
      "source": [
        "2*sum(B)"
      ],
      "execution_count": null,
      "outputs": [
        {
          "output_type": "execute_result",
          "data": {
            "text/plain": [
              "390"
            ]
          },
          "metadata": {
            "tags": []
          },
          "execution_count": 20
        }
      ]
    },
    {
      "cell_type": "code",
      "metadata": {
        "id": "BaB-yZGT4_5c",
        "colab": {
          "base_uri": "https://localhost:8080/"
        },
        "outputId": "4fc40ea8-0fda-410c-f467-a78fba38db80"
      },
      "source": [
        "2*sum(C)"
      ],
      "execution_count": null,
      "outputs": [
        {
          "output_type": "execute_result",
          "data": {
            "text/plain": [
              "-170"
            ]
          },
          "metadata": {
            "tags": []
          },
          "execution_count": 21
        }
      ]
    },
    {
      "cell_type": "code",
      "metadata": {
        "id": "-1pArSTPh8KS"
      },
      "source": [
        ""
      ],
      "execution_count": null,
      "outputs": []
    },
    {
      "cell_type": "markdown",
      "metadata": {
        "id": "8Kxvi3mhh8hI"
      },
      "source": [
        "うーん、だめだ！答えをみよう！\n",
        "[解説 - AtCoder Beginner Contest 194](https://atcoder.jp/contests/abc194/editorial/826)"
      ]
    },
    {
      "cell_type": "markdown",
      "metadata": {
        "id": "-ottTaeTiaML"
      },
      "source": [
        "解法 \n",
        "1\n",
        "|\n",
        "A\n",
        "i\n",
        "|\n",
        "≤\n",
        "200\n",
        " という制約を利用します。\n",
        "\n",
        "\n",
        " 解法 \n",
        "2\n",
        "|\n",
        "A\n",
        "i\n",
        "|\n",
        "≤\n",
        "200\n",
        " という制約を利用せずとも高速に求めることができます。\n",
        "∑\n",
        "n\n",
        "i\n",
        "=\n",
        "2\n",
        "∑\n",
        "i\n",
        "−\n",
        "1\n",
        "j\n",
        "=\n",
        "1\n",
        "(\n",
        "A\n",
        "i\n",
        "−\n",
        "A\n",
        "j\n",
        ")\n",
        "2\n"
      ]
    },
    {
      "cell_type": "code",
      "metadata": {
        "id": "LHSKs7he4_5c",
        "colab": {
          "base_uri": "https://localhost:8080/"
        },
        "outputId": "9acd2bb8-4ff1-41da-b492-e9f60bf92a3a"
      },
      "source": [
        "N = int(input())\n",
        "A = list(map(int,input().split()))\n",
        "\n",
        "import itertools\n",
        "A_list = list(itertools.combinations(A, 2))\n",
        "B = [(i[0]-i[1])**2 for i in A_list]\n",
        "\n",
        "print(sum(B))"
      ],
      "execution_count": null,
      "outputs": [
        {
          "output_type": "stream",
          "text": [
            "5\n",
            "-5 8 9 -4 -3\n",
            "950\n"
          ],
          "name": "stdout"
        }
      ]
    },
    {
      "cell_type": "code",
      "metadata": {
        "colab": {
          "base_uri": "https://localhost:8080/"
        },
        "id": "y2NuKMj4keqX",
        "outputId": "564a9288-4d5d-4894-c2b2-45b3126a8b1a"
      },
      "source": [
        "N = int(input())\n",
        "A = list(map(int,input().split()))\n",
        "\n",
        "import itertools\n",
        "A_list = list(itertools.combinations(A, 2))\n",
        "\n",
        "B = [i**2 for i in A]\n",
        "C = [(i[0]*i[1])  for i in A_list]\n",
        "\n",
        "res = (N-1)*sum(B) -2*sum(C)\n",
        "\n",
        "print(res)"
      ],
      "execution_count": null,
      "outputs": [
        {
          "output_type": "stream",
          "text": [
            "950\n"
          ],
          "name": "stdout"
        }
      ]
    },
    {
      "cell_type": "markdown",
      "metadata": {
        "id": "gsXtetaFjbEJ"
      },
      "source": [
        "これでもTLEかー"
      ]
    },
    {
      "cell_type": "code",
      "metadata": {
        "colab": {
          "base_uri": "https://localhost:8080/"
        },
        "id": "MCcralmDjaQB",
        "outputId": "08e6de49-fa78-437d-a510-aa0e4fddf767"
      },
      "source": [
        "N = int(input())\n",
        "A = list(map(int,input().split()))\n",
        "B = [i**2 for i in A]\n",
        "\n",
        "C = 0\n",
        "a = A[::-1]\n",
        "\n",
        "for i in a:\n",
        "  a = a[1:]\n",
        "  C += (i * sum(a))\n",
        "res = (N-1)*sum(B) -2*C\n",
        "#res = (N-1)*sum(B) -2*sum(C)\n",
        "\n",
        "print(res)"
      ],
      "execution_count": null,
      "outputs": [
        {
          "output_type": "stream",
          "text": [
            "950\n"
          ],
          "name": "stdout"
        }
      ]
    },
    {
      "cell_type": "code",
      "metadata": {
        "colab": {
          "base_uri": "https://localhost:8080/"
        },
        "id": "c68vTMnVlm1d",
        "outputId": "60ecd0bc-4d51-4d7f-e505-a8c6282191b6"
      },
      "source": [
        "N = int(input())\n",
        "A = list(map(int,input().split()))\n",
        "\n",
        "a = A[::-1]\n",
        "B = 0\n",
        "C = 0\n",
        "\n",
        "for i in a:\n",
        "  a = a[1:]\n",
        "  C += (i * sum(a))\n",
        "  B += i**2\n",
        "\n",
        "res = (N-1)*B -2*C\n",
        "print(res)"
      ],
      "execution_count": null,
      "outputs": [
        {
          "output_type": "stream",
          "text": [
            "950\n"
          ],
          "name": "stdout"
        }
      ]
    },
    {
      "cell_type": "markdown",
      "metadata": {
        "id": "omdNfk_QAKik"
      },
      "source": [
        "## 解法２"
      ]
    },
    {
      "cell_type": "markdown",
      "metadata": {
        "id": "lyPSuCbx8hPT"
      },
      "source": [
        "|\n",
        "A\n",
        "i\n",
        "|\n",
        "≤\n",
        "200\n",
        " という制約を利用せずとも高速に求めることができます。\n",
        "∑\n",
        "n\n",
        "i\n",
        "=\n",
        "2\n",
        "∑\n",
        "i\n",
        "−\n",
        "1\n",
        "j\n",
        "=\n",
        "1\n",
        "(\n",
        "A\n",
        "i\n",
        "−\n",
        "A\n",
        "j\n",
        ")\n",
        "2\n",
        "\n",
        "=\n",
        "1\n",
        "2\n",
        "(\n",
        "∑\n",
        "n\n",
        "i\n",
        "=\n",
        "1\n",
        "∑\n",
        "n\n",
        "j\n",
        "=\n",
        "1\n",
        "(\n",
        "A\n",
        "i\n",
        "−\n",
        "A\n",
        "j\n",
        ")\n",
        "2\n",
        ")\n",
        " \n",
        "(\n",
        "(\n",
        "A\n",
        "i\n",
        "−\n",
        "A\n",
        "i\n",
        ")\n",
        "2\n",
        "=\n",
        "0\n",
        " なので \n",
        ")\n",
        "\n",
        "=\n",
        "1\n",
        "2\n",
        "(\n",
        "∑\n",
        "n\n",
        "i\n",
        "=\n",
        "1\n",
        "∑\n",
        "n\n",
        "j\n",
        "=\n",
        "1\n",
        "(\n",
        "A\n",
        "2\n",
        "i\n",
        "+\n",
        "A\n",
        "2\n",
        "j\n",
        "−\n",
        "2\n",
        "A\n",
        "i\n",
        "A\n",
        "j\n",
        ")\n",
        ")\n",
        "\n",
        "=\n",
        "1\n",
        "2\n",
        "(\n",
        "2\n",
        "N\n",
        "∑\n",
        "n\n",
        "i\n",
        "=\n",
        "1\n",
        "A\n",
        "2\n",
        "i\n",
        "−\n",
        "2\n",
        "∑\n",
        "n\n",
        "i\n",
        "=\n",
        "1\n",
        "(\n",
        "A\n",
        "i\n",
        "∑\n",
        "n\n",
        "j\n",
        "=\n",
        "1\n",
        "A\n",
        "j\n",
        ")\n",
        ")\n",
        "\n",
        "=\n",
        "N\n",
        "∑\n",
        "n\n",
        "i\n",
        "=\n",
        "1\n",
        "A\n",
        "2\n",
        "i\n",
        "−\n",
        "(\n",
        "∑\n",
        "n\n",
        "i\n",
        "=\n",
        "1\n",
        "A\n",
        "i\n",
        ")\n",
        "2\n",
        "\n",
        "と変形でき、最後の式は \n",
        "O\n",
        "(\n",
        "N\n",
        ")\n",
        " で計算できます。\n",
        "同様に32 bit整数型のオーバーフローには注意してください。"
      ]
    },
    {
      "cell_type": "markdown",
      "metadata": {
        "id": "KGczqxIa8opj"
      },
      "source": [
        "式の変形がわからん・・・"
      ]
    },
    {
      "cell_type": "code",
      "metadata": {
        "colab": {
          "base_uri": "https://localhost:8080/"
        },
        "id": "AmqVdpSwmPp0",
        "outputId": "6da0ac78-b81d-45df-9bd4-bcde00590340"
      },
      "source": [
        "N = int(input())\n",
        "A = list(map(int,input().split()))\n",
        "\n",
        "B = [i**2 for i in A]\n",
        "res = N*sum(B) - sum(A)**2\n",
        "\n",
        "print(res)"
      ],
      "execution_count": null,
      "outputs": [
        {
          "output_type": "stream",
          "text": [
            "950\n"
          ],
          "name": "stdout"
        }
      ]
    },
    {
      "cell_type": "markdown",
      "metadata": {
        "id": "t1hONsZI_Obb"
      },
      "source": [
        "とおった！爆速！！！"
      ]
    },
    {
      "cell_type": "markdown",
      "metadata": {
        "id": "ayIdD5wZADNS"
      },
      "source": [
        "## 解法１\n",
        "\n",
        "|\n",
        "A\n",
        "i\n",
        "|\n",
        "≤\n",
        "200\n",
        " という制約を利用します。\n",
        "N\n",
        " は大きくても出現する値の種類数は小さいので、同じ値の要素をまとめて処理します。\n",
        "まず\n",
        "c\n",
        "n\n",
        "t\n",
        "i\n",
        ":\n",
        "A\n",
        " に \n",
        "i\n",
        " が何個出現するか\n",
        "という数列を計算します。添字が負になる可能性があるため、実際の実装ではすべての添字に \n",
        "200\n",
        " を足すなどすると良いでしょう。\n",
        "そして各 \n",
        "i\n",
        ",\n",
        "j\n",
        "(\n",
        "−\n",
        "200\n",
        "≤\n",
        "i\n",
        "<\n",
        "j\n",
        "≤\n",
        "200\n",
        ")\n",
        " について \n",
        "c\n",
        "n\n",
        "t\n",
        "i\n",
        "×\n",
        "c\n",
        "n\n",
        "t\n",
        "j\n",
        "×\n",
        "|\n",
        "i\n",
        "−\n",
        "j\n",
        "|\n",
        "2\n",
        " を求めて足せば答えです。\n",
        "同じ値同士は差の \n",
        "2\n",
        " 乗が \n",
        "0\n",
        " なので答えに影響せず、処理する必要がありません。\n",
        "答えが32 bit整数型に収まらない可能性があることに注意して、64 bit整数型などを用いて計算してください。\n",
        "時間計算量は \n",
        "O\n",
        "(\n",
        "N\n",
        "+\n",
        "(\n",
        "max\n",
        "|\n",
        "A\n",
        "i\n",
        "|\n",
        ")\n",
        "2\n",
        ")\n",
        " です。"
      ]
    },
    {
      "cell_type": "code",
      "metadata": {
        "colab": {
          "base_uri": "https://localhost:8080/"
        },
        "id": "jsEJFj_9AGrG",
        "outputId": "86539bd8-6f93-4641-d9e3-66eb47ac8e06"
      },
      "source": [
        "#N = int(input())\n",
        "#A = list(map(int,input().split()))\n",
        "\n",
        "res = 0\n",
        "cnt = [[A.count(i),i] for i in range(-200,201) if A.count(i) > 0] \n",
        "\n",
        "for i in range(len(cnt)):\n",
        "  for j in range(len(cnt)):\n",
        "    print( cnt[i][0])\n",
        "    print( cnt[j][0])\n",
        "    print( cnt[i][1])\n",
        "    print( cnt[j][1])\n",
        "\n",
        "    print(cnt[i][0] * cnt[j][0] * abs(cnt[i][1] - cnt[j][1]))\n",
        "    print('------------------')\n",
        "    res += cnt[i][1] * cnt[j][1] * abs(cnt[i][0] - cnt[j][0])\n",
        "    \n",
        "print(res)"
      ],
      "execution_count": null,
      "outputs": [
        {
          "output_type": "stream",
          "text": [
            "1\n",
            "1\n",
            "-5\n",
            "-5\n",
            "0\n",
            "------------------\n",
            "1\n",
            "1\n",
            "-5\n",
            "-4\n",
            "1\n",
            "------------------\n",
            "1\n",
            "1\n",
            "-5\n",
            "-3\n",
            "2\n",
            "------------------\n",
            "1\n",
            "1\n",
            "-5\n",
            "8\n",
            "13\n",
            "------------------\n",
            "1\n",
            "1\n",
            "-5\n",
            "9\n",
            "14\n",
            "------------------\n",
            "1\n",
            "1\n",
            "-4\n",
            "-5\n",
            "1\n",
            "------------------\n",
            "1\n",
            "1\n",
            "-4\n",
            "-4\n",
            "0\n",
            "------------------\n",
            "1\n",
            "1\n",
            "-4\n",
            "-3\n",
            "1\n",
            "------------------\n",
            "1\n",
            "1\n",
            "-4\n",
            "8\n",
            "12\n",
            "------------------\n",
            "1\n",
            "1\n",
            "-4\n",
            "9\n",
            "13\n",
            "------------------\n",
            "1\n",
            "1\n",
            "-3\n",
            "-5\n",
            "2\n",
            "------------------\n",
            "1\n",
            "1\n",
            "-3\n",
            "-4\n",
            "1\n",
            "------------------\n",
            "1\n",
            "1\n",
            "-3\n",
            "-3\n",
            "0\n",
            "------------------\n",
            "1\n",
            "1\n",
            "-3\n",
            "8\n",
            "11\n",
            "------------------\n",
            "1\n",
            "1\n",
            "-3\n",
            "9\n",
            "12\n",
            "------------------\n",
            "1\n",
            "1\n",
            "8\n",
            "-5\n",
            "13\n",
            "------------------\n",
            "1\n",
            "1\n",
            "8\n",
            "-4\n",
            "12\n",
            "------------------\n",
            "1\n",
            "1\n",
            "8\n",
            "-3\n",
            "11\n",
            "------------------\n",
            "1\n",
            "1\n",
            "8\n",
            "8\n",
            "0\n",
            "------------------\n",
            "1\n",
            "1\n",
            "8\n",
            "9\n",
            "1\n",
            "------------------\n",
            "1\n",
            "1\n",
            "9\n",
            "-5\n",
            "14\n",
            "------------------\n",
            "1\n",
            "1\n",
            "9\n",
            "-4\n",
            "13\n",
            "------------------\n",
            "1\n",
            "1\n",
            "9\n",
            "-3\n",
            "12\n",
            "------------------\n",
            "1\n",
            "1\n",
            "9\n",
            "8\n",
            "1\n",
            "------------------\n",
            "1\n",
            "1\n",
            "9\n",
            "9\n",
            "0\n",
            "------------------\n",
            "0\n"
          ],
          "name": "stdout"
        }
      ]
    },
    {
      "cell_type": "code",
      "metadata": {
        "id": "IyD4ML7OBA6y"
      },
      "source": [
        "cnt = [[i,A.count(i)] for i in range(-200,201) if A.count(i) > 0] "
      ],
      "execution_count": null,
      "outputs": []
    },
    {
      "cell_type": "code",
      "metadata": {
        "colab": {
          "base_uri": "https://localhost:8080/"
        },
        "id": "YHI21ntbBn_v",
        "outputId": "695ad092-8b89-4db9-e9ac-87784fac5ddd"
      },
      "source": [
        "A"
      ],
      "execution_count": null,
      "outputs": [
        {
          "output_type": "execute_result",
          "data": {
            "text/plain": [
              "[-5, 8, 9, -4, -3]"
            ]
          },
          "metadata": {
            "tags": []
          },
          "execution_count": 42
        }
      ]
    },
    {
      "cell_type": "code",
      "metadata": {
        "colab": {
          "base_uri": "https://localhost:8080/"
        },
        "id": "USvxOPv2IaTo",
        "outputId": "1aa32eb2-b0dd-473b-95d0-caafd599d5cf"
      },
      "source": [
        "cnt"
      ],
      "execution_count": null,
      "outputs": [
        {
          "output_type": "execute_result",
          "data": {
            "text/plain": [
              "[[-5, 1], [-4, 1], [-3, 1], [8, 1], [9, 1]]"
            ]
          },
          "metadata": {
            "tags": []
          },
          "execution_count": 43
        }
      ]
    },
    {
      "cell_type": "code",
      "metadata": {
        "id": "eVZG7O2RIc52"
      },
      "source": [
        ""
      ],
      "execution_count": null,
      "outputs": []
    }
  ]
}