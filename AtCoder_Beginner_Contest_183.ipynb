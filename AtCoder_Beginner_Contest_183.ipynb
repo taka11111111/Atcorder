{
  "nbformat": 4,
  "nbformat_minor": 0,
  "metadata": {
    "colab": {
      "name": " AtCoder Beginner Contest 183",
      "provenance": [],
      "collapsed_sections": [],
      "authorship_tag": "ABX9TyOfvQ5r5PGvpxppmlL7bfjs",
      "include_colab_link": true
    },
    "kernelspec": {
      "name": "python3",
      "display_name": "Python 3"
    }
  },
  "cells": [
    {
      "cell_type": "markdown",
      "metadata": {
        "id": "view-in-github",
        "colab_type": "text"
      },
      "source": [
        "<a href=\"https://colab.research.google.com/github/taka11111111/Atcorder/blob/main/AtCoder_Beginner_Contest_183.ipynb\" target=\"_parent\"><img src=\"https://colab.research.google.com/assets/colab-badge.svg\" alt=\"Open In Colab\"/></a>"
      ]
    },
    {
      "cell_type": "markdown",
      "metadata": {
        "id": "HBWLRqk9OoFZ"
      },
      "source": [
        "#[A - ReLU](https://atcoder.jp/contests/abc183/tasks/abc183_a)"
      ]
    },
    {
      "cell_type": "code",
      "metadata": {
        "colab": {
          "base_uri": "https://localhost:8080/"
        },
        "id": "0yxPZXrmO9Y8",
        "outputId": "6e59de18-24f4-4f2b-a0a3-7d2910bbe1c2"
      },
      "source": [
        "x = int(input())\n",
        "ReLU = x if x >= 0 else 0\n",
        "print(ReLU) "
      ],
      "execution_count": null,
      "outputs": [
        {
          "output_type": "stream",
          "text": [
            "-1\n",
            "0\n"
          ],
          "name": "stdout"
        }
      ]
    },
    {
      "cell_type": "markdown",
      "metadata": {
        "id": "FS-Cc0h5Oq39"
      },
      "source": [
        "#[B - Billiards](https://atcoder.jp/contests/abc183/tasks/abc183_b)"
      ]
    },
    {
      "cell_type": "code",
      "metadata": {
        "id": "UCnPhGtHOqjl"
      },
      "source": [
        "1 1 7 2"
      ],
      "execution_count": null,
      "outputs": []
    },
    {
      "cell_type": "code",
      "metadata": {
        "id": "rhiLaSDslNdT"
      },
      "source": [
        "#s = input()\r\n",
        "s = '1 1 7 2'\r\n",
        "sx,sy,gx,gy = map(int,s.split())"
      ],
      "execution_count": 1,
      "outputs": []
    },
    {
      "cell_type": "markdown",
      "metadata": {
        "id": "0szQKMJlmVEZ"
      },
      "source": [
        "どうすりゃいいんだ？\r\n",
        "\r\n",
        "図をみると相似になっているな・・・？？？\r\n",
        "\r\n",
        "直角三角形でもある。\r\n",
        "\r\n",
        "どうするんだっけ・・・？？？\r\n",
        "\r\n",
        "高さの比でみればいいのかな・・・？？？"
      ]
    },
    {
      "cell_type": "code",
      "metadata": {
        "colab": {
          "base_uri": "https://localhost:8080/"
        },
        "id": "FMMrJihrlnfL",
        "outputId": "272d921d-2974-46cb-ce5c-abe7e596e18b"
      },
      "source": [
        "y = gy / sy\r\n",
        "y"
      ],
      "execution_count": 8,
      "outputs": [
        {
          "output_type": "execute_result",
          "data": {
            "text/plain": [
              "2.0"
            ]
          },
          "metadata": {
            "tags": []
          },
          "execution_count": 8
        }
      ]
    },
    {
      "cell_type": "markdown",
      "metadata": {
        "id": "34cXlOsupXP7"
      },
      "source": [
        "```\r\n",
        "図から、\r\n",
        "x1 = 2\r\n",
        "x2 = 4\r\n",
        "\r\n",
        "x1:x2 = 1:y\r\n",
        "\r\n",
        "x1 = (gx - sx) * 1/(1+y) \r\n",
        "x2 = (gx - sx) * y/(1+y)\r\n",
        "```"
      ]
    },
    {
      "cell_type": "code",
      "metadata": {
        "colab": {
          "base_uri": "https://localhost:8080/"
        },
        "id": "rCAXVt3lnRvU",
        "outputId": "efaaf455-7e24-4ed1-dbb2-2fc7cff345c8"
      },
      "source": [
        "y = gy / sy\r\n",
        "x1 = (gx - sx) * 1/(1+y) \r\n",
        "x2 = (gx - sx) * y/(1+y)\r\n",
        "\r\n",
        "print(x1+1)"
      ],
      "execution_count": 10,
      "outputs": [
        {
          "output_type": "stream",
          "text": [
            "3.0\n"
          ],
          "name": "stdout"
        }
      ]
    },
    {
      "cell_type": "markdown",
      "metadata": {
        "id": "RUnA8UGTrUMO"
      },
      "source": [
        "こんなんでいいのかなあ？？？"
      ]
    },
    {
      "cell_type": "code",
      "metadata": {
        "colab": {
          "base_uri": "https://localhost:8080/"
        },
        "id": "YBpq-XWonmm6",
        "outputId": "8e6b395b-19b0-4723-90db-598cc4aa919a"
      },
      "source": [
        "s = '1 1 3 2'\r\n",
        "sx,sy,gx,gy = map(int,s.split())\r\n",
        "y = gy / sy\r\n",
        "x1 = (gx - sx) * 1/(1+y) \r\n",
        "x2 = (gx - sx) * y/(1+y)\r\n",
        "print(x1+1)"
      ],
      "execution_count": 12,
      "outputs": [
        {
          "output_type": "stream",
          "text": [
            "1.6666666666666665\n"
          ],
          "name": "stdout"
        }
      ]
    },
    {
      "cell_type": "markdown",
      "metadata": {
        "id": "RwmbIV7orn88"
      },
      "source": [
        "お、でた！！！"
      ]
    },
    {
      "cell_type": "code",
      "metadata": {
        "colab": {
          "base_uri": "https://localhost:8080/"
        },
        "id": "lb6RlDdarRH7",
        "outputId": "f5569624-8b39-4b09-c39e-8a480d11f401"
      },
      "source": [
        "s = '-9 99 -999 9999'\r\n",
        "sx,sy,gx,gy = map(int,s.split())\r\n",
        "y = gy / sy\r\n",
        "x1 = (gx - sx) * 1/(1+y) \r\n",
        "print(x1+1)"
      ],
      "execution_count": 13,
      "outputs": [
        {
          "output_type": "stream",
          "text": [
            "-8.705882352941176\n"
          ],
          "name": "stdout"
        }
      ]
    },
    {
      "cell_type": "markdown",
      "metadata": {
        "id": "EGpzqcQNr-x6"
      },
      "source": [
        "-18.7058823529"
      ]
    },
    {
      "cell_type": "markdown",
      "metadata": {
        "id": "LHzzTm9Qr5QL"
      },
      "source": [
        "あれ？だめかー\r\n",
        "\r\n",
        "よくみたら sxが-9だった！！！"
      ]
    },
    {
      "cell_type": "code",
      "metadata": {
        "colab": {
          "base_uri": "https://localhost:8080/"
        },
        "id": "3rtmVvfDsT9h",
        "outputId": "c12d99f3-21fb-4457-b412-07c75c1baf3c"
      },
      "source": [
        "s = '-9 99 -999 9999'\r\n",
        "sx,sy,gx,gy = map(int,s.split())\r\n",
        "y = gy / sy\r\n",
        "x1 = (gx - sx) * 1/(1+y) \r\n",
        "print(x1+sx)"
      ],
      "execution_count": 14,
      "outputs": [
        {
          "output_type": "stream",
          "text": [
            "-18.705882352941174\n"
          ],
          "name": "stdout"
        }
      ]
    },
    {
      "cell_type": "markdown",
      "metadata": {
        "id": "BjV4xVJ7ssOi"
      },
      "source": [
        "できたー！！！"
      ]
    }
  ]
}