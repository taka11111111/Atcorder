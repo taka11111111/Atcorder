{
  "nbformat": 4,
  "nbformat_minor": 0,
  "metadata": {
    "colab": {
      "name": "AtCoder Beginner Contest 176",
      "provenance": [],
      "authorship_tag": "ABX9TyOW2hrksmG8Eu+/bOCR2GtL",
      "include_colab_link": true
    },
    "kernelspec": {
      "name": "python3",
      "display_name": "Python 3"
    }
  },
  "cells": [
    {
      "cell_type": "markdown",
      "metadata": {
        "id": "view-in-github",
        "colab_type": "text"
      },
      "source": [
        "<a href=\"https://colab.research.google.com/github/taka11111111/Atcorder/blob/main/AtCoder_Beginner_Contest_176.ipynb\" target=\"_parent\"><img src=\"https://colab.research.google.com/assets/colab-badge.svg\" alt=\"Open In Colab\"/></a>"
      ]
    },
    {
      "cell_type": "markdown",
      "metadata": {
        "id": "1nBHyBYP6rxX"
      },
      "source": [
        "#[A - Takoyaki](https://atcoder.jp/contests/abc176/tasks/abc176_a)"
      ]
    },
    {
      "cell_type": "code",
      "metadata": {
        "colab": {
          "base_uri": "https://localhost:8080/"
        },
        "id": "PaqRTrP1-aL0",
        "outputId": "aef284a4-453b-4762-d1f2-3cd352b85716"
      },
      "source": [
        "#N,X,T = 20, 12, 6\r\n",
        "#N,X,T = 1000, 1, 1000\r\n",
        "N,X,T = map(int,input().split())\r\n",
        "a = N//X\r\n",
        "b = 1 if N%X > 0 else 0\r\n",
        "c = (a+b) * T\r\n",
        "print(c)"
      ],
      "execution_count": 7,
      "outputs": [
        {
          "output_type": "stream",
          "text": [
            "1000000\n"
          ],
          "name": "stdout"
        }
      ]
    },
    {
      "cell_type": "markdown",
      "metadata": {
        "id": "Mtk4U-W5AK9k"
      },
      "source": [
        "# [B - Multiple of 9](https://atcoder.jp/contests/abc176/tasks/abc176_b)"
      ]
    },
    {
      "cell_type": "code",
      "metadata": {
        "colab": {
          "base_uri": "https://localhost:8080/"
        },
        "id": "nCXmwHWK_iyl",
        "outputId": "7be26162-2b55-4618-fb4f-dbd7c217712a"
      },
      "source": [
        "#N = 31415926535897932384626433832795028841971693993751058209749445923078164062862089986280\r\n",
        "N = int(input())\r\n",
        "res = 'Yes' if N % 9==0 else 'No'\r\n",
        "print(res)"
      ],
      "execution_count": 11,
      "outputs": [
        {
          "output_type": "stream",
          "text": [
            "No\n"
          ],
          "name": "stdout"
        }
      ]
    },
    {
      "cell_type": "markdown",
      "metadata": {
        "id": "-yZeBYKLAyWd"
      },
      "source": [
        "# [C - Step](https://atcoder.jp/contests/abc176/tasks/abc176_c)\r\n",
        "\r\n",
        "問題文\r\n",
        "N\r\n",
        " 人が \r\n",
        "1\r\n",
        " 列に並んでおり、前から \r\n",
        "i\r\n",
        " 番目の人の身長は \r\n",
        "A\r\n",
        "i\r\n",
        " です。\r\n",
        "\r\n",
        "それぞれの人の足元に、高さが \r\n",
        "0\r\n",
        " 以上の踏み台を設置し、全ての人が次の条件を満たすようにしたいです。\r\n",
        "\r\n",
        "条件：踏み台を込めて身長を比較したとき、自分より前に、自分より背の高い人が存在しない\r\n",
        "\r\n",
        "この条件を満たす時の、踏み台の高さの合計の最小値を求めてください。"
      ]
    },
    {
      "cell_type": "code",
      "metadata": {
        "colab": {
          "base_uri": "https://localhost:8080/"
        },
        "id": "bR_mr8h-_uj7",
        "outputId": "732e5c3e-01e2-4f9e-ba70-240f7ce25907"
      },
      "source": [
        "N = 5\r\n",
        "a = '3 3 3 3 3'\r\n",
        "A = list(map(int,a.split()))\r\n",
        "A"
      ],
      "execution_count": 29,
      "outputs": [
        {
          "output_type": "execute_result",
          "data": {
            "text/plain": [
              "[3, 3, 3, 3, 3]"
            ]
          },
          "metadata": {
            "tags": []
          },
          "execution_count": 29
        }
      ]
    },
    {
      "cell_type": "code",
      "metadata": {
        "colab": {
          "base_uri": "https://localhost:8080/"
        },
        "id": "Lya57Tk3BNPT",
        "outputId": "d67ef456-70a0-4f10-8b4b-c55cc2c24d14"
      },
      "source": [
        "N = int(input())\r\n",
        "A = list(map(int,input().split()))\r\n",
        "x = 0\r\n",
        "lis = []\r\n",
        "for i in A:\r\n",
        "  #print(x,i,x-i)\r\n",
        "  if i >= x :\r\n",
        "    lis.append(0)\r\n",
        "    x = i\r\n",
        "  else:\r\n",
        "    lis.append(x - i)\r\n",
        "    #x = i\r\n",
        "print(sum(lis))"
      ],
      "execution_count": 30,
      "outputs": [
        {
          "output_type": "stream",
          "text": [
            "0 3 -3\n",
            "3 3 0\n",
            "3 3 0\n",
            "3 3 0\n",
            "3 3 0\n",
            "0\n"
          ],
          "name": "stdout"
        }
      ]
    },
    {
      "cell_type": "markdown",
      "metadata": {
        "id": "4oEous9FEhvd"
      },
      "source": [
        "# [D - Wizard in Maze](https://atcoder.jp/contests/abc176/tasks/abc176_d)\r\n",
        "\r\n",
        "問題文\r\n",
        "縦 \r\n",
        "H\r\n",
        " マス、横 \r\n",
        "W\r\n",
        " マスの \r\n",
        "H\r\n",
        "×\r\n",
        "W\r\n",
        " マスからなる迷路があります。\r\n",
        "\r\n",
        "上から \r\n",
        "i\r\n",
        " 行目、左から \r\n",
        "j\r\n",
        " 列目のマス \r\n",
        "(\r\n",
        "i\r\n",
        ",\r\n",
        "j\r\n",
        ")\r\n",
        " は、\r\n",
        "S\r\n",
        "i\r\n",
        "j\r\n",
        " が # のとき壁であり、.のとき道です。\r\n",
        "\r\n",
        "マス \r\n",
        "(\r\n",
        "C\r\n",
        "h\r\n",
        ",\r\n",
        "C\r\n",
        "w\r\n",
        ")\r\n",
        " に魔法使いがいます。魔法使いは次の \r\n",
        "2\r\n",
        " 種類の方法で移動することができます。\r\n",
        "\r\n",
        "移動A：現在いるマスと上下左右に隣接する道のマスへ歩いて移動する。\r\n",
        "移動B：現在いるマスを中心とする \r\n",
        "5\r\n",
        "×\r\n",
        "5\r\n",
        " の範囲内にある道のマスへワープ魔法で移動する。\r\n",
        "どちらの行動でも、迷路の外へ移動することはできません。\r\n",
        "\r\n",
        "マス \r\n",
        "(\r\n",
        "D\r\n",
        "h\r\n",
        ",\r\n",
        "D\r\n",
        "w\r\n",
        ")\r\n",
        " まで移動するには、ワープ魔法を最低で何度使う必要があるでしょうか。\r\n",
        " "
      ]
    }
  ]
}