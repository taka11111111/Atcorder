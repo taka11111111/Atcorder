{
  "nbformat": 4,
  "nbformat_minor": 0,
  "metadata": {
    "colab": {
      "name": "AtCoder Beginner Contest 187",
      "provenance": [],
      "collapsed_sections": []
    },
    "kernelspec": {
      "name": "python3",
      "display_name": "Python 3"
    }
  },
  "cells": [
    {
      "cell_type": "markdown",
      "metadata": {
        "id": "pi6eyyEW3RDI"
      },
      "source": [
        "#[A - Large Digits](https://atcoder.jp/contests/abc187/tasks/abc187_a)"
      ]
    },
    {
      "cell_type": "code",
      "metadata": {
        "colab": {
          "base_uri": "https://localhost:8080/"
        },
        "id": "fyGU8gEQ3hLA",
        "outputId": "08fa1ee0-0da4-4275-9aa2-0b4ac71e2855"
      },
      "source": [
        "#inp = '123 234'\r\n",
        "#inp = '593 953'\r\n",
        "#inp = '100 999'\r\n",
        "inp = input()\r\n",
        "A,B = map(int,inp.split())\r\n",
        "\r\n",
        "a = sum([int(i) for i in str(A)])\r\n",
        "b = sum([int(i) for i in str(B)])\r\n",
        "\r\n",
        "res = a if a >= b else b\r\n",
        "print(res)"
      ],
      "execution_count": 2,
      "outputs": [
        {
          "output_type": "stream",
          "text": [
            "27\n"
          ],
          "name": "stdout"
        }
      ]
    },
    {
      "cell_type": "markdown",
      "metadata": {
        "id": "EY3Z9s5vAaw_"
      },
      "source": [
        "#[B - Gentle Pairs](https://atcoder.jp/contests/abc187/tasks/abc187_b)"
      ]
    },
    {
      "cell_type": "code",
      "metadata": {
        "colab": {
          "base_uri": "https://localhost:8080/"
        },
        "id": "Kwn0MZHQ5zep",
        "outputId": "d1c2d601-6b0a-4f28-d7ea-8deb9873f9ea"
      },
      "source": [
        "import itertools\r\n",
        "N = int(input())\r\n",
        "x = [ list(map(int,input().split())) for i in range(N)]\r\n",
        "print(x)\r\n",
        "\r\n",
        "c = itertools.combinations(x, 2)\r\n",
        "print(c)\r\n",
        "\r\n",
        "cnt = 0\r\n",
        "for v in itertools.combinations(x, 2):\r\n",
        "  print(v)\r\n",
        "  y = (v[0][1] - v[1][1]) / (v[0][0] - v[1][0])\r\n",
        "  if -1 <= y and y <= 1 :\r\n",
        "    cnt += 1\r\n",
        "print(cnt)"
      ],
      "execution_count": null,
      "outputs": [
        {
          "output_type": "stream",
          "text": [
            "3\n",
            "0 0 \n",
            "1 2\n",
            "2 1\n",
            "[[0, 0], [1, 2], [2, 1]]\n",
            "<itertools.combinations object at 0x7f5040e0cd18>\n",
            "([0, 0], [1, 2])\n",
            "([0, 0], [2, 1])\n",
            "([1, 2], [2, 1])\n",
            "2\n"
          ],
          "name": "stdout"
        }
      ]
    },
    {
      "cell_type": "markdown",
      "metadata": {
        "id": "k-l64QaW5z_Q"
      },
      "source": [
        "いい感じ。整形して提出"
      ]
    },
    {
      "cell_type": "markdown",
      "metadata": {
        "id": "tLIERJniAj63"
      },
      "source": [
        "#[C - 1-SAT](https://atcoder.jp/contests/abc187/tasks/abc187_c)\r\n"
      ]
    },
    {
      "cell_type": "markdown",
      "metadata": {
        "id": "KkNpO7n8FXR_"
      },
      "source": [
        "```6\r\n",
        "a\r\n",
        "!a\r\n",
        "b\r\n",
        "!c\r\n",
        "d\r\n",
        "!d\r\n"
      ]
    },
    {
      "cell_type": "code",
      "metadata": {
        "colab": {
          "base_uri": "https://localhost:8080/"
        },
        "id": "1-l4DSYkAxjG",
        "outputId": "1b41d384-b4d0-40e6-b5ac-b69de1357808"
      },
      "source": [
        "N = int(input())\r\n",
        "S = [input() for i in range(N)]"
      ],
      "execution_count": null,
      "outputs": [
        {
          "output_type": "stream",
          "text": [
            "a\n",
            "!a\n",
            "b\n",
            "!c\n",
            "d\n",
            "!d\n"
          ],
          "name": "stdout"
        }
      ]
    },
    {
      "cell_type": "code",
      "metadata": {
        "colab": {
          "base_uri": "https://localhost:8080/"
        },
        "id": "2MtIl_5nELiW",
        "outputId": "acbac381-c66d-45d2-b162-2a65b08ebee5"
      },
      "source": [
        "x = 0\r\n",
        "for i in S:\r\n",
        "  s = \"!\" + i\r\n",
        "  if s in S : x = i\r\n",
        "if x==0 : x = \"satisfiable\" \r\n",
        "print(x)\r\n",
        "    "
      ],
      "execution_count": null,
      "outputs": [
        {
          "output_type": "stream",
          "text": [
            "d\n"
          ],
          "name": "stdout"
        }
      ]
    },
    {
      "cell_type": "markdown",
      "metadata": {
        "id": "U2Hk2-XyIjdw"
      },
      "source": [
        "こんなもんかな？"
      ]
    },
    {
      "cell_type": "code",
      "metadata": {
        "id": "MDINxvGOGyfZ"
      },
      "source": [
        "N = int(input())\r\n",
        "S = [input() for i in range(N)]\r\n",
        "x = 0\r\n",
        "for i in S:\r\n",
        "  s = \"!\" + i\r\n",
        "  if s in S : x = i\r\n",
        "if x==0 : x = \"satisfiable\" \r\n",
        "print(x)"
      ],
      "execution_count": null,
      "outputs": []
    },
    {
      "cell_type": "markdown",
      "metadata": {
        "id": "-5tSWBsnNQqf"
      },
      "source": [
        ""
      ]
    },
    {
      "cell_type": "markdown",
      "metadata": {
        "id": "rSBdwAMCIm0G"
      },
      "source": [
        "```\r\n",
        "AC× 17\r\n",
        "TLE× 13\r\n",
        "```\r\n",
        "どうやったら早くできる？"
      ]
    },
    {
      "cell_type": "code",
      "metadata": {
        "colab": {
          "base_uri": "https://localhost:8080/"
        },
        "id": "0riHONaqJ3qI",
        "outputId": "61d815d8-2a48-4ddb-9741-397000253282"
      },
      "source": [
        "Si = ['!'+i for i in S if i[0] != \"!\"]\r\n",
        "print(Si)"
      ],
      "execution_count": null,
      "outputs": [
        {
          "output_type": "stream",
          "text": [
            "['!a', '!b', '!d']\n"
          ],
          "name": "stdout"
        }
      ]
    },
    {
      "cell_type": "code",
      "metadata": {
        "colab": {
          "base_uri": "https://localhost:8080/"
        },
        "id": "B1qrATjvI9DC",
        "outputId": "a2716b98-da83-4f0a-9a01-0526f14ca059"
      },
      "source": [
        "x = 0\r\n",
        "for i in Si:\r\n",
        "  if i in S : \r\n",
        "    x = i\r\n",
        "    break\r\n",
        "if x==0 : x = \"satisfiable\" \r\n",
        "print(x[1:])"
      ],
      "execution_count": null,
      "outputs": [
        {
          "output_type": "stream",
          "text": [
            "a\n"
          ],
          "name": "stdout"
        }
      ]
    },
    {
      "cell_type": "markdown",
      "metadata": {
        "id": "NGAJRUdsLBOB"
      },
      "source": [
        "これでちょっとは早くなったかな"
      ]
    },
    {
      "cell_type": "code",
      "metadata": {
        "id": "W29CRNxuKlZ2"
      },
      "source": [
        "N = int(input())\r\n",
        "S = [input() for i in range(N)]\r\n",
        "Si = ['!'+i for i in S if i[0] != \"!\"]\r\n",
        "x = 0\r\n",
        "for i in Si:\r\n",
        "  if i in S : \r\n",
        "    x = i\r\n",
        "    break\r\n",
        "if x==0 : x = \"!satisfiable\" \r\n",
        "print(x[1:])"
      ],
      "execution_count": null,
      "outputs": []
    },
    {
      "cell_type": "markdown",
      "metadata": {
        "id": "Yj0KSp7HNRy-"
      },
      "source": [
        "```\r\n",
        "フル: 2206 ms\t23200 KB\r\n",
        "1:　　2206 ms\t30372 KB\r\n",
        "2:　　2206 ms\t23296 KB\r\n",
        "```\r\n",
        "\r\n",
        "変わらない？"
      ]
    },
    {
      "cell_type": "code",
      "metadata": {
        "colab": {
          "base_uri": "https://localhost:8080/"
        },
        "id": "2P44mkwGN2kG",
        "outputId": "673037d2-420f-42da-e5f3-9667dc963436"
      },
      "source": [
        "N = int(input())\r\n",
        "S = [input() for i in range(N)]\r\n",
        "Si = ['!'+i for i in S if i[0] != \"!\"]\r\n",
        "l = set(S) & set(Si)\r\n",
        "res = \"satisfiable\" if len(l) ==0 else Si[0][1:]\r\n",
        "print(res)\r\n"
      ],
      "execution_count": null,
      "outputs": [
        {
          "output_type": "stream",
          "text": [
            "a\n"
          ],
          "name": "stdout"
        }
      ]
    },
    {
      "cell_type": "markdown",
      "metadata": {
        "id": "JdvNvEk6RY1G"
      },
      "source": [
        "ぜんぜんダメ。\r\n",
        "分けたらどうだろう"
      ]
    },
    {
      "cell_type": "code",
      "metadata": {
        "colab": {
          "base_uri": "https://localhost:8080/"
        },
        "id": "6Qy3Ro5UQz78",
        "outputId": "d0d38e42-0263-4252-a578-c4639894bdb9"
      },
      "source": [
        "N = int(input())\r\n",
        "S = [input() for i in range(N)]\r\n",
        "a =  [i for i in S if i[0] == \"!\"]\r\n",
        "b =  ['!'+i for i in S if i[0] != \"!\"]\r\n",
        "c = list(set(a) & set(b))\r\n",
        "res = \"satisfiable\" if len(c)==0 else c[0][1:]\r\n",
        "print(res)"
      ],
      "execution_count": null,
      "outputs": [
        {
          "output_type": "stream",
          "text": [
            "a\n"
          ],
          "name": "stdout"
        }
      ]
    },
    {
      "cell_type": "markdown",
      "metadata": {
        "id": "rV24wcFpqSwG"
      },
      "source": [
        "とおった！！！"
      ]
    },
    {
      "cell_type": "code",
      "metadata": {
        "id": "6xa6y8pjqRPe"
      },
      "source": [
        ""
      ],
      "execution_count": null,
      "outputs": []
    }
  ]
}