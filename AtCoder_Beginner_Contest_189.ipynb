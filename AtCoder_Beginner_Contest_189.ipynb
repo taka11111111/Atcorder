{
  "nbformat": 4,
  "nbformat_minor": 0,
  "metadata": {
    "colab": {
      "name": "AtCoder Beginner Contest 189",
      "provenance": [],
      "authorship_tag": "ABX9TyMkXXUraCHTdK1xtNHF+KxY",
      "include_colab_link": true
    },
    "kernelspec": {
      "name": "python3",
      "display_name": "Python 3"
    }
  },
  "cells": [
    {
      "cell_type": "markdown",
      "metadata": {
        "id": "view-in-github",
        "colab_type": "text"
      },
      "source": [
        "<a href=\"https://colab.research.google.com/github/taka11111111/Atcorder/blob/main/AtCoder_Beginner_Contest_189.ipynb\" target=\"_parent\"><img src=\"https://colab.research.google.com/assets/colab-badge.svg\" alt=\"Open In Colab\"/></a>"
      ]
    },
    {
      "cell_type": "markdown",
      "metadata": {
        "id": "V_O6upXsP6pi"
      },
      "source": [
        "#[A - Slot](https://atcoder.jp/contests/abc189/tasks/abc189_a)"
      ]
    },
    {
      "cell_type": "code",
      "metadata": {
        "id": "AUn3jC9MPZ3s"
      },
      "source": [
        "SSS\n"
      ],
      "execution_count": null,
      "outputs": []
    },
    {
      "cell_type": "code",
      "metadata": {
        "colab": {
          "base_uri": "https://localhost:8080/"
        },
        "id": "uFaSJFbaPfD8",
        "outputId": "eafd42a5-d496-45ad-98c0-3488b2eaec10"
      },
      "source": [
        "A = input()\n",
        "res = 'Won' if A[0]==A[1] and A[1]==A[2] else 'Lost'\n",
        "print(res)\n"
      ],
      "execution_count": 2,
      "outputs": [
        {
          "output_type": "stream",
          "text": [
            "WVW\n",
            "Lost\n"
          ],
          "name": "stdout"
        }
      ]
    },
    {
      "cell_type": "markdown",
      "metadata": {
        "id": "1oeO0bI9QK1k"
      },
      "source": [
        "#[B - Alcoholic](https://atcoder.jp/contests/abc189/tasks/abc189_b)\n",
        "\n",
        "問題文\n",
        "高橋君はお酒を \n",
        "N\n",
        " 杯飲みました。\n",
        "\n",
        "i\n",
        " 番目に飲んだお酒は、量が \n",
        "V\n",
        "i\n",
        " ml、アルコール度数が \n",
        "P\n",
        "i\n",
        " % です。\n",
        "\n",
        "高橋君はアルコールの摂取量が \n",
        "X\n",
        " ml を超えると酔っ払います。\n",
        "\n",
        "高橋君が酔っ払ったのは何杯目のお酒を飲んでいるときですか。ただし、\n",
        "N\n",
        " 杯全てのお酒を飲んだあとでも酔っ払っていない場合は、かわりに -1 を出力してください。\n",
        "\n",
        "制約\n",
        "入力は全て整数\n",
        "* 1\n",
        "≤\n",
        "N\n",
        "≤\n",
        "10\n",
        "3\n",
        "* 0\n",
        "≤\n",
        "X\n",
        "≤\n",
        "10\n",
        "6\n",
        "* 1\n",
        "≤\n",
        "V\n",
        "i\n",
        "≤\n",
        "10\n",
        "3\n",
        "* 0\n",
        "≤\n",
        "P\n",
        "i\n",
        "≤\n",
        "100"
      ]
    },
    {
      "cell_type": "code",
      "metadata": {
        "id": "PnJcZWFEQLIZ"
      },
      "source": [
        "2 15\n",
        "200 5\n",
        "350 3"
      ],
      "execution_count": null,
      "outputs": []
    },
    {
      "cell_type": "code",
      "metadata": {
        "colab": {
          "base_uri": "https://localhost:8080/"
        },
        "id": "qCZSSyOrQkt7",
        "outputId": "df9f5c83-64d9-4d5e-a4cb-a7f7a84e8517"
      },
      "source": [
        "N,X = 2,15\n",
        "V,P = 200, 5\n",
        "A = V * 0.01 * P\n",
        "X -= A\n",
        "if X < 0:\n",
        "  break"
      ],
      "execution_count": 6,
      "outputs": [
        {
          "output_type": "execute_result",
          "data": {
            "text/plain": [
              "5.0"
            ]
          },
          "metadata": {
            "tags": []
          },
          "execution_count": 6
        }
      ]
    },
    {
      "cell_type": "code",
      "metadata": {
        "colab": {
          "base_uri": "https://localhost:8080/"
        },
        "id": "ksV3Nci9QLzd",
        "outputId": "4648e3e3-4d77-4700-c110-834c96b27784"
      },
      "source": [
        "N,X = map(int,input().split())\n",
        "for i in range(N):\n",
        "  V,P =map(int,input().split())\n",
        "  #print(V,P)\n",
        "  #print(i+1)\n",
        "  A = V * 0.01 * P\n",
        "  X -= A\n",
        "  if X < 0:\n",
        "    print(i+1)\n",
        "    break\n",
        "if X > 0:\n",
        "  print(-1)\n",
        "\n",
        "#AC× 18\n",
        "#WA× 10"
      ],
      "execution_count": 10,
      "outputs": [
        {
          "output_type": "stream",
          "text": [
            "2 15\n",
            "200 5\n",
            "350 3\n",
            "2\n"
          ],
          "name": "stdout"
        }
      ]
    },
    {
      "cell_type": "markdown",
      "metadata": {
        "id": "CfGFfTS4fFNo"
      },
      "source": [
        "a が０のときだけ記録する。ちょっとよくなった。"
      ]
    },
    {
      "cell_type": "code",
      "metadata": {
        "id": "8JHEpgReTefz"
      },
      "source": [
        "N,X = map(int,input().split())\n",
        "a = 0\n",
        "for i in range(1,N+1):\n",
        "  V,P =map(int,input().split())\n",
        "  A = V * 0.01 * P\n",
        "  X -= A\n",
        "  if X < 0:\n",
        "    a = i\n",
        "res = -1 if a==0 else a\n",
        "print(res)\n",
        "\n",
        "#AC× 20\n",
        "#WA× 8"
      ],
      "execution_count": null,
      "outputs": []
    },
    {
      "cell_type": "markdown",
      "metadata": {
        "id": "DAk3-Tqde7l9"
      },
      "source": [
        "いい感じ！だけどエラーがある。"
      ]
    },
    {
      "cell_type": "code",
      "metadata": {
        "id": "mLR6BJSggRNG"
      },
      "source": [
        "4 10\n",
        "200 5\n",
        "350 3\n",
        "200 5\n",
        "350 3"
      ],
      "execution_count": null,
      "outputs": []
    },
    {
      "cell_type": "code",
      "metadata": {
        "colab": {
          "base_uri": "https://localhost:8080/"
        },
        "id": "PF-LOnasgMui",
        "outputId": "af6a9a40-07de-4a00-f5da-653cae8f2f88"
      },
      "source": [
        "N,X = map(int,input().split())\n",
        "a = 0\n",
        "for i in range(1,N+1):\n",
        "  V,P =map(int,input().split())\n",
        "  A = V * 0.01 * P\n",
        "  X -= A\n",
        "  #print(i,a,A,X)\n",
        "  if X < 0 and a == 0:\n",
        "    a = i\n",
        "res = -1 if a==0 else a\n",
        "print(res)"
      ],
      "execution_count": 11,
      "outputs": [
        {
          "output_type": "stream",
          "text": [
            "4 10\n",
            "200 5\n",
            "1 0 10.0 0.0\n",
            "350 3\n",
            "2 0 10.5 -10.5\n",
            "200 5\n",
            "3 2 10.0 -20.5\n",
            "350 3\n",
            "4 2 10.5 -31.0\n",
            "2\n"
          ],
          "name": "stdout"
        }
      ]
    },
    {
      "cell_type": "markdown",
      "metadata": {
        "id": "I19QR3RbgeA-"
      },
      "source": [
        "こんなもんかな\n",
        "\n",
        "```\n",
        "AC×  22\n",
        "WA× 6\n",
        "```\n",
        "\n",
        "だめかーーー"
      ]
    },
    {
      "cell_type": "markdown",
      "metadata": {
        "id": "2X4bAd7GYVgw"
      },
      "source": [
        "#[C - Mandarin Orange](https://atcoder.jp/contests/abc189/tasks/abc189_c)"
      ]
    }
  ]
}