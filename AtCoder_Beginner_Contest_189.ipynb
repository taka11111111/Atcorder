{
  "nbformat": 4,
  "nbformat_minor": 0,
  "metadata": {
    "colab": {
      "name": "AtCoder Beginner Contest 189",
      "provenance": [],
      "collapsed_sections": [],
      "toc_visible": true,
      "authorship_tag": "ABX9TyM+Sevv4bURHp16HKhjr4ZH",
      "include_colab_link": true
    },
    "kernelspec": {
      "name": "python3",
      "display_name": "Python 3"
    }
  },
  "cells": [
    {
      "cell_type": "markdown",
      "metadata": {
        "id": "view-in-github",
        "colab_type": "text"
      },
      "source": [
        "<a href=\"https://colab.research.google.com/github/taka11111111/Atcorder/blob/main/AtCoder_Beginner_Contest_189.ipynb\" target=\"_parent\"><img src=\"https://colab.research.google.com/assets/colab-badge.svg\" alt=\"Open In Colab\"/></a>"
      ]
    },
    {
      "cell_type": "markdown",
      "metadata": {
        "id": "V_O6upXsP6pi"
      },
      "source": [
        "#[A - Slot](https://atcoder.jp/contests/abc189/tasks/abc189_a)"
      ]
    },
    {
      "cell_type": "code",
      "metadata": {
        "id": "AUn3jC9MPZ3s"
      },
      "source": [
        "SSS\n"
      ],
      "execution_count": null,
      "outputs": []
    },
    {
      "cell_type": "code",
      "metadata": {
        "colab": {
          "base_uri": "https://localhost:8080/"
        },
        "id": "uFaSJFbaPfD8",
        "outputId": "eafd42a5-d496-45ad-98c0-3488b2eaec10"
      },
      "source": [
        "A = input()\n",
        "res = 'Won' if A[0]==A[1] and A[1]==A[2] else 'Lost'\n",
        "print(res)\n"
      ],
      "execution_count": null,
      "outputs": [
        {
          "output_type": "stream",
          "text": [
            "WVW\n",
            "Lost\n"
          ],
          "name": "stdout"
        }
      ]
    },
    {
      "cell_type": "markdown",
      "metadata": {
        "id": "1oeO0bI9QK1k"
      },
      "source": [
        "#[B - Alcoholic](https://atcoder.jp/contests/abc189/tasks/abc189_b)\n",
        "\n",
        "問題文\n",
        "高橋君はお酒を \n",
        "N\n",
        " 杯飲みました。\n",
        "\n",
        "i\n",
        " 番目に飲んだお酒は、量が \n",
        "V\n",
        "i\n",
        " ml、アルコール度数が \n",
        "P\n",
        "i\n",
        " % です。\n",
        "\n",
        "高橋君はアルコールの摂取量が \n",
        "X\n",
        " ml を超えると酔っ払います。\n",
        "\n",
        "高橋君が酔っ払ったのは何杯目のお酒を飲んでいるときですか。ただし、\n",
        "N\n",
        " 杯全てのお酒を飲んだあとでも酔っ払っていない場合は、かわりに -1 を出力してください。\n",
        "\n",
        "制約\n",
        "入力は全て整数\n",
        "* 1\n",
        "≤\n",
        "N\n",
        "≤\n",
        "10\n",
        "3\n",
        "* 0\n",
        "≤\n",
        "X\n",
        "≤\n",
        "10\n",
        "6\n",
        "* 1\n",
        "≤\n",
        "V\n",
        "i\n",
        "≤\n",
        "10\n",
        "3\n",
        "* 0\n",
        "≤\n",
        "P\n",
        "i\n",
        "≤\n",
        "100"
      ]
    },
    {
      "cell_type": "code",
      "metadata": {
        "id": "PnJcZWFEQLIZ"
      },
      "source": [
        "2 15\n",
        "200 5\n",
        "350 3"
      ],
      "execution_count": null,
      "outputs": []
    },
    {
      "cell_type": "code",
      "metadata": {
        "colab": {
          "base_uri": "https://localhost:8080/"
        },
        "id": "qCZSSyOrQkt7",
        "outputId": "df9f5c83-64d9-4d5e-a4cb-a7f7a84e8517"
      },
      "source": [
        "N,X = 2,15\n",
        "V,P = 200, 5\n",
        "A = V * 0.01 * P\n",
        "X -= A\n",
        "if X < 0:\n",
        "  break"
      ],
      "execution_count": null,
      "outputs": [
        {
          "output_type": "execute_result",
          "data": {
            "text/plain": [
              "5.0"
            ]
          },
          "metadata": {
            "tags": []
          },
          "execution_count": 6
        }
      ]
    },
    {
      "cell_type": "code",
      "metadata": {
        "colab": {
          "base_uri": "https://localhost:8080/"
        },
        "id": "ksV3Nci9QLzd",
        "outputId": "4648e3e3-4d77-4700-c110-834c96b27784"
      },
      "source": [
        "N,X = map(int,input().split())\n",
        "for i in range(N):\n",
        "  V,P =map(int,input().split())\n",
        "  #print(V,P)\n",
        "  #print(i+1)\n",
        "  A = V * 0.01 * P\n",
        "  X -= A\n",
        "  if X < 0:\n",
        "    print(i+1)\n",
        "    break\n",
        "if X > 0:\n",
        "  print(-1)\n",
        "\n",
        "#AC× 18\n",
        "#WA× 10"
      ],
      "execution_count": null,
      "outputs": [
        {
          "output_type": "stream",
          "text": [
            "2 15\n",
            "200 5\n",
            "350 3\n",
            "2\n"
          ],
          "name": "stdout"
        }
      ]
    },
    {
      "cell_type": "markdown",
      "metadata": {
        "id": "CfGFfTS4fFNo"
      },
      "source": [
        "a が０のときだけ記録する。ちょっとよくなった。"
      ]
    },
    {
      "cell_type": "code",
      "metadata": {
        "id": "8JHEpgReTefz"
      },
      "source": [
        "N,X = map(int,input().split())\n",
        "a = 0\n",
        "for i in range(1,N+1):\n",
        "  V,P =map(int,input().split())\n",
        "  A = V * 0.01 * P\n",
        "  X -= A\n",
        "  if X < 0:\n",
        "    a = i\n",
        "res = -1 if a==0 else a\n",
        "print(res)\n",
        "\n",
        "#AC× 20\n",
        "#WA× 8"
      ],
      "execution_count": null,
      "outputs": []
    },
    {
      "cell_type": "markdown",
      "metadata": {
        "id": "DAk3-Tqde7l9"
      },
      "source": [
        "いい感じ！だけどエラーがある。"
      ]
    },
    {
      "cell_type": "code",
      "metadata": {
        "id": "mLR6BJSggRNG"
      },
      "source": [
        "4 10\n",
        "200 5\n",
        "350 3\n",
        "200 5\n",
        "350 3"
      ],
      "execution_count": null,
      "outputs": []
    },
    {
      "cell_type": "code",
      "metadata": {
        "colab": {
          "base_uri": "https://localhost:8080/"
        },
        "id": "PF-LOnasgMui",
        "outputId": "af6a9a40-07de-4a00-f5da-653cae8f2f88"
      },
      "source": [
        "N,X = map(int,input().split())\n",
        "a = 0\n",
        "for i in range(1,N+1):\n",
        "  V,P =map(int,input().split())\n",
        "  A = V * 0.01 * P\n",
        "  X -= A\n",
        "  #print(i,a,A,X)\n",
        "  if X < 0 and a == 0:\n",
        "    a = i\n",
        "res = -1 if a==0 else a\n",
        "print(res)"
      ],
      "execution_count": null,
      "outputs": [
        {
          "output_type": "stream",
          "text": [
            "4 10\n",
            "200 5\n",
            "1 0 10.0 0.0\n",
            "350 3\n",
            "2 0 10.5 -10.5\n",
            "200 5\n",
            "3 2 10.0 -20.5\n",
            "350 3\n",
            "4 2 10.5 -31.0\n",
            "2\n"
          ],
          "name": "stdout"
        }
      ]
    },
    {
      "cell_type": "markdown",
      "metadata": {
        "id": "I19QR3RbgeA-"
      },
      "source": [
        "こんなもんかな\n",
        "\n",
        "```\n",
        "AC×  22\n",
        "WA× 6\n",
        "```\n",
        "\n",
        "だめかーーー\n",
        "なにがひっかかったんだろう。\n",
        "\n",
        "###ギブアップ\n",
        "答え"
      ]
    },
    {
      "cell_type": "code",
      "metadata": {
        "colab": {
          "base_uri": "https://localhost:8080/"
        },
        "id": "vhL3jcVTkIYd",
        "outputId": "510aa0a3-a4e3-46f9-ed8e-939fea511c81"
      },
      "source": [
        "N,X = map(int,input().split())\n",
        "s = 0\n",
        "for i in range(N):\n",
        "  v,p = map(int,input().split())\n",
        "  s += v*p\n",
        "  if s > X*100:\n",
        "    print(i+1)\n",
        "    exit()\n",
        "print(-1)"
      ],
      "execution_count": null,
      "outputs": [
        {
          "output_type": "stream",
          "text": [
            "2 15\n",
            "200 5\n",
            "350 3\n",
            "2\n",
            "-1\n"
          ],
          "name": "stdout"
        }
      ]
    },
    {
      "cell_type": "code",
      "metadata": {
        "id": "kyy9lji2ntc5"
      },
      "source": [
        "N,X = map(int,input().split())\n",
        "s = 0\n",
        "for i in range(N):\n",
        "  v,p = map(int,input().split())\n",
        "  s += v*p*0.01\n",
        "  if s > X:\n",
        "    print(i+1)\n",
        "    exit()\n",
        "print(-1)"
      ],
      "execution_count": null,
      "outputs": []
    },
    {
      "cell_type": "markdown",
      "metadata": {
        "id": "GX7tgKPinxHo"
      },
      "source": [
        "こっちはエラーがでる。\n",
        "\n",
        "```\n",
        "AC×  21\n",
        "WA× 7\n",
        "```\n",
        "\n",
        "等価なはずなのに何で？？？\n"
      ]
    },
    {
      "cell_type": "markdown",
      "metadata": {
        "id": "2X4bAd7GYVgw"
      },
      "source": [
        "#[C - Mandarin Orange](https://atcoder.jp/contests/abc189/tasks/abc189_c)\n",
        "\n",
        "問題文\n",
        "高橋君の前に \n",
        "N\n",
        " 枚の皿が一列に並べられており、左から \n",
        "i\n",
        " 番目の皿には \n",
        "A\n",
        "i\n",
        " 個のみかんが置かれています。\n",
        "\n",
        "高橋君は次の \n",
        "3\n",
        " つの条件を全て満たすような整数の組 \n",
        "(\n",
        "l\n",
        ",\n",
        "r\n",
        ",\n",
        "x\n",
        ")\n",
        " を \n",
        "1\n",
        " つ選びます。\n",
        "\n",
        "* 1\n",
        "≤\n",
        "l\n",
        "≤\n",
        "r\n",
        "≤\n",
        "N\n",
        "* 1\n",
        "≤\n",
        "x\n",
        "* l\n",
        " 以上 \n",
        "r\n",
        " 以下の全ての整数 \n",
        "i\n",
        " について、\n",
        "x\n",
        "≤\n",
        "A\n",
        "i\n",
        "\n",
        "その後、高橋君は \n",
        "l\n",
        " 番目から \n",
        "r\n",
        " 番目まで (両端を含む) の全ての皿からみかんを \n",
        "x\n",
        " 個ずつ取って食べます。\n",
        "\n",
        "整数の組 \n",
        "(\n",
        "l\n",
        ",\n",
        "r\n",
        ",\n",
        "x\n",
        ")\n",
        " を適切に選んだとき、高橋君は最大で何個のみかんを食べることができますか。\n",
        "\n",
        "制約\n",
        "入力は全て整数\n",
        "* 1\n",
        "≤\n",
        "N\n",
        "≤\n",
        "10\n",
        "4\n",
        "* 1\n",
        "≤\n",
        "A\n",
        "i\n",
        "≤\n",
        "10\n",
        "5"
      ]
    },
    {
      "cell_type": "markdown",
      "metadata": {
        "id": "j4lbf4u1jzXg"
      },
      "source": [
        "意味がわからない。まずやってみよう。\n",
        "\n",
        "入力例１"
      ]
    },
    {
      "cell_type": "code",
      "metadata": {
        "id": "gvNuk-aNi_XL"
      },
      "source": [
        "6\n",
        "2 4 4 9 4 9"
      ],
      "execution_count": null,
      "outputs": []
    },
    {
      "cell_type": "markdown",
      "metadata": {
        "id": "leGaYmsvj7ow"
      },
      "source": [
        ">(\n",
        "l\n",
        ",\n",
        "r\n",
        ",\n",
        "x\n",
        ")\n",
        "=\n",
        "(\n",
        "2\n",
        ",\n",
        "6\n",
        ",\n",
        "4\n",
        ")\n",
        " としたとき、\n",
        "20\n",
        " 個のみかんを食べることができます。"
      ]
    },
    {
      "cell_type": "code",
      "metadata": {
        "colab": {
          "base_uri": "https://localhost:8080/"
        },
        "id": "kGtL18hZiyfY",
        "outputId": "647ffaef-c76e-4189-f218-7bd9c1f1a89f"
      },
      "source": [
        "N = int(input())\n",
        "A = list(map(int,input().split()))"
      ],
      "execution_count": null,
      "outputs": [
        {
          "output_type": "stream",
          "text": [
            "6\n",
            "2 4 4 9 4 9\n"
          ],
          "name": "stdout"
        }
      ]
    },
    {
      "cell_type": "code",
      "metadata": {
        "colab": {
          "base_uri": "https://localhost:8080/"
        },
        "id": "CAfhSB-8i-Yf",
        "outputId": "39670309-34d7-4835-957f-4cd83b7a673d"
      },
      "source": [
        "sum(A)\n",
        "sum(A[0:])"
      ],
      "execution_count": null,
      "outputs": [
        {
          "output_type": "execute_result",
          "data": {
            "text/plain": [
              "32"
            ]
          },
          "metadata": {
            "tags": []
          },
          "execution_count": 3
        }
      ]
    },
    {
      "cell_type": "markdown",
      "metadata": {
        "id": "CDVLe1m3s9Vp"
      },
      "source": [
        "全部の皿からとって食えばいいんじゃないの？だめなの？？？\n",
        "\n",
        "( l , r , x ) = ( 1 , 6 , 2 ) \n",
        "\n",
        "全部の皿から２こずつとると12個\n",
        "\n",
        "・・・\n",
        "\n",
        ">l 以上 r 以下の全ての整数 i について、 x ≤ A i\n",
        "\n",
        "問題はこれかー\n",
        "\n",
        "こんな感じ？"
      ]
    },
    {
      "cell_type": "code",
      "metadata": {
        "colab": {
          "base_uri": "https://localhost:8080/"
        },
        "id": "lhLssPkDtPlj",
        "outputId": "4bd338b2-7b68-4f19-9f73-23c1e5bd97b5"
      },
      "source": [
        "y = []\n",
        "for i,x in enumerate(A):\n",
        "  #print(x,i,sum(A[i:]))\n",
        "  #print(sum(x<=a for a in A[i:]))\n",
        "  n = sum(x<=a for a in A[i:])  #x ≤ Aiが成立する数\n",
        "  m = x*n if n == len(A[i:]) else -1\n",
        "  y.append(m)\n",
        "\n",
        "# maxとlist.indexによる実装\n",
        "max_value = max(y)\n",
        "max_index = y.index(max_value)\n",
        "print(max_index)\n",
        "print(y)\n",
        "\n",
        "l = max_index+1\n",
        "r = 6\n",
        "x = A[l]\n",
        "\n",
        "print(l,r,x,max_value)"
      ],
      "execution_count": null,
      "outputs": [
        {
          "output_type": "stream",
          "text": [
            "1\n",
            "[12, 20, 16, -1, 8, 9]\n",
            "2 6 4 20\n"
          ],
          "name": "stdout"
        }
      ]
    },
    {
      "cell_type": "markdown",
      "metadata": {
        "id": "81nwaE-WcPZn"
      },
      "source": [
        "lがきまった。rはどうする？\n",
        "\n",
        "まずは、全種類の組み合わせを出してみる。"
      ]
    },
    {
      "cell_type": "code",
      "metadata": {
        "id": "F3bwzypcupSY",
        "colab": {
          "base_uri": "https://localhost:8080/"
        },
        "outputId": "0c6e87f0-832f-41a5-b493-e743d4800abb"
      },
      "source": [
        "for i,x in enumerate(A):\n",
        "  B = A[i:]\n",
        "  #print(B)\n",
        "  for l,y in enumerate(B):\n",
        "    C = B[:len(B)-l]\n",
        "    print(C)"
      ],
      "execution_count": null,
      "outputs": [
        {
          "output_type": "stream",
          "text": [
            "[2, 4, 4, 9, 4, 9]\n",
            "[2, 4, 4, 9, 4]\n",
            "[2, 4, 4, 9]\n",
            "[2, 4, 4]\n",
            "[2, 4]\n",
            "[2]\n",
            "[4, 4, 9, 4, 9]\n",
            "[4, 4, 9, 4]\n",
            "[4, 4, 9]\n",
            "[4, 4]\n",
            "[4]\n",
            "[4, 9, 4, 9]\n",
            "[4, 9, 4]\n",
            "[4, 9]\n",
            "[4]\n",
            "[9, 4, 9]\n",
            "[9, 4]\n",
            "[9]\n",
            "[4, 9]\n",
            "[4]\n",
            "[9]\n"
          ],
          "name": "stdout"
        }
      ]
    },
    {
      "cell_type": "code",
      "metadata": {
        "colab": {
          "base_uri": "https://localhost:8080/"
        },
        "id": "B0x6GkWRZCOa",
        "outputId": "81bdda8d-dfc2-4703-fa24-eda120ce30e0"
      },
      "source": [
        "N = int(input())\n",
        "A = list(map(int,input().split()))\n",
        "\n",
        "xs = []\n",
        "for i,x in enumerate(A):\n",
        "  B = A[i:]\n",
        "  #print(B)\n",
        "  for l,y in enumerate(B):\n",
        "    C = B[:len(B)-l]\n",
        "    n = sum(C[0]<=c for c in C)  #x ≤ Aiが成立する数\n",
        "    m = C[0]*n if n == len(C) else -1\n",
        "    #print(i,l,n,m,C)\n",
        "    xs.append([i,l,m])\n",
        "\n",
        "#print(xs)\n",
        "# maxとlist.indexによる実装\n",
        "xxs = [i[2] for i in xs]\n",
        "max_value = max(xxs)\n",
        "max_index = xxs.index(max_value)\n",
        "#print(max_index)\n",
        "#print(xs[max_index])\n",
        "\n",
        "l = xs[max_index][0]+1\n",
        "r = len(A) - xs[max_index][1]\n",
        "m = xs[max_index][2]\n",
        "#x = A[l]\n",
        "#print(l,r,m)\n",
        "print(m)"
      ],
      "execution_count": null,
      "outputs": [
        {
          "output_type": "stream",
          "text": [
            "20\n"
          ],
          "name": "stdout"
        }
      ]
    },
    {
      "cell_type": "markdown",
      "metadata": {
        "id": "X137Aj6XlYV6"
      },
      "source": [
        "いちおうできた！！！\n",
        "提出\n",
        "\n",
        "AC× 3\n",
        "TLE× 30\n",
        "\n",
        "時間かかるなー"
      ]
    },
    {
      "cell_type": "code",
      "metadata": {
        "colab": {
          "base_uri": "https://localhost:8080/"
        },
        "id": "ey8uXwSHmuzB",
        "outputId": "3076870a-ce68-4bc6-fa4b-ed4115d6b326"
      },
      "source": [
        "#例２\n",
        "# 6\n",
        "# 200 4 4 9 4 9\n",
        "# 出力:200\n",
        "\n",
        "N = int(input())\n",
        "A = list(map(int,input().split()))"
      ],
      "execution_count": 119,
      "outputs": [
        {
          "output_type": "stream",
          "text": [
            "6\n",
            "200 4 4 9 4 9\n"
          ],
          "name": "stdout"
        }
      ]
    },
    {
      "cell_type": "markdown",
      "metadata": {
        "id": "DqHTF3yMnKtZ"
      },
      "source": [
        "最初の一回目で判定できないか？"
      ]
    },
    {
      "cell_type": "code",
      "metadata": {
        "colab": {
          "base_uri": "https://localhost:8080/"
        },
        "id": "cdxieDeDmZgW",
        "outputId": "696a0bbd-0775-4897-82c6-37726c9cd4c4"
      },
      "source": [
        "xs = []\n",
        "for l,x in enumerate(A):\n",
        "  B = A[l:]\n",
        "  for i,y in enumerate(B):\n",
        "    r = len(B)-i\n",
        "    x = B[:r][0]\n",
        "    n = sum( x<=Ai for Ai in B[:r])  #x ≤ Aiが成立する数\n",
        "    m = x*n if n == len(B[:r]) else -1\n",
        "    xs.append(m)\n",
        "print(max(xs))"
      ],
      "execution_count": 120,
      "outputs": [
        {
          "output_type": "stream",
          "text": [
            "200\n"
          ],
          "name": "stdout"
        }
      ]
    },
    {
      "cell_type": "code",
      "metadata": {
        "colab": {
          "base_uri": "https://localhost:8080/"
        },
        "id": "z_7yZg-bmaHl",
        "outputId": "59b8613c-c53b-48c8-b57b-1ce3cfef763c"
      },
      "source": [
        "xs = []\n",
        "for l in range(len(A)):\n",
        "  B = A[l:]\n",
        "  print(B)\n",
        "  for i in range(len(B)):\n",
        "    r = len(B)-i\n",
        "    x = B[:r][0]\n",
        "    n = sum( x<=Ai for Ai in B[:r])  #x ≤ Aiが成立する数\n",
        "    m = x*n if n == len(B[:r]) else -1\n",
        "    xs.append(m)\n",
        "print(max(xs))"
      ],
      "execution_count": 121,
      "outputs": [
        {
          "output_type": "stream",
          "text": [
            "[200, 4, 4, 9, 4, 9]\n",
            "[4, 4, 9, 4, 9]\n",
            "[4, 9, 4, 9]\n",
            "[9, 4, 9]\n",
            "[4, 9]\n",
            "[9]\n",
            "200\n"
          ],
          "name": "stdout"
        }
      ]
    },
    {
      "cell_type": "markdown",
      "metadata": {
        "id": "7dsQ-SxKhID0"
      },
      "source": [
        "コンパクトにしてみる"
      ]
    },
    {
      "cell_type": "code",
      "metadata": {
        "colab": {
          "base_uri": "https://localhost:8080/"
        },
        "id": "EKGfjGyVZZul",
        "outputId": "b196ce4d-f5df-43a3-fb8d-2552b7a7c217"
      },
      "source": [
        "#N = int(input())\r\n",
        "#A = list(map(int,input().split()))\r\n",
        "y = 0\r\n",
        "a = len(A)\r\n",
        "for l in range(a):\r\n",
        "  x = A[l:][0]\r\n",
        "  for i in range(a -l):\r\n",
        "    r = a -l -i\r\n",
        "    n = sum( x<=Ai for Ai in A[l:r])  #x ≤ Aiが成立する数\r\n",
        "    m = x*n if n == len(A[l:r]) else -1\r\n",
        "    y = m if m > y else y\r\n",
        "print(y)"
      ],
      "execution_count": 122,
      "outputs": [
        {
          "output_type": "stream",
          "text": [
            "200\n"
          ],
          "name": "stdout"
        }
      ]
    },
    {
      "cell_type": "code",
      "metadata": {
        "id": "dhn-Mz2HZh06"
      },
      "source": [
        "× 2\r\n",
        "× 1\r\n",
        "× 30"
      ],
      "execution_count": null,
      "outputs": []
    },
    {
      "cell_type": "markdown",
      "metadata": {
        "id": "WEU1ay_GiBf9"
      },
      "source": [
        "いまいち・・・"
      ]
    },
    {
      "cell_type": "code",
      "metadata": {
        "id": "foXh7g4y-crz"
      },
      "source": [
        "6\r\n",
        "2 4 4 9 4 9"
      ],
      "execution_count": null,
      "outputs": []
    },
    {
      "cell_type": "code",
      "metadata": {
        "colab": {
          "base_uri": "https://localhost:8080/"
        },
        "id": "mte0iAXP60eX",
        "outputId": "54c83593-1309-4fb9-d2ed-04e1abdb0b7f"
      },
      "source": [
        "#N = int(input())\r\n",
        "#A = list(map(int,input().split()))\r\n",
        "y = []\r\n",
        "a = len(A)\r\n",
        "for l in range(a):\r\n",
        "  x = A[l:][0]\r\n",
        "  n = 0\r\n",
        "  #print(A[l:])\r\n",
        "  for Ai in A[l:]:\r\n",
        "    if x <= Ai:\r\n",
        "      n += 1\r\n",
        "      m = x*n\r\n",
        "      y.append(m)\r\n",
        "      #print(n,x,Ai)\r\n",
        "    else:\r\n",
        "      #print(n,x,Ai)\r\n",
        "      break\r\n",
        "print(max(y))"
      ],
      "execution_count": 149,
      "outputs": [
        {
          "output_type": "stream",
          "text": [
            "200\n"
          ],
          "name": "stdout"
        }
      ]
    },
    {
      "cell_type": "code",
      "metadata": {
        "id": "rVgioaVuPRN7"
      },
      "source": [
        "AC× 10\r\n",
        "WA× 17\r\n",
        "TLE× 6"
      ],
      "execution_count": null,
      "outputs": []
    },
    {
      "cell_type": "markdown",
      "metadata": {
        "id": "9Vi9gSmSPSTP"
      },
      "source": [
        "はやくなったけどWAが出てきた。うーん。"
      ]
    },
    {
      "cell_type": "code",
      "metadata": {
        "colab": {
          "base_uri": "https://localhost:8080/"
        },
        "id": "hbxe0t1lM_WO",
        "outputId": "d52587c4-ba62-47d9-ba52-55d333bd9755"
      },
      "source": [
        "N = int(input())\r\n",
        "A = list(map(int,input().split()))\r\n",
        "y = []\r\n",
        "a = len(A)\r\n",
        "for l in range(a):\r\n",
        "  x = A[l]\r\n",
        "  n = 0\r\n",
        "  for Ai in A[l:]:\r\n",
        "    if x <= Ai:\r\n",
        "      n += 1\r\n",
        "      m = x*n\r\n",
        "      y.append(m)\r\n",
        "    else:\r\n",
        "      break\r\n",
        "print(max(y))"
      ],
      "execution_count": 159,
      "outputs": [
        {
          "output_type": "stream",
          "text": [
            "200\n"
          ],
          "name": "stdout"
        }
      ]
    },
    {
      "cell_type": "markdown",
      "metadata": {
        "id": "UZOnmjGNSp63"
      },
      "source": [
        "###答え見ちゃえ"
      ]
    },
    {
      "cell_type": "code",
      "metadata": {
        "id": "_qppMcuBSokn"
      },
      "source": [
        "#include<bits/stdc++.h>\r\n",
        "using namespace std;\r\n",
        "int a[10010];\r\n",
        "int main(){\r\n",
        "\tint n;\r\n",
        "\tcin >> n;\r\n",
        "\tfor(int i=0;i<n;i++)cin >> a[i];\r\n",
        "\tint ans=0;\r\n",
        "\tfor(int l=0;l<n;l++){\r\n",
        "\t\tint x=a[l];\r\n",
        "\t\tfor(int r=l;r<n;r++){\r\n",
        "\t\t\tx=min(x,a[r]);\r\n",
        "\t\t\tans=max(ans,x*(r-l+1));\r\n",
        "\t\t}\r\n",
        "\t}\r\n",
        "\tcout << ans;\r\n",
        "}"
      ],
      "execution_count": null,
      "outputs": []
    }
  ]
}