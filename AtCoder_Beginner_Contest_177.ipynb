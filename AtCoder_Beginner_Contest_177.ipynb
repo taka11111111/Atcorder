{
  "nbformat": 4,
  "nbformat_minor": 0,
  "metadata": {
    "colab": {
      "name": "AtCoder Beginner Contest 177",
      "provenance": [],
      "collapsed_sections": [],
      "authorship_tag": "ABX9TyPoFiIBEK6O0wrvFQ1PjEzM",
      "include_colab_link": true
    },
    "kernelspec": {
      "name": "python3",
      "display_name": "Python 3"
    }
  },
  "cells": [
    {
      "cell_type": "markdown",
      "metadata": {
        "id": "view-in-github",
        "colab_type": "text"
      },
      "source": [
        "<a href=\"https://colab.research.google.com/github/taka11111111/Atcorder/blob/main/AtCoder_Beginner_Contest_177.ipynb\" target=\"_parent\"><img src=\"https://colab.research.google.com/assets/colab-badge.svg\" alt=\"Open In Colab\"/></a>"
      ]
    },
    {
      "cell_type": "markdown",
      "metadata": {
        "id": "X7l4TMoZ-MAc"
      },
      "source": [
        "#[A - Don't be late](https://atcoder.jp/contests/abc177/tasks/abc177_a)"
      ]
    },
    {
      "cell_type": "code",
      "metadata": {
        "colab": {
          "base_uri": "https://localhost:8080/"
        },
        "id": "HLnVgzmO-HWI",
        "outputId": "1fd715f2-300a-4dc0-ba9d-f89a8a6f2d15"
      },
      "source": [
        "D,T,S = map(int,input().split())"
      ],
      "execution_count": 7,
      "outputs": [
        {
          "output_type": "stream",
          "text": [
            "10000 1 1\n"
          ],
          "name": "stdout"
        }
      ]
    },
    {
      "cell_type": "code",
      "metadata": {
        "colab": {
          "base_uri": "https://localhost:8080/"
        },
        "id": "q_9an8iTUbI2",
        "outputId": "b9ed68ba-9e5e-428b-90b0-6074a88f187b"
      },
      "source": [
        "D,T,S = map(int,input().split())\n",
        "ans = 'Yes' if S*T >= D else 'No'\n",
        "print(ans)"
      ],
      "execution_count": 8,
      "outputs": [
        {
          "output_type": "stream",
          "text": [
            "No\n"
          ],
          "name": "stdout"
        }
      ]
    },
    {
      "cell_type": "markdown",
      "metadata": {
        "id": "Yk3pk_h5-pMJ"
      },
      "source": [
        "#[B - Substring](https://atcoder.jp/contests/abc177/tasks/abc177_b)"
      ]
    },
    {
      "cell_type": "code",
      "metadata": {
        "colab": {
          "base_uri": "https://localhost:8080/"
        },
        "id": "Bqx8wXqw-dk2",
        "outputId": "ef8778eb-b4c0-40f0-ae5a-fc964d3f797d"
      },
      "source": [
        "S = input()\n",
        "T = input()"
      ],
      "execution_count": 9,
      "outputs": [
        {
          "output_type": "stream",
          "text": [
            "cabacc\n",
            "abc\n"
          ],
          "name": "stdout"
        }
      ]
    },
    {
      "cell_type": "code",
      "metadata": {
        "colab": {
          "base_uri": "https://localhost:8080/"
        },
        "id": "tfgnp4jk_AAr",
        "outputId": "788f5d3b-5755-4f2f-977e-dc13d356ad02"
      },
      "source": [
        "T in S"
      ],
      "execution_count": 17,
      "outputs": [
        {
          "output_type": "execute_result",
          "data": {
            "text/plain": [
              "False"
            ]
          },
          "metadata": {
            "tags": []
          },
          "execution_count": 17
        }
      ]
    },
    {
      "cell_type": "code",
      "metadata": {
        "colab": {
          "base_uri": "https://localhost:8080/",
          "height": 35
        },
        "id": "OwXA-hF4WKIA",
        "outputId": "afd4c561-f8e7-4ce3-f34b-7137df935c66"
      },
      "source": [
        "T[0:2]"
      ],
      "execution_count": 18,
      "outputs": [
        {
          "output_type": "execute_result",
          "data": {
            "application/vnd.google.colaboratory.intrinsic+json": {
              "type": "string"
            },
            "text/plain": [
              "'a'"
            ]
          },
          "metadata": {
            "tags": []
          },
          "execution_count": 18
        }
      ]
    },
    {
      "cell_type": "code",
      "metadata": {
        "colab": {
          "base_uri": "https://localhost:8080/"
        },
        "id": "24NYCdZQWZcx",
        "outputId": "e172bea6-2ee4-45f4-ba4c-1b1b01f8f33b"
      },
      "source": [
        "T[0:2] in S"
      ],
      "execution_count": 20,
      "outputs": [
        {
          "output_type": "execute_result",
          "data": {
            "text/plain": [
              "True"
            ]
          },
          "metadata": {
            "tags": []
          },
          "execution_count": 20
        }
      ]
    },
    {
      "cell_type": "code",
      "metadata": {
        "colab": {
          "base_uri": "https://localhost:8080/"
        },
        "id": "tH6SRFRKWl64",
        "outputId": "4b2fcda2-33fe-4b4a-a31f-8b55de54ae7b"
      },
      "source": [
        "T[1:3] in S"
      ],
      "execution_count": 21,
      "outputs": [
        {
          "output_type": "execute_result",
          "data": {
            "text/plain": [
              "False"
            ]
          },
          "metadata": {
            "tags": []
          },
          "execution_count": 21
        }
      ]
    },
    {
      "cell_type": "code",
      "metadata": {
        "colab": {
          "base_uri": "https://localhost:8080/"
        },
        "id": "8IDC5E9FWvBl",
        "outputId": "3841ad47-8ea2-40dd-d195-82221338f623"
      },
      "source": [
        "S = 'codeforces'\n",
        "T = 'atcoder'\n",
        "ans = 0\n",
        "le = len(T) \n",
        "for l in range(le-1):\n",
        "  lee = le -l\n",
        "  #print(lee)\n",
        "  for i in range(le):\n",
        "    key = T[i:i+lee]\n",
        "    #print(key)\n",
        "    if T[i:i+lee] in S:\n",
        "      ans = lee\n",
        "      break\n",
        "    if i+lee == le:\n",
        "      break\n",
        "print(ans)"
      ],
      "execution_count": 108,
      "outputs": [
        {
          "output_type": "stream",
          "text": [
            "2\n"
          ],
          "name": "stdout"
        }
      ]
    },
    {
      "cell_type": "markdown",
      "metadata": {
        "id": "BqhFM6tUjLaR"
      },
      "source": [
        "おしい！！！"
      ]
    },
    {
      "cell_type": "code",
      "metadata": {
        "colab": {
          "base_uri": "https://localhost:8080/"
        },
        "id": "_N2qXH96XYiH",
        "outputId": "8cf44a84-5991-4fe8-8f0c-4fd56ec51af1"
      },
      "source": [
        "S = 'codeforces'\n",
        "T = 'atcoder'\n",
        "#S = input()\n",
        "#T = input()\n",
        "ans = 0\n",
        "le = len(T) \n",
        "for l in range(le):\n",
        "  lee = le -l\n",
        "  #print(lee)\n",
        "  for i in range(le):\n",
        "    key = T[i:i+lee]\n",
        "    #print(key,S.find(key),i)\n",
        "    if S.find(key) >= i:\n",
        "      ans = lee\n",
        "      #print(ans)\n",
        "      break\n",
        "    if i+lee == le:\n",
        "      break\n",
        "print(le-ans)"
      ],
      "execution_count": 120,
      "outputs": [
        {
          "output_type": "stream",
          "text": [
            "1\n",
            "6\n"
          ],
          "name": "stdout"
        }
      ]
    },
    {
      "cell_type": "markdown",
      "metadata": {
        "id": "8RANA9lcqeIP"
      },
      "source": [
        "\n",
        "AC× 4\n",
        "WA× 10\n",
        "\n",
        "ありゃ・・・\n",
        "\n",
        "\n",
        "フラグでひっかけて外側でキャッチしてみる。"
      ]
    },
    {
      "cell_type": "code",
      "metadata": {
        "colab": {
          "base_uri": "https://localhost:8080/"
        },
        "id": "PYz4G9z3ype_",
        "outputId": "07a0e447-9078-4aa1-a452-7a820b2b7fc0"
      },
      "source": [
        "#S = 'codeforces'\n",
        "#T = 'atcoder'\n",
        "S = 'cabacc'\n",
        "T = 'abc'\n",
        "#S = input()\n",
        "#T = input()\n",
        "ans = 0\n",
        "le = len(T) \n",
        "flag = False\n",
        "for l in range(le):\n",
        "  lee = le -l\n",
        "  #print('lee:',lee)\n",
        "  for i in range(le):\n",
        "    key = T[i:i+lee]\n",
        "    #print(key,S.find(key),i)\n",
        "    if S.find(key) >= i:\n",
        "      ans = lee\n",
        "      #print('ans:',ans)\n",
        "      flag = True\n",
        "      #break\n",
        "    if i+lee == le:\n",
        "      break\n",
        "  if flag:\n",
        "    break\n",
        "print(le-ans)"
      ],
      "execution_count": 170,
      "outputs": [
        {
          "output_type": "stream",
          "text": [
            "1\n"
          ],
          "name": "stdout"
        }
      ]
    },
    {
      "cell_type": "markdown",
      "metadata": {
        "id": "4iNrYDgWzhye"
      },
      "source": [
        "AC× 8\n",
        "WA× 6\n",
        "\n",
        "うーーーん"
      ]
    },
    {
      "cell_type": "code",
      "metadata": {
        "colab": {
          "base_uri": "https://localhost:8080/"
        },
        "id": "GPM3ZJ0Kz-kL",
        "outputId": "7c138063-91ec-4b35-a22a-f9140527358c"
      },
      "source": [
        "S = 'codeforces'\n",
        "T = 'atcoder'\n",
        "#S = 'cabacc'\n",
        "#T = 'abc'\n",
        "S = input()\n",
        "T = input()\n",
        "ans = 0\n",
        "le = len(T) \n",
        "for l in range(le):\n",
        "  lee = le -l\n",
        "  for i in range(le):\n",
        "    key = T[i:i+lee]\n",
        "    if S.find(key) >= i :\n",
        "      break\n",
        "  else:\n",
        "    continue\n",
        "  break\n",
        "print(le-len(key))"
      ],
      "execution_count": 183,
      "outputs": [
        {
          "output_type": "stream",
          "text": [
            "6\n"
          ],
          "name": "stdout"
        }
      ]
    },
    {
      "cell_type": "markdown",
      "metadata": {
        "id": "Vrz01tf81u4b"
      },
      "source": [
        "\n",
        "AC× 6\n",
        "WA× 8\n",
        "\n",
        "いったんリストにぜんぶとってみる\n"
      ]
    },
    {
      "cell_type": "code",
      "metadata": {
        "colab": {
          "base_uri": "https://localhost:8080/"
        },
        "id": "6Dwphj1k0vdg",
        "outputId": "ab287315-9ea8-4d7d-f6c0-2421f3cd1173"
      },
      "source": [
        "S = 'codeforces'\n",
        "T = 'atcoder'\n",
        "#S = 'cabacc'\n",
        "#T = 'abc'\n",
        "S = input()\n",
        "T = input()\n",
        "lis = []\n",
        "le = len(T) \n",
        "for l in range(le):\n",
        "  for i in range(le):\n",
        "    key = T[i:le-l]\n",
        "    #print(i,l,key)\n",
        "    if S.find(key) >= i:\n",
        "      lis.append(len(key))\n",
        "print(le-max(lis))"
      ],
      "execution_count": 220,
      "outputs": [
        {
          "output_type": "stream",
          "text": [
            "6\n"
          ],
          "name": "stdout"
        }
      ]
    },
    {
      "cell_type": "code",
      "metadata": {
        "id": "3SO67AjA68J4"
      },
      "source": [
        "AC× 6\n",
        "WA× 6\n",
        "RE× 2"
      ],
      "execution_count": null,
      "outputs": []
    },
    {
      "cell_type": "code",
      "metadata": {
        "colab": {
          "base_uri": "https://localhost:8080/"
        },
        "id": "5dfCn3W92o__",
        "outputId": "79100642-059e-4d98-ce9b-f5e5367a2933"
      },
      "source": [
        "#S = 'codeforces'\n",
        "#T = 'atcoder'\n",
        "S = 'cabacc'\n",
        "T = 'abc'\n",
        "S = input()\n",
        "T = input()\n",
        "lis = []\n",
        "le = len(T) \n",
        "for i in range(le):\n",
        "  for l in range(le-i):\n",
        "    key = T[i:le-l]\n",
        "    if S.find(key) >= i:\n",
        "      lis.append(len(key))\n",
        "#ans = [i for i in lis if i in S ]\n",
        "#ans = [len(i) for i in lis if S.find(i) >= T.find(i) ]\n",
        "print(le -max(lis))"
      ],
      "execution_count": 261,
      "outputs": [
        {
          "output_type": "stream",
          "text": [
            "1\n"
          ],
          "name": "stdout"
        }
      ]
    },
    {
      "cell_type": "code",
      "metadata": {
        "colab": {
          "base_uri": "https://localhost:8080/"
        },
        "id": "UEh00XCo-thV",
        "outputId": "ba74c69d-035b-47ba-e6d2-0e833c02d5cc"
      },
      "source": [
        "S = 'codeforces'\n",
        "T = 'atcoder'\n",
        "#S = 'cabacc'\n",
        "#T = 'abc'\n",
        "#S = 'xxxxcodeforcesrxxxxx'\n",
        "#T = 'atcoder'\n",
        "S = input()\n",
        "T = input()\n",
        "le = len(T) \n",
        "for i in range(le):\n",
        "  for l in range(le-i):\n",
        "    key = T[i:le-l]\n",
        "    if S.find(key) >= i:\n",
        "      ans = le-len(key)\n",
        "      break\n",
        "  else:\n",
        "    continue\n",
        "  break\n",
        "print(ans)"
      ],
      "execution_count": 271,
      "outputs": [
        {
          "output_type": "stream",
          "text": [
            "6\n"
          ],
          "name": "stdout"
        }
      ]
    },
    {
      "cell_type": "code",
      "metadata": {
        "colab": {
          "base_uri": "https://localhost:8080/"
        },
        "id": "CXSqVIV1_lq5",
        "outputId": "92e35259-2296-49db-f885-184b4bdaeeaf"
      },
      "source": [
        "AC× 6\n",
        "WA× 6\n",
        "RE× 2"
      ],
      "execution_count": 269,
      "outputs": [
        {
          "output_type": "execute_result",
          "data": {
            "text/plain": [
              "4"
            ]
          },
          "metadata": {
            "tags": []
          },
          "execution_count": 269
        }
      ]
    },
    {
      "cell_type": "code",
      "metadata": {
        "colab": {
          "base_uri": "https://localhost:8080/"
        },
        "id": "_BDdWAoUCFyF",
        "outputId": "e8ca2f2d-7509-46c7-91f7-b4bb0e3283a3"
      },
      "source": [
        "for l in range(10,0,-1):\n",
        "  print(l)"
      ],
      "execution_count": 277,
      "outputs": [
        {
          "output_type": "stream",
          "text": [
            "10\n",
            "9\n",
            "8\n",
            "7\n",
            "6\n",
            "5\n",
            "4\n",
            "3\n",
            "2\n",
            "1\n"
          ],
          "name": "stdout"
        }
      ]
    },
    {
      "cell_type": "code",
      "metadata": {
        "colab": {
          "base_uri": "https://localhost:8080/"
        },
        "id": "DBTW_pE_Ag9X",
        "outputId": "cf7033b5-de94-4c50-a254-4d2c2b33efbd"
      },
      "source": [
        "S = 'codeforce'\n",
        "T = 'atcode'\n",
        "#S = 'cabacc'\n",
        "#T = 'abc'\n",
        "#S = 'xxxxcodeforcesrxxxxx'\n",
        "#T = 'atcoder'\n",
        "#S = input()\n",
        "#T = input()\n",
        "le = len(T) \n",
        "for i in range(le):\n",
        "  print('----',i,'------')\n",
        "  for l in range(i+1):\n",
        "    key = T[l:l+(le-i)]\n",
        "    print(key,i,l,(le-i))\n",
        "    if S.find(key) >= l:\n",
        "      break\n",
        "  else:\n",
        "    continue\n",
        "  break\n",
        "print('----------')\n",
        "print(le-len(key))\n",
        "print(key,S.find(key),l)"
      ],
      "execution_count": 375,
      "outputs": [
        {
          "output_type": "stream",
          "text": [
            "---- 0 ------\n",
            "atcode 0 0 6\n",
            "---- 1 ------\n",
            "atcod 1 0 5\n",
            "tcode 1 1 5\n",
            "---- 2 ------\n",
            "atco 2 0 4\n",
            "tcod 2 1 4\n",
            "code 2 2 4\n",
            "---- 3 ------\n",
            "atc 3 0 3\n",
            "tco 3 1 3\n",
            "cod 3 2 3\n",
            "ode 3 3 3\n",
            "---- 4 ------\n",
            "at 4 0 2\n",
            "tc 4 1 2\n",
            "co 4 2 2\n",
            "od 4 3 2\n",
            "de 4 4 2\n",
            "---- 5 ------\n",
            "a 5 0 1\n",
            "t 5 1 1\n",
            "c 5 2 1\n",
            "o 5 3 1\n",
            "d 5 4 1\n",
            "e 5 5 1\n",
            "----------\n",
            "5\n",
            "e 3 5\n"
          ],
          "name": "stdout"
        }
      ]
    },
    {
      "cell_type": "markdown",
      "metadata": {
        "id": "Kx3OTkX3m2_-"
      },
      "source": [
        "そうか、findだと一番目に一致したところしか探せない！！！"
      ]
    },
    {
      "cell_type": "code",
      "metadata": {
        "colab": {
          "base_uri": "https://localhost:8080/"
        },
        "id": "h1IHVPhojWFl",
        "outputId": "4ed0f6a2-91af-4bca-abc8-eca9021aed35"
      },
      "source": [
        "S = 'codeforce'\n",
        "T = 'atcode'\n",
        "#S = 'cabacc'\n",
        "#T = 'abc'\n",
        "#S = 'xxxxcodeforcesrxxxxx'\n",
        "#T = 'atcoder'\n",
        "#S = input()\n",
        "#T = input()\n",
        "le = len(T) \n",
        "for i in range(le):\n",
        "  print('----',i,'------')\n",
        "  for l in range(i+1):\n",
        "    key = T[l:l+(le-i)]\n",
        "    print(key,l,(le-i))\n",
        "    if S.find(key) >= l:\n",
        "      break\n",
        "  else:\n",
        "    continue\n",
        "  break\n",
        "print('----------')\n",
        "print(le-len(key))\n",
        "print(key,S.find(key),l)"
      ],
      "execution_count": 376,
      "outputs": [
        {
          "output_type": "stream",
          "text": [
            "---- 0 ------\n",
            "atcode 0 6\n",
            "---- 1 ------\n",
            "atcod 0 5\n",
            "tcode 1 5\n",
            "---- 2 ------\n",
            "atco 0 4\n",
            "tcod 1 4\n",
            "code 2 4\n",
            "---- 3 ------\n",
            "atc 0 3\n",
            "tco 1 3\n",
            "cod 2 3\n",
            "ode 3 3\n",
            "---- 4 ------\n",
            "at 0 2\n",
            "tc 1 2\n",
            "co 2 2\n",
            "od 3 2\n",
            "de 4 2\n",
            "---- 5 ------\n",
            "a 0 1\n",
            "t 1 1\n",
            "c 2 1\n",
            "o 3 1\n",
            "d 4 1\n",
            "e 5 1\n",
            "----------\n",
            "5\n",
            "e 3 5\n"
          ],
          "name": "stdout"
        }
      ]
    },
    {
      "cell_type": "code",
      "metadata": {
        "id": "xiO1NLNJjeT9"
      },
      "source": [
        ""
      ],
      "execution_count": null,
      "outputs": []
    }
  ]
}